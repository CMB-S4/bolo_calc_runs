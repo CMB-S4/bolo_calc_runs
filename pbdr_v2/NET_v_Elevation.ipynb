{
 "cells": [
  {
   "cell_type": "code",
   "execution_count": 2,
   "metadata": {},
   "outputs": [],
   "source": [
    "# Standard imports\n",
    "import numpy as np\n",
    "import yaml\n",
    "import toml\n",
    "from datetime import datetime\n",
    "import matplotlib\n",
    "import matplotlib.pyplot as plt\n",
    "\n",
    "%matplotlib inline  \n",
    "plt.rcParams.update({'font.size': 18})\n",
    "plt.rcParams['figure.figsize'] = [12, 20]\n",
    "\n",
    "# bolo-calc import\n",
    "from bolo import Top\n",
    "\n",
    "import BoloCalcVariation as bcv"
   ]
  },
  {
   "cell_type": "code",
   "execution_count": 3,
   "metadata": {},
   "outputs": [],
   "source": [
    "# Set up inputs\n",
    "\n",
    "# yaml files to use\n",
    "telescopes = dict.fromkeys(['CHLAT_20210605.yaml', 'SPLAT_20210605.yaml', 'SAT_pole_20210605.yaml'])\n",
    "\n",
    "#read fixed PSATs from .toml file\n",
    "psat = toml.load(\"FixedPsats.toml\")\n",
    "\n",
    "# input parameter to vary\n",
    "xparam_name = 'elevation'\n",
    "xparam_vec = np.arange(30,70,1)\n",
    "# in_param possible values:\n",
    "#  'band_response', 'num_wafer_per_optics_tube', 'num_optics_tube', \n",
    "#  'waist_factor', 'psat', 'psat_factor', 'carrier_index', 'Tc', 'Tc_fraction', \n",
    "#  'G', 'Flink', 'Yield', 'response_factor', 'bolo_resistance', 'read_frac'\n",
    "\n",
    "# output parameter to plot and save.\n",
    "yparam_name = 'NET' #\n",
    "# out_param possible values:\n",
    "#  'effic', 'opt_power','tel_rj_temp','sky_rj_temp','NEP_bolo',\n",
    "#  'NEP_read','NEP_ph','NEP','NET','NET_corr','corr_fact','NET_arr'"
   ]
  },
  {
   "cell_type": "markdown",
   "metadata": {},
   "source": [
    "# Run CHLAT"
   ]
  },
  {
   "cell_type": "code",
   "execution_count": 5,
   "metadata": {},
   "outputs": [],
   "source": [
    "telescopes[\"runtime\"] = datetime.today().strftime('%Y/%m/%d %H:%M:%S')\n",
    "telescopes[\"input_id\"] = version_date\n",
    "telescopes[\"variation\"] = out_param + '_v_' + in_param\n",
    "\n",
    "output_file_name = telescopes['variation'] + '.toml'\n",
    "\n",
    "with open('outputs/' + output_file_name, \"w\") as toml_file:\n",
    "    toml.dump(telescopes, toml_file, encoder=toml.TomlNumpyEncoder())"
   ]
  }
 ],
 "metadata": {
  "kernelspec": {
   "display_name": "Python 3",
   "language": "python",
   "name": "python3"
  },
  "language_info": {
   "codemirror_mode": {
    "name": "ipython",
    "version": 3
   },
   "file_extension": ".py",
   "mimetype": "text/x-python",
   "name": "python",
   "nbconvert_exporter": "python",
   "pygments_lexer": "ipython3",
   "version": "3.8.5"
  }
 },
 "nbformat": 4,
 "nbformat_minor": 4
}
