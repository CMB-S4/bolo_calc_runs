{
 "cells": [
  {
   "cell_type": "markdown",
   "metadata": {},
   "source": [
    "# Set Fixed Psats\n",
    "\n",
    "Read default yaml files, write out fixed Psats according to a prescription.\n",
    "\n",
    "LATS:  CHLAT and SPLAT use average value.\n",
    "SPLAT:  MF1_1 and MF2_1 averaged, same for MF1_2 and MF2_2"
   ]
  },
  {
   "cell_type": "code",
   "execution_count": 1,
   "metadata": {},
   "outputs": [
    {
     "name": "stdout",
     "output_type": "stream",
     "text": [
      "CHLAT_20210605.yaml    SAT_pole_20210605.yaml SPLAT_20210605.yaml\r\n"
     ]
    }
   ],
   "source": [
    "# See what yaml files are locally available.\n",
    "!ls *.yaml"
   ]
  },
  {
   "cell_type": "code",
   "execution_count": 2,
   "metadata": {},
   "outputs": [],
   "source": [
    "# Standard imports\n",
    "import numpy as np\n",
    "import yaml\n",
    "import toml\n",
    "import matplotlib\n",
    "import matplotlib.pyplot as plt\n",
    "%matplotlib inline  \n",
    "plt.rcParams.update({'font.size': 18})\n",
    "plt.rcParams['figure.figsize'] = [12, 20]\n",
    "\n",
    "# bolo-calc import\n",
    "from bolo import Top"
   ]
  },
  {
   "cell_type": "code",
   "execution_count": 3,
   "metadata": {},
   "outputs": [
    {
     "name": "stdout",
     "output_type": "stream",
     "text": [
      "Psats derived from optical power and Psat safety factor\n",
      "CHLAT     Psat(pW)\n",
      "LF_1  :     0.69\n",
      "LF_2  :     3.63\n",
      "MF_1  :     4.14\n",
      "MF_2  :    12.88\n",
      "UHF_1 :    37.51\n",
      "UHF_2 :    55.28\n",
      " \n",
      "SPLAT     Psat(pW)\n",
      "ULF_1 :     0.41\n",
      "LF_1  :     0.69\n",
      "LF_2  :     4.30\n",
      "MF_1  :     4.66\n",
      "MF_2  :    11.52\n",
      "UHF_1 :    29.10\n",
      "UHF_2 :    39.99\n",
      " \n",
      "SAT_pole  Psat(pW)\n",
      "LF_1  :     1.41\n",
      "LF_2  :     6.13\n",
      "MF1_1 :     7.39\n",
      "MF1_2 :    12.21\n",
      "MF2_1 :     7.66\n",
      "MF2_2 :    13.29\n",
      "UHF_1 :    29.96\n",
      "UHF_2 :    39.16\n",
      " \n",
      "===========================================================\n",
      "LAT Psats (Average of CHLAT and SPLAT for common bands)\n",
      "ULF_1 :    0.406\n",
      "LF_1  :    0.686\n",
      "LF_2  :    3.965\n",
      "MF_1  :    4.401\n",
      "MF_2  :   12.199\n",
      "UHF_1 :   33.308\n",
      "UHF_2 :   47.636\n",
      "======================\n",
      "SAT Psats (Average of _1 and _2 in MF bands)\n",
      "LF_1  :    1.408\n",
      "LF_2  :    6.133\n",
      "MF1_1 :    7.520\n",
      "MF2_1 :    7.520\n",
      "MF1_2 :   12.750\n",
      "MF2_2 :   12.750\n",
      "UHF_1 :   29.959\n",
      "UHF_2 :   39.164\n"
     ]
    }
   ],
   "source": [
    "data = {}\n",
    "fixed_psats = {}\n",
    "yamlfiles = {'CHLAT':'CHLAT_20210605',\n",
    "             'SPLAT':'SPLAT_20210605',\n",
    "             'SAT'  :'SAT_pole_20210605'}\n",
    "\n",
    "print('Psats derived from optical power and Psat safety factor')\n",
    "for tel in yamlfiles.keys(): \n",
    "    yamlfile = yamlfiles[tel]+'.yaml'\n",
    "    fixed_psats[yamlfiles[tel]]={}\n",
    "    dd = yaml.safe_load(open(yamlfile))\n",
    "    version_date = str(dd['version']['date'])\n",
    "    telescope = str(dd['version']['name'])\n",
    "    data[telescope] = {}\n",
    "    print('{0:8s}  Psat(pW)'.format(telescope))\n",
    "    del dd['version']\n",
    "\n",
    "    # location of atmosphere file\n",
    "    dd['sim_config']['config_dir'] = '../../bolo-calc/config'\n",
    "\n",
    "    top = Top(**dd)\n",
    "    top.run()\n",
    "    \n",
    "    for chan in top.instrument.tables.keys():\n",
    "        if chan.split('_')[0] == 'cam' :\n",
    "            chname = chan.split('_')[2] + '_' + chan.split('_')[3]\n",
    "            data[telescope][chname] = {}\n",
    "            #\n",
    "            # Grab things we're going to print and give them short names and store them in the dictionary.\n",
    "            psat = top.instrument.tables[chan]['P_sat'][0]\n",
    "            data[telescope][chname]['psat'] = psat\n",
    "            \n",
    "            print('{0:5s} : {1:8.2f}'.format(chname,psat))\n",
    "    print(' ')\n",
    "\n",
    "\n",
    "# how many decimals to round to.\n",
    "ddd = 3\n",
    "\n",
    "print('===========================================================')\n",
    "print('LAT Psats (Average of CHLAT and SPLAT for common bands)')\n",
    "chan = 'ULF_1'\n",
    "fixed_psats[yamlfiles['SPLAT']][chan]= np.round(data['SPLAT'][chan]['psat'],ddd)\n",
    "print('{0:5s} : {1:8.3f}'.format(chan,data['SPLAT'][chan]['psat']))\n",
    "for chan in data['CHLAT'].keys():\n",
    "    psat_avg = np.round((data['CHLAT'][chan]['psat'] + data['SPLAT'][chan]['psat'])/2,ddd)\n",
    "    fixed_psats[yamlfiles['CHLAT']][chan]= psat_avg\n",
    "    fixed_psats[yamlfiles['SPLAT']][chan]= psat_avg\n",
    "    print('{0:5s} : {1:8.3f}'.format(chan,psat_avg))\n",
    "    \n",
    "\n",
    "print('======================')\n",
    "print('SAT Psats (Average of _1 and _2 in MF bands)')\n",
    "\n",
    "fixed_psats[yamlfiles['SAT']]['LF_1']= np.round(data['SAT_pole']['LF_1']['psat'],ddd)\n",
    "fixed_psats[yamlfiles['SAT']]['LF_2']= np.round(data['SAT_pole']['LF_2']['psat'],ddd)\n",
    "\n",
    "avg90 = np.round((data['SAT_pole']['MF1_1']['psat'] + data['SAT_pole']['MF2_1']['psat'])/2,ddd)\n",
    "fixed_psats[yamlfiles['SAT']]['MF1_1']= avg90\n",
    "fixed_psats[yamlfiles['SAT']]['MF2_1']= avg90\n",
    "#\n",
    "avg150 = np.round((data['SAT_pole']['MF1_2']['psat'] + data['SAT_pole']['MF2_2']['psat'])/2,ddd)\n",
    "fixed_psats[yamlfiles['SAT']]['MF1_2']= avg150\n",
    "fixed_psats[yamlfiles['SAT']]['MF2_2']= avg150\n",
    "\n",
    "fixed_psats[yamlfiles['SAT']]['UHF_1']= np.round(data['SAT_pole']['UHF_1']['psat'],ddd)\n",
    "fixed_psats[yamlfiles['SAT']]['UHF_2']= np.round(data['SAT_pole']['UHF_2']['psat'],ddd)\n",
    "\n",
    "for chan in fixed_psats[yamlfiles['SAT']].keys():\n",
    "    print('{0:5s} : {1:8.3f}'.format(chan,fixed_psats[yamlfiles['SAT']][chan]))     \n",
    "    "
   ]
  },
  {
   "cell_type": "markdown",
   "metadata": {},
   "source": [
    "# Save fixed psats to toml file."
   ]
  },
  {
   "cell_type": "code",
   "execution_count": 4,
   "metadata": {},
   "outputs": [],
   "source": [
    "# Write to toml file\n",
    "with open('FixedPsats.toml', \"w\") as toml_file:\n",
    "    toml.dump(fixed_psats, toml_file, encoder=toml.TomlNumpyEncoder())"
   ]
  },
  {
   "cell_type": "code",
   "execution_count": null,
   "metadata": {},
   "outputs": [],
   "source": []
  }
 ],
 "metadata": {
  "kernelspec": {
   "display_name": "Python 3",
   "language": "python",
   "name": "python3"
  },
  "language_info": {
   "codemirror_mode": {
    "name": "ipython",
    "version": 3
   },
   "file_extension": ".py",
   "mimetype": "text/x-python",
   "name": "python",
   "nbconvert_exporter": "python",
   "pygments_lexer": "ipython3",
   "version": "3.8.3"
  }
 },
 "nbformat": 4,
 "nbformat_minor": 5
}
