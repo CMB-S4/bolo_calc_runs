{
 "cells": [
  {
   "cell_type": "markdown",
   "metadata": {},
   "source": [
    "## Run default configurations\n",
    "Print out Psats, NET, NET_wafer"
   ]
  },
  {
   "cell_type": "code",
   "execution_count": 85,
   "metadata": {},
   "outputs": [
    {
     "name": "stdout",
     "output_type": "stream",
     "text": [
      "CHLAT_20210605.yaml    SAT_pole_20210605.yaml SPLAT_20210605.yaml\r\n"
     ]
    }
   ],
   "source": [
    "# See what yaml files are locally available.\n",
    "!ls *.yaml"
   ]
  },
  {
   "cell_type": "code",
   "execution_count": 86,
   "metadata": {},
   "outputs": [],
   "source": [
    "# Standard imports\n",
    "import numpy as np\n",
    "import yaml\n",
    "import matplotlib\n",
    "import matplotlib.pyplot as plt\n",
    "%matplotlib inline  \n",
    "plt.rcParams.update({'font.size': 18})\n",
    "plt.rcParams['figure.figsize'] = [12, 20]\n",
    "\n",
    "# bolo-calc import\n",
    "from bolo import Top\n",
    "\n",
    "yamlfiles = ['CHLAT_20210605.yaml','SPLAT_20210605.yaml','SAT_pole_20210605.yaml']"
   ]
  },
  {
   "cell_type": "markdown",
   "metadata": {},
   "source": [
    "### Read a yaml file into a python dictionary\n",
    "then run bolocalc on it."
   ]
  },
  {
   "cell_type": "code",
   "execution_count": 87,
   "metadata": {},
   "outputs": [
    {
     "name": "stdout",
     "output_type": "stream",
     "text": [
      "CHLAT      Psat(pW)   NET    NET_wafer\n",
      "LF_1  :     0.69   276.86    31.59\n",
      "LF_2  :     3.63   226.54    25.85\n",
      "MF_1  :     4.14   259.23     9.86\n",
      "MF_2  :    12.88   290.68    11.06\n",
      "UHF_1 :    37.51   666.77    24.34\n",
      "UHF_2 :    55.28  1660.58    60.62\n",
      " \n",
      "SPLAT      Psat(pW)   NET    NET_wafer\n",
      "ULF_1 :     0.41   329.25    50.09\n",
      "LF_1  :     0.69   278.58    31.79\n",
      "LF_2  :     4.30   268.29    30.61\n",
      "MF_1  :     4.66   285.15    10.85\n",
      "MF_2  :    11.52   265.16    10.09\n",
      "UHF_1 :    29.10   537.05    19.60\n",
      "UHF_2 :    39.99  1233.60    45.03\n",
      " \n",
      "SAT_pole   Psat(pW)   NET    NET_wafer\n",
      "LF_1  :     1.41   169.24    22.00\n",
      "LF_2  :     6.13   204.13    26.53\n",
      "MF1_1 :     7.39   289.08    18.85\n",
      "MF1_2 :    12.21   279.36    18.22\n",
      "MF2_1 :     7.66   248.17    16.18\n",
      "MF2_2 :    13.29   297.25    19.38\n",
      "UHF_1 :    29.96   610.44    22.28\n",
      "UHF_2 :    39.16  1440.43    52.58\n",
      " \n"
     ]
    }
   ],
   "source": [
    "yamlfile = yamlfiles[0]\n",
    "\n",
    "for yamlfile in yamlfiles:\n",
    "    dd = yaml.safe_load(open(yamlfile))\n",
    "    version_date = str(dd['version']['date'])\n",
    "    version_telescope = str(dd['version']['name'])\n",
    "    print('{0:8s}   Psat(pW)   NET    NET_wafer'.format(version_telescope))\n",
    "    del dd['version']\n",
    "\n",
    "    # location of atmosphere file\n",
    "    dd['sim_config']['config_dir'] = '../../bolo-calc/config'\n",
    "\n",
    "    top = Top(**dd)\n",
    "    top.run()\n",
    "    for chan in top.instrument.tables.keys():\n",
    "        if chan.split('_')[0] == 'cam' :\n",
    "            chname = chan.split('_')[2] + '_' + chan.split('_')[3]\n",
    "            psat = top.instrument.tables[chan]['P_sat'][0]\n",
    "            net = top.instrument.tables[chan]['NET'][0]\n",
    "            netwafer = top.instrument.tables[chan]['NET_arr'][0]\n",
    "            print('{0:5s} : {1:8.2f} {2:8.2f} {3:8.2f}'.format(chname,psat,net,netwafer) )\n",
    "    print(' ')"
   ]
  },
  {
   "cell_type": "code",
   "execution_count": 88,
   "metadata": {},
   "outputs": [
    {
     "data": {
      "text/plain": [
       "25.75"
      ]
     },
     "execution_count": 88,
     "metadata": {},
     "output_type": "execute_result"
    }
   ],
   "source": [
    "dd['instrument']['camera_config']['elements']['cam_1']['chan_config']['elements']['LF_1']['band_center']"
   ]
  },
  {
   "cell_type": "code",
   "execution_count": 90,
   "metadata": {},
   "outputs": [
    {
     "name": "stdout",
     "output_type": "stream",
     "text": [
      "CHLAT      Psat(pW)   NET    NET_wafer\n"
     ]
    },
    {
     "name": "stderr",
     "output_type": "stream",
     "text": [
      "<ipython-input-90-674eca884b3f>:46: MatplotlibDeprecationWarning: Adding an axes using the same arguments as a previous axes currently reuses the earlier instance.  In a future version, a new instance will always be created and returned.  Meanwhile, this warning can be suppressed, and the future behavior ensured, by passing a unique label to each axes instance.\n",
      "  plt.subplot(4,1,1)\n",
      "<ipython-input-90-674eca884b3f>:53: MatplotlibDeprecationWarning: Adding an axes using the same arguments as a previous axes currently reuses the earlier instance.  In a future version, a new instance will always be created and returned.  Meanwhile, this warning can be suppressed, and the future behavior ensured, by passing a unique label to each axes instance.\n",
      "  plt.subplot(4,1,2)\n",
      "<ipython-input-90-674eca884b3f>:59: MatplotlibDeprecationWarning: Adding an axes using the same arguments as a previous axes currently reuses the earlier instance.  In a future version, a new instance will always be created and returned.  Meanwhile, this warning can be suppressed, and the future behavior ensured, by passing a unique label to each axes instance.\n",
      "  plt.subplot(4,1,3)\n",
      "<ipython-input-90-674eca884b3f>:65: MatplotlibDeprecationWarning: Adding an axes using the same arguments as a previous axes currently reuses the earlier instance.  In a future version, a new instance will always be created and returned.  Meanwhile, this warning can be suppressed, and the future behavior ensured, by passing a unique label to each axes instance.\n",
      "  plt.subplot(4,1,4)\n",
      "<ipython-input-90-674eca884b3f>:72: MatplotlibDeprecationWarning: Adding an axes using the same arguments as a previous axes currently reuses the earlier instance.  In a future version, a new instance will always be created and returned.  Meanwhile, this warning can be suppressed, and the future behavior ensured, by passing a unique label to each axes instance.\n",
      "  plt.subplot(4,1,1)\n"
     ]
    },
    {
     "name": "stdout",
     "output_type": "stream",
     "text": [
      "SPLAT      Psat(pW)   NET    NET_wafer\n",
      "SAT_pole   Psat(pW)   NET    NET_wafer\n"
     ]
    },
    {
     "data": {
      "image/png": "[encoded data removed]",
      "text/plain": [
       "<Figure size 864x1440 with 4 Axes>"
      ]
     },
     "metadata": {
      "needs_background": "light"
     },
     "output_type": "display_data"
    }
   ],
   "source": [
    "plt.clf()\n",
    "\n",
    "data = {}\n",
    "\n",
    "yfrac = 0.9\n",
    "for yamlfile in yamlfiles:\n",
    "    data[yamlfile] = {}\n",
    "    dd = yaml.safe_load(open(yamlfile))\n",
    "    version_date = str(dd['version']['date'])\n",
    "    version_telescope = str(dd['version']['name'])\n",
    "    print('{0:8s}   Psat(pW)   NET    NET_wafer'.format(version_telescope))\n",
    "    del dd['version']\n",
    "\n",
    "    # location of atmosphere file\n",
    "    dd['sim_config']['config_dir'] = '../../bolo-calc/config'\n",
    "\n",
    "    top = Top(**dd)\n",
    "    top.run()\n",
    "    for chan in top.instrument.tables.keys():\n",
    "        if chan.split('_')[0] == 'cam' :\n",
    "            chname = chan.split('_')[2] + '_' + chan.split('_')[3]\n",
    "            data[yamlfile][chname] = {}\n",
    "            popt = top.instrument.tables[chan]['opt_power'][0]\n",
    "            data[yamlfile][chname]['popt'] = popt\n",
    "            psat = top.instrument.tables[chan]['P_sat'][0]\n",
    "            data[yamlfile][chname]['psat'] = psat\n",
    "            net = top.instrument.tables[chan]['NET'][0]\n",
    "            data[yamlfile][chname]['net'] = net\n",
    "            netwafer = top.instrument.tables[chan]['NET_arr'][0]\n",
    "            data[yamlfile][chname]['netwafer'] = netwafer\n",
    "            data[yamlfile][chname]['bandcenter'] = dd['instrument']['camera_config']['elements']['cam_1']['chan_config']['elements'][chname]['band_center']\n",
    "\n",
    "            \n",
    "# Plot things vs frequency for each telescope\n",
    "    if version_telescope == 'CHLAT':\n",
    "        pointtype = '.r'\n",
    "    elif version_telescope == 'SPLAT':\n",
    "        pointtype = '.b'\n",
    "    else:\n",
    "        pointtype = '+m'\n",
    "    \n",
    "\n",
    "    for chname in data[yamlfile].keys():\n",
    "        nu = data[yamlfile][chname]['bandcenter']\n",
    "        #\n",
    "        plt.subplot(4,1,1)\n",
    "        plt.plot(nu, data[yamlfile][chname]['popt'],pointtype, markersize=15 )\n",
    "        plt.ylabel('P_opt')\n",
    "\n",
    "        \n",
    "        plt.grid()\n",
    "        #\n",
    "        plt.subplot(4,1,2)\n",
    "        plt.plot(nu, data[yamlfile][chname]['psat'],pointtype, markersize=15 )\n",
    "        plt.ylabel('P_sat')\n",
    "        plt.xlim(0,300)\n",
    "        plt.grid()\n",
    "        #\n",
    "        plt.subplot(4,1,3)\n",
    "        plt.plot(nu, data[yamlfile][chname]['net'],pointtype, markersize=15 )\n",
    "        plt.ylabel('NET')\n",
    "        plt.xlim(0,300)\n",
    "        plt.grid()\n",
    "        #\n",
    "        plt.subplot(4,1,4)\n",
    "        plt.plot(nu, data[yamlfile][chname]['netwafer'],pointtype, markersize=15 )\n",
    "        plt.ylabel('NET_wafer')\n",
    "        plt.xlim(0,300)\n",
    "        plt.grid()\n",
    "        #\n",
    "    \n",
    "    plt.subplot(4,1,1)\n",
    "    ymin,ymax = plt.ylim()\n",
    "    xmin,xmax = plt.ylim()\n",
    "    xval = xmin+0.1*(xmax-xmin)\n",
    "    yval = ymin+yfrac*(ymax-ymin)\n",
    "    plt.plot(xval,yval,pointtype,markersize=15)\n",
    "    plt.text(xval+0.3*(xmax-xmin),yval,version_telescope,verticalalignment='center')\n",
    "    yfrac = yfrac-0.1\n",
    "    "
   ]
  },
  {
   "cell_type": "code",
   "execution_count": 71,
   "metadata": {},
   "outputs": [
    {
     "data": {
      "text/plain": [
       "dict_keys(['cam_1_LF_1_sims', 'cam_1_LF_2_sims', 'cam_1_MF1_1_sims', 'cam_1_MF1_2_sims', 'cam_1_MF2_1_sims', 'cam_1_MF2_2_sims', 'cam_1_UHF_1_sims', 'cam_1_UHF_2_sims', 'optical'])"
      ]
     },
     "execution_count": 71,
     "metadata": {},
     "output_type": "execute_result"
    }
   ],
   "source": [
    "top.instrument.tables.keys()"
   ]
  },
  {
   "cell_type": "code",
   "execution_count": 32,
   "metadata": {},
   "outputs": [
    {
     "data": {
      "text/plain": [
       "['effic',\n",
       " 'opt_power',\n",
       " 'P_sat',\n",
       " 'Flink',\n",
       " 'G',\n",
       " 'tel_rj_temp',\n",
       " 'sky_rj_temp',\n",
       " 'NEP_bolo',\n",
       " 'NEP_read',\n",
       " 'NEP_ph',\n",
       " 'NEP',\n",
       " 'NET',\n",
       " 'NET_corr',\n",
       " 'corr_fact',\n",
       " 'NET_arr']"
      ]
     },
     "execution_count": 32,
     "metadata": {},
     "output_type": "execute_result"
    }
   ],
   "source": [
    "top.instrument.tables['cam_1_ULF_sims'].keys()"
   ]
  },
  {
   "cell_type": "code",
   "execution_count": null,
   "metadata": {},
   "outputs": [],
   "source": []
  }
 ],
 "metadata": {
  "kernelspec": {
   "display_name": "Python 3",
   "language": "python",
   "name": "python3"
  },
  "language_info": {
   "codemirror_mode": {
    "name": "ipython",
    "version": 3
   },
   "file_extension": ".py",
   "mimetype": "text/x-python",
   "name": "python",
   "nbconvert_exporter": "python",
   "pygments_lexer": "ipython3",
   "version": "3.8.3"
  }
 },
 "nbformat": 4,
 "nbformat_minor": 5
}
