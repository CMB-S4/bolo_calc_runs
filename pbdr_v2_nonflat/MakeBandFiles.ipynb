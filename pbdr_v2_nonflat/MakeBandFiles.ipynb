{
 "cells": [
  {
   "cell_type": "code",
   "execution_count": 1,
   "metadata": {},
   "outputs": [],
   "source": [
    "# Standard imports\n",
    "import numpy as np\n",
    "import matplotlib.pyplot as plt\n",
    "%matplotlib inline  \n",
    "plt.rcParams.update({'font.size': 14})\n",
    "plt.rcParams['figure.figsize'] = [12,8]"
   ]
  },
  {
   "cell_type": "code",
   "execution_count": 2,
   "metadata": {},
   "outputs": [],
   "source": [
    "def bandmodel(nuvec, heightsum, nu0, dnu):\n",
    "    #return flat_model(nuvec,heightsum, nu0, dnu)\n",
    "    return logistic_model(nuvec,heightsum, nu0, dnu)\n",
    "\n",
    "def logistic_model(nuvec, heightsum, nu0,dnu):\n",
    "    '''Returns a logistic-function band model given inputs\n",
    "    \n",
    "      nuvec:  vector of frequencies at which to return the function\n",
    "      heightsum: the desired \"integral\" of the band, really a sum over elements.\n",
    "      nu0:  center frequency\n",
    "      dnu:  bandwidth\n",
    "      \n",
    "    '''\n",
    "    low = nu0-dnu/2\n",
    "    high = nu0+dnu/2\n",
    "    # I tuned aa and nn by hand to \"best fit by eye\" (globally) \n",
    "    # the bands Sara provided in the first plot below.\n",
    "    aa = 2     # smaller aa gives broader tails at all frequency bands\n",
    "    nn = 0.7   # larger nn gives broader tails at higher frequency bands\n",
    "    k1 = aa*(20/low)**nn\n",
    "    f1 = 1/(1+np.exp(-k1*(nuvec-low )))\n",
    "    k2 = aa*(20/high)**nn\n",
    "    f2 = 1-1/(1+np.exp(-k2*(nuvec-high)))\n",
    "    f = f1*f2\n",
    "    f = (heightsum/np.sum(f))*f\n",
    "    return f\n",
    "\n",
    "def flat_model(nuvec, heightsum, nu0,dnu):\n",
    "    '''Returns a flat band model given inputs\n",
    "    \n",
    "      nuvec:  vector of frequencies at which to return the function\n",
    "      heightsum: the desired \"integral\" of the band, really a sum over elements.\n",
    "      nu0:  center frequency\n",
    "      dnu:  bandwidth\n",
    "      \n",
    "    '''\n",
    "    low = nu0-dnu/2\n",
    "    high = nu0+dnu/2\n",
    "\n",
    "    f = np.where((nuvec>low)&(nuvec<high), 1, 0)\n",
    "    f = (heightsum/np.sum(f))*f\n",
    "    return f"
   ]
  },
  {
   "cell_type": "code",
   "execution_count": 3,
   "metadata": {},
   "outputs": [
    {
     "data": {
      "image/png": "[encoded data removed]",
      "text/plain": [
       "<Figure size 864x576 with 1 Axes>"
      ]
     },
     "metadata": {
      "needs_background": "light"
     },
     "output_type": "display_data"
    }
   ],
   "source": [
    "savedir = 'config/FlatBands/'\n",
    "band_info = {}\n",
    "#band_info['ULF_1'] =  {'band_center':  20.0, 'fractional_bandwidth': 0.250}\n",
    "band_info['ULF_1'] =  {'band_center':  20.0, 'fractional_bandwidth': 0.25}\n",
    "band_info['LF_1'] =  {'band_center':  25.75, 'fractional_bandwidth': 0.330}\n",
    "band_info['LF_2'] =  {'band_center':  38.75, 'fractional_bandwidth': 0.452}\n",
    "band_info['MF_1'] =  {'band_center':  91.5,  'fractional_bandwidth': 0.317}\n",
    "band_info['MF_2'] =  {'band_center': 148.5,  'fractional_bandwidth': 0.276}\n",
    "band_info['HF_1'] =  {'band_center': 227.0,  'fractional_bandwidth': 0.256}\n",
    "band_info['HF_2'] =  {'band_center': 285.5,  'fractional_bandwidth': 0.207}\n",
    "\n",
    "nustep = 0.02 #GHz\n",
    "for band in band_info.keys():\n",
    "    nu_c = band_info[band]['band_center']\n",
    "    dnu = nu_c*band_info[band]['fractional_bandwidth']/2.0\n",
    "    lowedge = nu_c - dnu\n",
    "    highedge = nu_c + dnu\n",
    "    \n",
    "    nuvec = np.arange( np.round(0.9*lowedge,decimals=1), np.round(1.1*highedge,decimals=1), nustep)\n",
    "    bandshape = np.where((nuvec>lowedge)&(nuvec<highedge),1,0)\n",
    "    #bandshape = np.exp(-(nuvec - nu_c)**2/(2*(dnu/3)**2))\n",
    "    bandshape_dist = np.zeros(len(bandshape))\n",
    "    plt.plot(nuvec,bandshape)\n",
    "    savevec = np.transpose([nuvec, 0.5*bandshape,bandshape_dist])\n",
    "    \n",
    "    filename = savedir+band+'_p5.txt'\n",
    "    np.savetxt(filename,savevec,fmt='%.4f')\n",
    "    \n"
   ]
  },
  {
   "cell_type": "code",
   "execution_count": 22,
   "metadata": {},
   "outputs": [
    {
     "data": {
      "text/plain": [
       "array([[230.4, 230.5, 230.6, ..., 346.3, 346.4, 346.5],\n",
       "       [  0. ,   0. ,   0. , ...,   0. ,   0. ,   0. ]])"
      ]
     },
     "execution_count": 22,
     "metadata": {},
     "output_type": "execute_result"
    }
   ],
   "source": [
    "np.transpose(savevec)"
   ]
  },
  {
   "cell_type": "code",
   "execution_count": null,
   "metadata": {},
   "outputs": [],
   "source": []
  }
 ],
 "metadata": {
  "kernelspec": {
   "display_name": "Python 3",
   "language": "python",
   "name": "python3"
  },
  "language_info": {
   "codemirror_mode": {
    "name": "ipython",
    "version": 3
   },
   "file_extension": ".py",
   "mimetype": "text/x-python",
   "name": "python",
   "nbconvert_exporter": "python",
   "pygments_lexer": "ipython3",
   "version": "3.8.3"
  }
 },
 "nbformat": 4,
 "nbformat_minor": 4
}
