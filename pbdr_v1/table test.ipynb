{
 "cells": [
  {
   "cell_type": "code",
   "execution_count": 1,
   "metadata": {},
   "outputs": [],
   "source": [
    "import numpy as np\n",
    "import matplotlib.pyplot as plt\n",
    "import pandas as pd\n",
    "from IPython.core.display import display, HTML\n",
    "import yaml\n",
    "import pdb"
   ]
  },
  {
   "cell_type": "code",
   "execution_count": 2,
   "metadata": {},
   "outputs": [],
   "source": [
    "telescopes = dict.fromkeys(['CHLAT_20210401.yaml', 'SPLAT_20210401.yaml', 'SAT_pole_20210401.yaml'])\n",
    "\n",
    "yaml_file = list(telescopes.keys())[0]\n",
    "dd = yaml.safe_load(open(yaml_file))\n",
    "version_date = str(dd['version']['date'])\n",
    "version_telescope = str(dd['version']['name'])\n",
    "del dd['version']\n",
    "\n",
    "ch_names = list(dd['instrument']['camera_config']['elements']['cam_1']['chan_config']['elements'].keys())\n",
    "\n",
    "#fake values\n",
    "\n",
    "in_param = 'pwv'\n",
    "out_param = 'NET'\n",
    "param_vec = np.arange(500,8000,100)\n",
    "base_value = 1000\n",
    "nominal = {}\n",
    "nominal = dd['instrument'][in_param]\n",
    "#change output\n",
    "output = param_vec**2"
   ]
  },
  {
   "cell_type": "code",
   "execution_count": 3,
   "metadata": {},
   "outputs": [],
   "source": [
    "def display_side_by_side(dfs:list, captions:list):\n",
    "    \"\"\"Display tables side by side to save vertical space\n",
    "    Input:\n",
    "        dfs: list of pandas.DataFrame\n",
    "        captions: list of table captions\n",
    "    \"\"\"\n",
    "    output = \"\"\n",
    "    combined = dict(zip(captions, dfs))\n",
    "    for caption, df in combined.items():\n",
    "        output += df.style.set_table_attributes(\"style='display:inline'\").set_caption(caption)._repr_html_()\n",
    "        output += \"\\xa0\\xa0\\xa0\"\n",
    "    display(HTML(output))"
   ]
  },
  {
   "cell_type": "code",
   "execution_count": 4,
   "metadata": {},
   "outputs": [],
   "source": [
    "def NET_TeleTable(telescope, nominal, percent):\n",
    "    \"\"\"\n",
    "    telescope is dictionary of in, out, for each channel\n",
    "    \"\"\"\n",
    "    \n",
    "    files = ['SAT_pole_20210401', 'SPLAT_20210401', 'CHLAT_20210401']\n",
    "    yaml_file, dd, nominal, top, tabs, Net = \\\n",
    "    {},{},{},{},{},{}\n",
    "    yaml_file =  f'{telescope}_20210401.yaml'\n",
    "    #dd = yaml.safe_load(open(yaml_file))\n",
    "    #del dd['version']\n",
    "    #ch_names = list(dd['instrument']['camera_config']['elements']['cam_1']['chan_config']['elements'].keys())\n",
    "    #nominal = {}\n",
    "    #nominal = dd['instrument']['channel_default'][in_param]\n",
    "    outputs[out_param] = {}\n",
    "    for chan in ch_names:\n",
    "        outputs[out_param][chan] = [] \n",
    "    ypv,left_yv,right_yv,slope,NET,ynv,\\\n",
    "    left,right,pxvp,nxvp,label,left_slope,right_slope = {},{},{},{},{},{},{},{},{},{},{},{},{}\n",
    "    vals, data = [],[]   \n",
    "    for chan in ch_names:\n",
    "        Net[chan] = outputs[out_param][chan]\n",
    "        ynv[chan] = np.interp(nominal,param_vec,Net[chan])#y-value for nominal\n",
    "        left = np.where(param_vec<nominal)[0] #left of nominal, holds index locations\n",
    "        left_xv = param_vec[left]\n",
    "        left_yv[chan] = Net[chan][left]  #The corresponding y-values\n",
    "        right = np.where(param_vec>nominal)[0] #right of and including nominal, holds index locations\n",
    "        right_xv = param_vec[right]\n",
    "        right_yv[chan] = Net[chan][right] #The corresponding y-values\n",
    "        left_slope[chan] = (ynv[chan]-left_yv[chan][-1])/(nominal-left_xv[-1]) #slope from the left\n",
    "        right_slope[chan] = (right_yv[chan][0]-ynv[chan])/(right_xv[0]-nominal) #slope from the right\n",
    "        ypv[chan] = {}\n",
    "        pxvp[chan] = {}\n",
    "        nxvp[chan] = {}\n",
    "        slope[chan] = {}\n",
    "        step = 1e-6 #step size in finding slope\n",
    "        slope[chan] = (left_slope[chan]+right_slope[chan])/2\n",
    "#         slope[chan] = ( np.interp((nominal+step),right_xv[chan],right_yv[chan]) - ynv[chan])/((nominal[chan]+step) - nominal[chan])\n",
    "        vals.append([])\n",
    "        for per in percent:\n",
    "            ypv[chan][per] = ynv[chan]*((100+per)/100) #y values for each positive\n",
    "                                                      #percent for every aspect of output\n",
    "            pxvp[chan][per] = np.interp(ypv[chan][per], right_yv[chan],right_xv)#right_xv[chan][np.where(right_yv[chan] >= ypv[chan][per])][0] #the corresponding pos values in x\n",
    "            nxvp[chan][per] = np.interp(ypv[chan][per], np.flip(left_yv[chan]),np.flip(left_xv))#left_xv[chan][np.where( left_yv[chan] >= ypv[chan][per])][-1] #the corresponding neg values in x\n",
    "#       The if loops make it so that if the x values are out of range of the input range, they say 'NaN'\n",
    "            if ((nxvp[chan][per] == start) or (nxvp[chan][per] < start) or (nxvp[chan][per] > end) or (nxvp[chan][per]==end)) :\n",
    "                nxvp[chan][per] = 'NaN' #Out of range\n",
    "            if ((pxvp[chan][per] == start) or (pxvp[chan][per] < start) or (pxvp[chan][per] > end) or (pxvp[chan][per]==end)) :\n",
    "                pxvp[chan][per] = 'NaN' #Out of range \n",
    "    for k in range(len(ch_names)):\n",
    "        NET[ch_names[k]] = {}\n",
    "        for p in range(len(percent)):\n",
    "            label[p] = f'neg_{percent[len(percent)-p-1]}' #Label for the table \n",
    "                                                           #This part does the negative\n",
    "            NET[ch_names[k]][label[p]] = nxvp[ch_names[k]][percent[-1-p]] #NET dictionary for output\n",
    "            vals[k].append(nxvp[ch_names[k]][percent[-1-p]]) #Values for the table\n",
    "    #This part does the nominal\n",
    "    label[len(percent)] = 'nominal'\n",
    "    label[len(percent)+1] = 'slope'\n",
    "    #pdb.set_trace()\n",
    "    for k in range(len(ch_names)):\n",
    "        NET[ch_names[k]][label[len(percent)]] = nominal\n",
    "        NET[ch_names[k]][label[len(percent)+1]] = slope[ch_names[k]]\n",
    "        vals[k].append(nominal)\n",
    "        vals[k].append(slope[ch_names[k]])\n",
    "        for p in range(len(percent)):\n",
    "            label[len(percent)+2+p] = f'pos_{percent[p]}'\n",
    "            NET[ch_names[k]][label[len(percent)+2+p]] = pxvp[ch_names[k]][percent[p]]\n",
    "            vals[k].append(pxvp[ch_names[k]][percent[p]])\n",
    "        title = [] #matrix of the label to put in the table\n",
    "        row = []\n",
    "        for l in range(len(label)):\n",
    "            title.append(label[l])\n",
    "            row.append(vals[k][l])\n",
    "        data.append(row)\n",
    "    #pdb.set_trace()\n",
    "    df = pd.DataFrame(data,index=ch_names, columns=title)\n",
    "    return df #, NET#ynv,left_xv,left_yv,right_xv,right_yv#df, NET"
   ]
  },
  {
   "cell_type": "code",
   "execution_count": 5,
   "metadata": {},
   "outputs": [
    {
     "data": {
      "text/plain": [
       "{'Tc': {'startval': 0.14, 'endval': 0.2, 'npts': 75},\n",
       " 'carrier_index': {'startval': 0, 'endval': 4, 'npts': 75},\n",
       " 'psat_factor': {'startval': 1.5, 'endval': 4, 'npts': 75}}"
      ]
     },
     "execution_count": 5,
     "metadata": {},
     "output_type": "execute_result"
    }
   ],
   "source": [
    "npts = len(param_vec)\n",
    "param_dict = {}\n",
    "in_put = ['Tc','carrier_index', 'psat_factor']\n",
    "start = [0.14,0,1.5]\n",
    "end = [0.2,4,4]\n",
    "\n",
    "# {'startval':0.14,'endval':0.2,'npts':npts,'nominal':}\n",
    "\n",
    "for i in range(len(in_put)):\n",
    "    param_dict[in_put[i]]= {}\n",
    "    for s in range(len(start)):\n",
    "        param_dict[in_put[i]]['startval']= start[i]\n",
    "        param_dict[in_put[i]]['endval']= end[i]\n",
    "        param_dict[in_put[i]]['npts']= npts\n",
    "\n",
    "param_dict"
   ]
  },
  {
   "cell_type": "code",
   "execution_count": 6,
   "metadata": {
    "scrolled": false
   },
   "outputs": [
    {
     "ename": "TypeError",
     "evalue": "NET_TeleTable() takes 3 positional arguments but 4 were given",
     "output_type": "error",
     "traceback": [
      "\u001b[0;31m---------------------------------------------------------------------------\u001b[0m",
      "\u001b[0;31mTypeError\u001b[0m                                 Traceback (most recent call last)",
      "\u001b[0;32m<timed exec>\u001b[0m in \u001b[0;36m<module>\u001b[0;34m\u001b[0m\n",
      "\u001b[0;31mTypeError\u001b[0m: NET_TeleTable() takes 3 positional arguments but 4 were given"
     ]
    }
   ],
   "source": [
    "%%time\n",
    "pnts = 50\n",
    "\n",
    "teles = ['SAT_pole', 'SPLAT','CHLAT']\n",
    "#in_put = ['Tc','carrier_index', 'psat_factor'] #Look in the yaml files\n",
    "percents = [0.3,0.5,1]\n",
    "pd_frame = []\n",
    "# dfn = []\n",
    "# dfpsat = []\n",
    "\n",
    "for i in range(len(teles)):\n",
    "    pd_frame.append([])\n",
    "    pd_frame[i] = NET_TeleTable(teles[i], in_param, pnts, percents)[0] #Tc: 0.14-0.2\n"
   ]
  },
  {
   "cell_type": "code",
   "execution_count": 7,
   "metadata": {},
   "outputs": [
    {
     "data": {
      "text/plain": [
       "['LF_1', 'LF_2', 'MF_1', 'MF_2', 'UHF_1', 'UHF_2']"
      ]
     },
     "execution_count": 7,
     "metadata": {},
     "output_type": "execute_result"
    }
   ],
   "source": [
    "ch_names"
   ]
  },
  {
   "cell_type": "code",
   "execution_count": null,
   "metadata": {},
   "outputs": [],
   "source": []
  }
 ],
 "metadata": {
  "kernelspec": {
   "display_name": "Python 3",
   "language": "python",
   "name": "python3"
  },
  "language_info": {
   "codemirror_mode": {
    "name": "ipython",
    "version": 3
   },
   "file_extension": ".py",
   "mimetype": "text/x-python",
   "name": "python",
   "nbconvert_exporter": "python",
   "pygments_lexer": "ipython3",
   "version": "3.8.5"
  }
 },
 "nbformat": 4,
 "nbformat_minor": 4
}
