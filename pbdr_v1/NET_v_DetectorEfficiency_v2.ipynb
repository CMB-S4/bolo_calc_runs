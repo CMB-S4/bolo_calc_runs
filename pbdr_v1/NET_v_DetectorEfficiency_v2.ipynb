{
 "cells": [
  {
   "cell_type": "markdown",
   "metadata": {},
   "source": [
    "# NET vs Dector Efficiency\n",
    "Calculate and plot for each of the three telescopes, then save all three to a toml file."
   ]
  },
  {
   "cell_type": "code",
   "execution_count": 1,
   "metadata": {},
   "outputs": [],
   "source": [
    "# Standard imports\n",
    "import numpy as np\n",
    "import yaml\n",
    "import toml\n",
    "from datetime import datetime\n",
    "import matplotlib\n",
    "import matplotlib.pyplot as plt\n",
    "\n",
    "%matplotlib inline  \n",
    "plt.rcParams.update({'font.size': 18})\n",
    "plt.rcParams['figure.figsize'] = [12, 20]\n",
    "\n",
    "# bolo-calc import\n",
    "from bolo import Top\n",
    "\n",
    "import BoloCalcVariation as bcv"
   ]
  },
  {
   "cell_type": "code",
   "execution_count": 2,
   "metadata": {},
   "outputs": [],
   "source": [
    "# Set up inputs\n",
    "\n",
    "# yaml files to use\n",
    "telescopes = dict.fromkeys(['CHLAT_20210401.yaml', 'SPLAT_20210401.yaml', 'SAT_pole_20210401.yaml'])\n",
    "\n",
    "#Make dictionary of nominal PSATs. Enter values in pW. \n",
    "psat ={}\n",
    "psat['SAT_pole_20210401'] = {'LF_1': 1.40, 'LF_2': 6.13, 'MF1_1': 7.40, 'MF1_2': 12.25, 'MF2_1': 7.65, 'MF2_2': 13.30, 'UHF_1': 29.88, 'UHF_2': 39.03}\n",
    "psat['SPLAT_20210401'] = {'ULF': 0.42, 'LF_1': 0.69, 'LF_2': 4.32, 'MF_1': 4.65, 'MF_2': 11.49, 'UHF_1': 29.31, 'UHF_2': 40.02}\n",
    "psat['CHLAT_20210401'] = {'LF_1': 0.72, 'LF_2': 3.84, 'MF_1': 4.47, 'MF_2': 13.95, 'UHF_1': 41.52, 'UHF_2': 60.78}\n",
    "\n",
    "# input parameter to vary\n",
    "xparam_name = 'det_eff'\n",
    "xparam_vec = np.arange(.3,1.0,.02)\n",
    "# in_param possible values:\n",
    "#  'band_response', 'num_wafer_per_optics_tube', 'num_optics_tube', \n",
    "#  'waist_factor', 'psat', 'psat_factor', 'carrier_index', 'Tc', 'Tc_fraction', \n",
    "#  'G', 'Flink', 'Yield', 'response_factor', 'bolo_resistance', 'read_frac'\n",
    "\n",
    "# output parameter to plot and save.\n",
    "yparam_name = 'NET' #\n",
    "# out_param possible values:\n",
    "#  'effic', 'opt_power','tel_rj_temp','sky_rj_temp','NEP_bolo',\n",
    "#  'NEP_read','NEP_ph','NEP','NET','NET_corr','corr_fact','NET_arr'"
   ]
  },
  {
   "cell_type": "markdown",
   "metadata": {},
   "source": [
    "# Run CHLAT"
   ]
  },
  {
   "cell_type": "code",
   "execution_count": 3,
   "metadata": {},
   "outputs": [
    {
     "ename": "NameError",
     "evalue": "name 'yaml_file' is not defined",
     "output_type": "error",
     "traceback": [
      "\u001b[0;31m---------------------------------------------------------------------------\u001b[0m",
      "\u001b[0;31mNameError\u001b[0m                                 Traceback (most recent call last)",
      "\u001b[0;32m<ipython-input-3-030de34a2e4c>\u001b[0m in \u001b[0;36m<module>\u001b[0;34m\u001b[0m\n\u001b[0;32m----> 1\u001b[0;31m \u001b[0mdd\u001b[0m \u001b[0;34m=\u001b[0m \u001b[0myaml\u001b[0m\u001b[0;34m.\u001b[0m\u001b[0msafe_load\u001b[0m\u001b[0;34m(\u001b[0m\u001b[0mopen\u001b[0m\u001b[0;34m(\u001b[0m\u001b[0myaml_file\u001b[0m\u001b[0;34m)\u001b[0m\u001b[0;34m)\u001b[0m\u001b[0;34m\u001b[0m\u001b[0;34m\u001b[0m\u001b[0m\n\u001b[0m\u001b[1;32m      2\u001b[0m \u001b[0;31m# location of atmosphere file\u001b[0m\u001b[0;34m\u001b[0m\u001b[0;34m\u001b[0m\u001b[0;34m\u001b[0m\u001b[0m\n\u001b[1;32m      3\u001b[0m \u001b[0mdd\u001b[0m\u001b[0;34m[\u001b[0m\u001b[0;34m'sim_config'\u001b[0m\u001b[0;34m]\u001b[0m\u001b[0;34m[\u001b[0m\u001b[0;34m'config_dir'\u001b[0m\u001b[0;34m]\u001b[0m \u001b[0;34m=\u001b[0m \u001b[0;34m'../../bolo-calc/config'\u001b[0m\u001b[0;34m\u001b[0m\u001b[0;34m\u001b[0m\u001b[0m\n\u001b[1;32m      4\u001b[0m \u001b[0mdd\u001b[0m\u001b[0;34m[\u001b[0m\u001b[0;34m'version'\u001b[0m\u001b[0;34m]\u001b[0m\u001b[0;34m[\u001b[0m\u001b[0;34m'yaml'\u001b[0m\u001b[0;34m]\u001b[0m\u001b[0;34m=\u001b[0m\u001b[0myaml_file\u001b[0m\u001b[0;34m\u001b[0m\u001b[0;34m\u001b[0m\u001b[0m\n\u001b[1;32m      5\u001b[0m \u001b[0;34m\u001b[0m\u001b[0m\n",
      "\u001b[0;31mNameError\u001b[0m: name 'yaml_file' is not defined"
     ]
    }
   ],
   "source": [
    "dd = yaml.safe_load(open(yaml_file))\n",
    "# location of atmosphere file\n",
    "dd['sim_config']['config_dir'] = '../../bolo-calc/config'\n",
    "dd['version']['yaml']=yaml_file\n",
    "\n",
    "channel_dict = bcv.vary_param_at_fixed_psat(xparam_name,xparam_vec,yparam_name,dd,psat)\n",
    "telescopes[yaml_file] = channel_dict"
   ]
  },
  {
   "cell_type": "markdown",
   "metadata": {},
   "source": [
    "# Run SPLAT"
   ]
  },
  {
   "cell_type": "code",
   "execution_count": null,
   "metadata": {},
   "outputs": [],
   "source": [
    "yaml_file = list(telescopes.keys())[1]\n",
    "dd = yaml.safe_load(open(yaml_file))\n",
    "# location of atmosphere file\n",
    "dd['sim_config']['config_dir'] = '../../bolo-calc/config'\n",
    "dd['version']['yaml']=yaml_file\n",
    "\n",
    "channel_dict = bcv.vary_param_at_fixed_psat(xparam_name,xparam_vec,yparam_name,dd,psat)\n",
    "telescopes[yaml_file] = channel_dict"
   ]
  },
  {
   "cell_type": "markdown",
   "metadata": {},
   "source": [
    "# Run SAT (at Pole)"
   ]
  },
  {
   "cell_type": "code",
   "execution_count": null,
   "metadata": {},
   "outputs": [],
   "source": [
    "yaml_file = list(telescopes.keys())[2]\n",
    "dd = yaml.safe_load(open(yaml_file))\n",
    "# location of atmosphere file\n",
    "dd['sim_config']['config_dir'] = '../../bolo-calc/config'\n",
    "dd['version']['yaml']=yaml_file\n",
    "\n",
    "version_date, channel_dict = bcv.vary_param_at_fixed_psat(xparam_name,xparam_vec,yparam_name,dd,psat)\n",
    "telescopes[yaml_file] = channel_dict"
   ]
  },
  {
   "cell_type": "markdown",
   "metadata": {},
   "source": [
    "# Write all three (CHLAT, SPLAT, SAT) to toml file."
   ]
  },
  {
   "cell_type": "code",
   "execution_count": null,
   "metadata": {},
   "outputs": [],
   "source": [
    "toml_output ={}\n",
    "toml_output['runtime'] = datetime.today().strftime('%Y/%m/%d %H:%M:%S')\n",
    "toml_output['input_id'] = version_date\n",
    "toml_output['variation'] = yparam_name + '_v_' + xparam_name\n",
    "\n",
    "for telescope in telescopes.keys():\n",
    "    key = telescope.partition('.')[0]\n",
    "    toml_output[key] = telescopes[telescope]\n",
    "\n",
    "output_file_name = toml_output['variation'] + '.toml'\n",
    "\n",
    "with open('outputs/' + output_file_name, \"w\") as toml_file:\n",
    "    toml.dump(toml_output, toml_file)"
   ]
  }
 ],
 "metadata": {
  "kernelspec": {
   "display_name": "Python 3",
   "language": "python",
   "name": "python3"
  },
  "language_info": {
   "codemirror_mode": {
    "name": "ipython",
    "version": 3
   },
   "file_extension": ".py",
   "mimetype": "text/x-python",
   "name": "python",
   "nbconvert_exporter": "python",
   "pygments_lexer": "ipython3",
   "version": "3.8.3"
  }
 },
 "nbformat": 4,
 "nbformat_minor": 4
}
