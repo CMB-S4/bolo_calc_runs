{
 "cells": [
  {
   "cell_type": "code",
   "execution_count": 1,
   "metadata": {},
   "outputs": [],
   "source": [
    "import numpy as np\n",
    "import matplotlib.pyplot as plt\n",
    "import BoloCalcVariation as bcv\n",
    "from bolo import Top\n",
    "import toml\n",
    "import yaml"
   ]
  },
  {
   "cell_type": "markdown",
   "metadata": {},
   "source": [
    "Define yaml files & Psat values to use. "
   ]
  },
  {
   "cell_type": "code",
   "execution_count": 2,
   "metadata": {},
   "outputs": [],
   "source": [
    "# yaml files to use\n",
    "yaml_list = ['CHLAT_20210714.yaml','SPLAT_20210714.yaml','SAT_LFMF_20210714.yaml','SAT_HF_20210714.yaml']\n",
    "\n",
    "#read fixed PSATs from .toml file\n",
    "psat = toml.load(\"FixedPsats.toml\")"
   ]
  },
  {
   "cell_type": "markdown",
   "metadata": {},
   "source": [
    "Run NET vs Elevation."
   ]
  },
  {
   "cell_type": "code",
   "execution_count": 3,
   "metadata": {},
   "outputs": [],
   "source": [
    "#Elevation input vector in degrees\n",
    "xparam_vec = np.arange(30,70,1)\n",
    "\n",
    "#run variation\n",
    "bcv.net_v_elevation(xparam_vec, yaml_list, psat)"
   ]
  },
  {
   "cell_type": "markdown",
   "metadata": {},
   "source": [
    "Run Optical Power vs Elevation. "
   ]
  },
  {
   "cell_type": "code",
   "execution_count": 4,
   "metadata": {},
   "outputs": [],
   "source": [
    "#Elevation input vector in degrees\n",
    "xparam_vec = np.arange(30,70,1)\n",
    "\n",
    "#run variation\n",
    "bcv.popt_v_elevation(xparam_vec, yaml_list, psat)"
   ]
  },
  {
   "cell_type": "markdown",
   "metadata": {},
   "source": [
    "Run NET vs PWV."
   ]
  },
  {
   "cell_type": "code",
   "execution_count": 5,
   "metadata": {},
   "outputs": [],
   "source": [
    "#Percipitable water vapor input vector in microns.\n",
    "xparam_vec = np.arange(100,4000,100)\n",
    "\n",
    "#run variation\n",
    "bcv.net_v_pwv(xparam_vec, yaml_list, psat)"
   ]
  },
  {
   "cell_type": "markdown",
   "metadata": {},
   "source": [
    "Run Optical Power vs PWV. "
   ]
  },
  {
   "cell_type": "code",
   "execution_count": 6,
   "metadata": {},
   "outputs": [],
   "source": [
    "#Percipitable water vapor input vector in microns.\n",
    "xparam_vec = np.arange(100,4000,100)\n",
    "\n",
    "#run variation\n",
    "bcv.popt_v_pwv(xparam_vec, yaml_list, psat)"
   ]
  },
  {
   "cell_type": "markdown",
   "metadata": {},
   "source": [
    "Run NET vs Tc. "
   ]
  },
  {
   "cell_type": "code",
   "execution_count": 7,
   "metadata": {},
   "outputs": [],
   "source": [
    "#Temperature in Kelvin. \n",
    "xparam_vec = np.arange(.14, .2, .001)\n",
    "\n",
    "#run variation\n",
    "bcv.net_v_tc(xparam_vec, yaml_list, psat)"
   ]
  },
  {
   "cell_type": "markdown",
   "metadata": {},
   "source": [
    "Run NET vs Carrier Index. "
   ]
  },
  {
   "cell_type": "code",
   "execution_count": 12,
   "metadata": {},
   "outputs": [],
   "source": [
    "#Carrier index beta = n-1. \n",
    "xparam_vec = np.arange(1, 3, .1)\n",
    "\n",
    "#run variation\n",
    "bcv.net_v_n(xparam_vec, yaml_list, psat)"
   ]
  },
  {
   "cell_type": "markdown",
   "metadata": {},
   "source": [
    "Run NET vs Alumina-Filter Temperature. "
   ]
  },
  {
   "cell_type": "code",
   "execution_count": 9,
   "metadata": {},
   "outputs": [],
   "source": [
    "#Temperature in Kelvin\n",
    "xparam_vec = np.arange(40, 150, 1.0)\n",
    "\n",
    "#run variation\n",
    "bcv.net_v_AfTemp(xparam_vec, yaml_list, psat)"
   ]
  },
  {
   "cell_type": "markdown",
   "metadata": {},
   "source": [
    "Run NET vs Alumina Loss Tangent. "
   ]
  },
  {
   "cell_type": "code",
   "execution_count": 10,
   "metadata": {},
   "outputs": [],
   "source": [
    "#Loss Tangent\n",
    "xparam_vec = np.arange(7.5e-5, 4.5e-4, 1e-5)\n",
    "\n",
    "#run variation\n",
    "bcv.net_v_AfLt(xparam_vec, yaml_list, psat)"
   ]
  },
  {
   "cell_type": "markdown",
   "metadata": {},
   "source": [
    "Run NET vs Detector Efficiency"
   ]
  },
  {
   "cell_type": "code",
   "execution_count": 11,
   "metadata": {},
   "outputs": [],
   "source": [
    "#Detector Efficiency\n",
    "xparam_vec = np.arange(.3,1.0,.02)\n",
    "\n",
    "#run variation\n",
    "bcv.net_v_DetEff(xparam_vec, yaml_list, psat)"
   ]
  },
  {
   "cell_type": "markdown",
   "metadata": {},
   "source": [
    "Run NET vs Psat Factor. "
   ]
  },
  {
   "cell_type": "code",
   "execution_count": 3,
   "metadata": {},
   "outputs": [],
   "source": [
    "#Psat Factor\n",
    "xparam_vec = np.arange(1.5, 4.0, .1)\n",
    "\n",
    "#run variation (non-fixed psats)\n",
    "bcv.net_v_PsatFac(xparam_vec, yaml_list)"
   ]
  },
  {
   "cell_type": "code",
   "execution_count": null,
   "metadata": {},
   "outputs": [],
   "source": []
  }
 ],
 "metadata": {
  "kernelspec": {
   "display_name": "Python 3",
   "language": "python",
   "name": "python3"
  },
  "language_info": {
   "codemirror_mode": {
    "name": "ipython",
    "version": 3
   },
   "file_extension": ".py",
   "mimetype": "text/x-python",
   "name": "python",
   "nbconvert_exporter": "python",
   "pygments_lexer": "ipython3",
   "version": "3.8.5"
  }
 },
 "nbformat": 4,
 "nbformat_minor": 4
}
