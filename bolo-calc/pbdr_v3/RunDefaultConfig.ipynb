{
 "cells": [
  {
   "cell_type": "markdown",
   "metadata": {},
   "source": [
    "## Run default configurations\n",
    "Print out Psats, NET, NET_wafer\n"
   ]
  },
  {
   "cell_type": "code",
   "execution_count": 1,
   "metadata": {},
   "outputs": [
    {
     "name": "stdout",
     "output_type": "stream",
     "text": [
      "CHLAT_20210714.yaml  SAT_LF_20211015.yaml SPLAT_20210714.yaml\r\n",
      "SAT_HF_20210714.yaml SAT_MF_20211015.yaml\r\n"
     ]
    }
   ],
   "source": [
    "# See what yaml files are locally available.\n",
    "!ls *.yaml"
   ]
  },
  {
   "cell_type": "code",
   "execution_count": 2,
   "metadata": {},
   "outputs": [],
   "source": [
    "# Standard imports\n",
    "import numpy as np\n",
    "import yaml\n",
    "import toml\n",
    "import matplotlib\n",
    "import matplotlib.pyplot as plt\n",
    "from datetime import datetime\n",
    "%matplotlib inline  \n",
    "plt.rcParams.update({'font.size': 18})\n",
    "plt.rcParams['figure.figsize'] = [12, 20]\n",
    "\n",
    "# bolo-calc import\n",
    "from bolo import Top\n",
    "\n"
   ]
  },
  {
   "cell_type": "code",
   "execution_count": 3,
   "metadata": {},
   "outputs": [],
   "source": [
    "def print_cam_tables(cam_tables):\n",
    "    for keyname in cam_tables.keys():\n",
    "        if 'cam' in keyname:\n",
    "            print(keyname)\n",
    "            dat = np.array(cam_tables[keyname])\n",
    "            print('  Efficiency:         {0:3.2f}'.format(dat[0][0]))\n",
    "            print('  Optical power (pW): {0:3.2f}'.format(dat[0][1]))\n",
    "            print('  P_sat (pW):         {0:3.2f}'.format(dat[0][2]))\n",
    "            print('  F_link:             {0:3.2f}'.format(dat[0][3]))\n",
    "            print('  G:                  {0:3.2f}'.format(dat[0][4]))\n",
    "            print('  NEP_bolo:           {0:3.2f}'.format(dat[0][7]))\n",
    "            print('  NEP_readout:        {0:3.2f}'.format(dat[0][8]))       \n",
    "            print('  NEP_photon:         {0:3.2f}'.format(dat[0][9]))\n",
    "            print('  NEP_tot:            {0:3.2f}'.format(dat[0][10]))\n",
    "            print('  NET_bolo:           {0:3.2f}'.format(dat[0][11]))\n",
    "            print('  NET_bolo_corr:      {0:3.2f}'.format(dat[0][12]))\n",
    "            print('  corr_factor:        {0:3.2f}'.format(dat[0][13]))\n",
    "            print('  NET_wafer (uncorr)  {0:3.2f}'.format(dat[0][14]))\n",
    "        print()"
   ]
  },
  {
   "cell_type": "markdown",
   "metadata": {},
   "source": [
    "## Run\n",
    "Read yaml files, run bolo_calc, store some outputs into dictionary called \"data\".\n",
    "Print some outputs to table."
   ]
  },
  {
   "cell_type": "code",
   "execution_count": 4,
   "metadata": {},
   "outputs": [
    {
     "name": "stdout",
     "output_type": "stream",
     "text": [
      "SAT_LF_20211015.yaml\n",
      "SAT_LF    Popt(pW) Psat(pW)   NET    NET_wafer  corr_fact\n",
      "LF_1  :     0.62     1.55   171.24    39.08     1.04\n",
      "LF_2  :     2.46     6.14   215.63    49.21     1.01\n",
      " \n",
      "SAT_MF_20211015.yaml\n",
      "SAT_MF    Popt(pW) Psat(pW)   NET    NET_wafer  corr_fact\n",
      "MF1_1 :     3.24     8.19   313.67    20.45     1.03\n",
      "MF1_2 :     5.13    13.24   335.33    21.87     1.00\n",
      "MF2_1 :     3.31     8.19   274.87    16.72     1.02\n",
      "MF2_2 :     5.46    13.24   359.73    21.88     1.00\n",
      " \n",
      "SAT_HF_20210714.yaml\n",
      "SAT_HF    Popt(pW) Psat(pW)   NET    NET_wafer  corr_fact\n",
      "HF_1  :    13.21    33.03   726.90    26.54     1.00\n",
      "HF_2  :    16.25    40.62  1747.15    63.78     1.00\n",
      " \n"
     ]
    }
   ],
   "source": [
    "data = {}\n",
    "\n",
    "yamlfiles = ['SAT_LF_20211015.yaml','SAT_MF_20211015.yaml','SAT_HF_20210714.yaml' ]\n",
    "#read fixed PSATs from .toml file\n",
    "psat_dict = toml.load(\"FixedPsats.toml\")\n",
    "\n",
    "for yamlfile in yamlfiles:\n",
    "    print(yamlfile)\n",
    "    data[yamlfile] = {}\n",
    "    dd = yaml.safe_load(open(yamlfile))\n",
    "    version_date = str(dd['version']['date'])\n",
    "    version_telescope = str(dd['version']['name'])\n",
    "    print('{0:8s}  Popt(pW) Psat(pW)   NET    NET_wafer  corr_fact'.format(version_telescope))\n",
    "    del dd['version']\n",
    "\n",
    "    # location of atmosphere file\n",
    "    dd['sim_config']['config_dir'] = '../../bolo-calc/config'\n",
    "    \n",
    "    ch_names = list(dd['instrument']['camera_config']['elements']['cam_1']['chan_config']['elements'].keys())\n",
    "    \n",
    "    #---------\n",
    "    #convert to Watts\n",
    "    for channel in ch_names:\n",
    "        psat_dict[yamlfile.partition('.')[0]][channel] *= 1e-12\n",
    "\n",
    "    #set psat factor to None & delete psat entry from channel default\n",
    "    dd['instrument']['channel_default']['psat_factor'] = None\n",
    "    del dd['instrument']['channel_default']['psat']\n",
    "\n",
    "    #assign SI psat values at the channel level\n",
    "    for channel in ch_names:\n",
    "        dd['instrument']['camera_config']['elements']['cam_1']['chan_config']['elements'][channel]['psat'] = psat_dict[yamlfile.partition('.')[0]][channel]\n",
    "    #---------\n",
    "    \n",
    "    # Save some of the defaults things\n",
    "    data[yamlfile]['defaults']={}\n",
    "    data[yamlfile]['defaults']['Yield']=dd['instrument']['channel_default']['Yield']\n",
    "    data[yamlfile]['defaults']['Tc']=dd['instrument']['channel_default']['Tc']\n",
    "    data[yamlfile]['defaults']['waist_factor']=dd['instrument']['channel_default']['waist_factor']\n",
    "    data[yamlfile]['defaults']['read_frac']=dd['instrument']['channel_default']['read_frac']\n",
    "    data[yamlfile]['defaults']['site']=dd['instrument']['site']\n",
    "    data[yamlfile]['defaults']['elevation']=dd['instrument']['elevation']\n",
    "    data[yamlfile]['defaults']['pwv']=dd['instrument']['pwv']\n",
    "\n",
    "    top = Top(**dd)\n",
    "    top.run()\n",
    "    \n",
    "    for chan in top.instrument.tables.keys():\n",
    "        if chan.split('_')[0] == 'cam' :\n",
    "            chname = chan.split('_')[2] + '_' + chan.split('_')[3]\n",
    "            data[yamlfile][chname] = {}\n",
    "            #data[yamlfile][chname]['optics']={}\n",
    "            #\n",
    "            # Grab things we're going to print and give them short names and store them in the dictionary.\n",
    "            popt = top.instrument.tables[chan]['opt_power'][0]\n",
    "            data[yamlfile][chname]['popt'] = popt\n",
    "            psat = top.instrument.tables[chan]['P_sat'][0]\n",
    "            data[yamlfile][chname]['psat'] = psat\n",
    "            net = top.instrument.tables[chan]['NET'][0]\n",
    "            data[yamlfile][chname]['net'] = net\n",
    "            netwafer = top.instrument.tables[chan]['NET_arr'][0]\n",
    "            data[yamlfile][chname]['netwafer'] = netwafer\n",
    "            #\n",
    "            # Grab things we're not going to print and store them in the dictionary.\n",
    "            data[yamlfile][chname]['effic'] = top.instrument.tables[chan]['effic'][0]\n",
    "            data[yamlfile][chname]['nep_photon'] = top.instrument.tables[chan]['NEP_ph'][0]\n",
    "            data[yamlfile][chname]['nep_phonon'] = top.instrument.tables[chan]['NEP_bolo'][0]\n",
    "            data[yamlfile][chname]['nep_readout'] = top.instrument.tables[chan]['NEP_read'][0]\n",
    "            data[yamlfile][chname]['Gdyn'] = top.instrument.tables[chan]['G'][0]\n",
    "            corr_fact = top.instrument.tables[chan]['corr_fact'][0]\n",
    "            data[yamlfile][chname]['corr_fact'] = corr_fact \n",
    "            data[yamlfile][chname]['bandcenter'] = dd['instrument']['camera_config']['elements']['cam_1']['chan_config']['elements'][chname]['band_center']\n",
    "            data[yamlfile][chname]['fractional_bandwidth'] = dd['instrument']['camera_config']['elements']['cam_1']['chan_config']['elements'][chname]['fractional_bandwidth']\n",
    "            dnu = 0.5*data[yamlfile][chname]['bandcenter']*data[yamlfile][chname]['fractional_bandwidth']\n",
    "            data[yamlfile][chname]['band_lowedge'] = data[yamlfile][chname]['bandcenter'] - dnu\n",
    "            data[yamlfile][chname]['band_highedge'] = data[yamlfile][chname]['bandcenter'] + dnu\n",
    "            print('{0:5s} : {1:8.2f} {2:8.2f} {3:8.2f} {4:8.2f} {5:8.2f}'.format(chname,popt,psat,net,netwafer,corr_fact) )\n",
    "    print(' ')\n",
    "    "
   ]
  },
  {
   "cell_type": "code",
   "execution_count": 9,
   "metadata": {},
   "outputs": [
    {
     "data": {
      "text/plain": [
       "dict_keys(['cam_1_HF_1_sims', 'cam_1_HF_2_sims', 'optical'])"
      ]
     },
     "execution_count": 9,
     "metadata": {},
     "output_type": "execute_result"
    }
   ],
   "source": [
    "top.instrument.tables.keys()"
   ]
  },
  {
   "cell_type": "code",
   "execution_count": 6,
   "metadata": {},
   "outputs": [
    {
     "name": "stdout",
     "output_type": "stream",
     "text": [
      "cam_1_HF_1_sims\n",
      "  Efficiency:         0.43\n",
      "  Optical power (pW): 13.21\n",
      "  P_sat (pW):         33.03\n",
      "  F_link:             0.52\n",
      "  G:                  926.70\n",
      "  NEP_bolo:           26.20\n",
      "  NEP_readout:        33.23\n",
      "  NEP_photon:         100.43\n",
      "  NEP_tot:            108.98\n",
      "  NET_bolo:           726.90\n",
      "  NET_bolo_corr:      729.93\n",
      "  corr_factor:        1.00\n",
      "  NET_wafer (uncorr)  26.54\n",
      "\n",
      "cam_1_HF_2_sims\n",
      "  Efficiency:         0.39\n",
      "  Optical power (pW): 16.25\n",
      "  P_sat (pW):         40.62\n",
      "  F_link:             0.52\n",
      "  G:                  1139.58\n",
      "  NEP_bolo:           29.06\n",
      "  NEP_readout:        40.55\n",
      "  NEP_photon:         123.27\n",
      "  NEP_tot:            132.98\n",
      "  NET_bolo:           1747.15\n",
      "  NET_bolo_corr:      1750.96\n",
      "  corr_factor:        1.00\n",
      "  NET_wafer (uncorr)  63.78\n",
      "\n",
      "\n"
     ]
    }
   ],
   "source": [
    "print_cam_tables(top.instrument.tables)"
   ]
  },
  {
   "cell_type": "code",
   "execution_count": 7,
   "metadata": {},
   "outputs": [
    {
     "name": "stdout",
     "output_type": "stream",
     "text": [
      "cam_1_HF_1_sims\n",
      "  Efficiency:         0.43\n",
      "  Optical power (pW): 13.21\n",
      "  P_sat (pW):         33.03\n",
      "  F_link:             0.52\n",
      "  G:                  926.70\n",
      "  NEP_bolo:           26.20\n",
      "  NEP_readout:        33.23\n",
      "  NEP_photon:         100.43\n",
      "  NEP_tot:            108.98\n",
      "  NET_bolo:           726.90\n",
      "  NET_bolo_corr:      729.93\n",
      "  corr_factor:        1.00\n",
      "  NET_wafer (uncorr)  26.54\n",
      "\n",
      "cam_1_HF_2_sims\n",
      "  Efficiency:         0.39\n",
      "  Optical power (pW): 16.25\n",
      "  P_sat (pW):         40.62\n",
      "  F_link:             0.52\n",
      "  G:                  1139.58\n",
      "  NEP_bolo:           29.06\n",
      "  NEP_readout:        40.55\n",
      "  NEP_photon:         123.27\n",
      "  NEP_tot:            132.98\n",
      "  NET_bolo:           1747.15\n",
      "  NET_bolo_corr:      1750.96\n",
      "  corr_factor:        1.00\n",
      "  NET_wafer (uncorr)  63.78\n",
      "\n",
      "\n"
     ]
    }
   ],
   "source": [
    "for keyname in top.instrument.tables.keys():\n",
    "    if 'cam' in keyname:\n",
    "        print(keyname)\n",
    "        dat = np.array(top.instrument.tables[keyname])\n",
    "        print('  Efficiency:         {0:3.2f}'.format(dat[0][0]))\n",
    "        print('  Optical power (pW): {0:3.2f}'.format(dat[0][1]))\n",
    "        print('  P_sat (pW):         {0:3.2f}'.format(dat[0][2]))\n",
    "        print('  F_link:             {0:3.2f}'.format(dat[0][3]))\n",
    "        print('  G:                  {0:3.2f}'.format(dat[0][4]))\n",
    "        print('  NEP_bolo:           {0:3.2f}'.format(dat[0][7]))\n",
    "        print('  NEP_readout:        {0:3.2f}'.format(dat[0][8]))       \n",
    "        print('  NEP_photon:         {0:3.2f}'.format(dat[0][9]))\n",
    "        print('  NEP_tot:            {0:3.2f}'.format(dat[0][10]))\n",
    "        print('  NET_bolo:           {0:3.2f}'.format(dat[0][11]))\n",
    "        print('  NET_bolo_corr:      {0:3.2f}'.format(dat[0][12]))\n",
    "        print('  corr_factor:        {0:3.2f}'.format(dat[0][13]))\n",
    "        print('  NET_wafer (uncorr)  {0:3.2f}'.format(dat[0][14]))\n",
    "    print()"
   ]
  },
  {
   "cell_type": "code",
   "execution_count": 8,
   "metadata": {},
   "outputs": [
    {
     "name": "stdout",
     "output_type": "stream",
     "text": [
      "channel   element     elem_effic_mean   elem_power_to_det_mean\n",
      "------- ------------ ------------------ ----------------------\n",
      "cam_1_0          cmb                1.0    0.07200198898411314\n",
      "cam_1_0         dust                1.0 5.5176143804721444e-15\n",
      "cam_1_0  synchrotron                1.0   4.11826544261421e-14\n",
      "cam_1_0   atmosphere 0.9464398800370454      4.330874615944832\n",
      "cam_1_0       baffle 0.9899999999999914     0.9859178571851459\n",
      "cam_1_0       window 0.9274315235162751      6.724004976003351\n",
      "cam_1_0     RTMLI_10 0.9956499999999945    0.25102320159647484\n",
      "cam_1_0 alumina_filt 0.9375897936799006     0.8245855394362664\n",
      "cam_1_0   nylon_filt 0.9208980000000017   0.024851409120677126\n",
      "cam_1_0        lens1 0.9720829084373913  9.398019511114074e-07\n",
      "cam_1_0     aperture 0.9674875014633018  5.582622684484288e-06\n",
      "cam_1_0        lens2 0.9720829084373913  1.009510021986802e-06\n",
      "cam_1_0      lowpass 0.9405000000000102 1.1954367078418617e-44\n",
      "cam_1_0     detector  0.670000000000006                    0.0\n",
      "\n",
      "channel   element     elem_effic_mean   elem_power_to_det_mean\n",
      "------- ------------ ------------------ ----------------------\n",
      "cam_1_1          cmb                1.0    0.02940865919578297\n",
      "cam_1_1         dust                1.0 6.5582470093197236e-15\n",
      "cam_1_1  synchrotron                1.0 1.8747509198396545e-14\n",
      "cam_1_1   atmosphere 0.9218305635952218      5.904766051100758\n",
      "cam_1_1       baffle 0.9899999999999946     0.9192960711997238\n",
      "cam_1_1       window 0.9119558325427226     7.9450631518340575\n",
      "cam_1_1     RTMLI_10  0.991699999999989    0.45400444182895133\n",
      "cam_1_1 alumina_filt 0.9269598671677649     0.9685576938279882\n",
      "cam_1_1   nylon_filt 0.8682299999999922    0.02716145746035398\n",
      "cam_1_1        lens1 0.9700529479300409  9.566583129981193e-08\n",
      "cam_1_1     aperture 0.9955074473182833  6.445387014603552e-08\n",
      "cam_1_1        lens2 0.9700529479300409  9.921305459477576e-08\n",
      "cam_1_1      lowpass 0.9405000000000019 2.7449617792851584e-45\n",
      "cam_1_1     detector 0.6600000000000009                    0.0\n",
      "\n"
     ]
    },
    {
     "ename": "IndexError",
     "evalue": "index 28 is out of bounds for axis 0 with size 28",
     "output_type": "error",
     "traceback": [
      "\u001b[0;31m--------------------------------------------------------------------------\u001b[0m",
      "\u001b[0;31mIndexError\u001b[0m                               Traceback (most recent call last)",
      "\u001b[0;32m<ipython-input-8-3d34c31a7fb2>\u001b[0m in \u001b[0;36m<module>\u001b[0;34m\u001b[0m\n\u001b[1;32m      4\u001b[0m \u001b[0;32mfor\u001b[0m \u001b[0mnnn\u001b[0m \u001b[0;32min\u001b[0m \u001b[0mrange\u001b[0m\u001b[0;34m(\u001b[0m\u001b[0mncams\u001b[0m\u001b[0;34m)\u001b[0m\u001b[0;34m:\u001b[0m\u001b[0;34m\u001b[0m\u001b[0;34m\u001b[0m\u001b[0m\n\u001b[1;32m      5\u001b[0m     \u001b[0mrows\u001b[0m \u001b[0;34m=\u001b[0m \u001b[0mnnn\u001b[0m\u001b[0;34m*\u001b[0m\u001b[0;36m14\u001b[0m \u001b[0;34m+\u001b[0m \u001b[0mnp\u001b[0m\u001b[0;34m.\u001b[0m\u001b[0marange\u001b[0m\u001b[0;34m(\u001b[0m\u001b[0;36m14\u001b[0m\u001b[0;34m)\u001b[0m\u001b[0;34m\u001b[0m\u001b[0;34m\u001b[0m\u001b[0m\n\u001b[0;32m----> 6\u001b[0;31m     \u001b[0mtop\u001b[0m\u001b[0;34m.\u001b[0m\u001b[0minstrument\u001b[0m\u001b[0;34m.\u001b[0m\u001b[0mtables\u001b[0m\u001b[0;34m[\u001b[0m\u001b[0;34m'optical'\u001b[0m\u001b[0;34m]\u001b[0m\u001b[0;34m[\u001b[0m\u001b[0;34m'channel'\u001b[0m\u001b[0;34m,\u001b[0m \u001b[0;34m'element'\u001b[0m\u001b[0;34m,\u001b[0m\u001b[0;34m'elem_effic_mean'\u001b[0m\u001b[0;34m,\u001b[0m\u001b[0;34m'elem_power_to_det_mean'\u001b[0m\u001b[0;34m]\u001b[0m\u001b[0;34m[\u001b[0m\u001b[0mrows\u001b[0m\u001b[0;34m]\u001b[0m\u001b[0;34m.\u001b[0m\u001b[0mpprint\u001b[0m\u001b[0;34m(\u001b[0m\u001b[0;34m)\u001b[0m\u001b[0;34m\u001b[0m\u001b[0;34m\u001b[0m\u001b[0m\n\u001b[0m\u001b[1;32m      7\u001b[0m     \u001b[0mprint\u001b[0m\u001b[0;34m(\u001b[0m\u001b[0;34m)\u001b[0m\u001b[0;34m\u001b[0m\u001b[0;34m\u001b[0m\u001b[0m\n",
      "\u001b[0;32m/opt/anaconda3/lib/python3.8/site-packages/astropy/table/table.py\u001b[0m in \u001b[0;36m__getitem__\u001b[0;34m(self, item)\u001b[0m\n\u001b[1;32m   1624\u001b[0m             \u001b[0;31m# is produced by np.where, as in t[np.where(t['a'] > 2)]\u001b[0m\u001b[0;34m\u001b[0m\u001b[0;34m\u001b[0m\u001b[0;34m\u001b[0m\u001b[0m\n\u001b[1;32m   1625\u001b[0m             \u001b[0;31m# For all, a new table is constructed with slice of all columns\u001b[0m\u001b[0;34m\u001b[0m\u001b[0;34m\u001b[0m\u001b[0;34m\u001b[0m\u001b[0m\n\u001b[0;32m-> 1626\u001b[0;31m             \u001b[0;32mreturn\u001b[0m \u001b[0mself\u001b[0m\u001b[0;34m.\u001b[0m\u001b[0m_new_from_slice\u001b[0m\u001b[0;34m(\u001b[0m\u001b[0mitem\u001b[0m\u001b[0;34m)\u001b[0m\u001b[0;34m\u001b[0m\u001b[0;34m\u001b[0m\u001b[0m\n\u001b[0m\u001b[1;32m   1627\u001b[0m         \u001b[0;32melse\u001b[0m\u001b[0;34m:\u001b[0m\u001b[0;34m\u001b[0m\u001b[0;34m\u001b[0m\u001b[0m\n\u001b[1;32m   1628\u001b[0m             raise ValueError('Illegal type {} for table item access'\n",
      "\u001b[0;32m/opt/anaconda3/lib/python3.8/site-packages/astropy/table/table.py\u001b[0m in \u001b[0;36m_new_from_slice\u001b[0;34m(self, slice_)\u001b[0m\n\u001b[1;32m   1143\u001b[0m         \u001b[0mnewcols\u001b[0m \u001b[0;34m=\u001b[0m \u001b[0;34m[\u001b[0m\u001b[0;34m]\u001b[0m\u001b[0;34m\u001b[0m\u001b[0;34m\u001b[0m\u001b[0m\n\u001b[1;32m   1144\u001b[0m         \u001b[0;32mfor\u001b[0m \u001b[0mcol\u001b[0m \u001b[0;32min\u001b[0m \u001b[0mself\u001b[0m\u001b[0;34m.\u001b[0m\u001b[0mcolumns\u001b[0m\u001b[0;34m.\u001b[0m\u001b[0mvalues\u001b[0m\u001b[0;34m(\u001b[0m\u001b[0;34m)\u001b[0m\u001b[0;34m:\u001b[0m\u001b[0;34m\u001b[0m\u001b[0;34m\u001b[0m\u001b[0m\n\u001b[0;32m-> 1145\u001b[0;31m             \u001b[0mnewcol\u001b[0m \u001b[0;34m=\u001b[0m \u001b[0mcol\u001b[0m\u001b[0;34m[\u001b[0m\u001b[0mslice_\u001b[0m\u001b[0;34m]\u001b[0m\u001b[0;34m\u001b[0m\u001b[0;34m\u001b[0m\u001b[0m\n\u001b[0m\u001b[1;32m   1146\u001b[0m \u001b[0;34m\u001b[0m\u001b[0m\n\u001b[1;32m   1147\u001b[0m             \u001b[0;31m# Note in line below, use direct attribute access to col.indices for Column\u001b[0m\u001b[0;34m\u001b[0m\u001b[0;34m\u001b[0m\u001b[0;34m\u001b[0m\u001b[0m\n",
      "\u001b[0;32mastropy/table/_column_mixins.pyx\u001b[0m in \u001b[0;36mastropy.table._column_mixins._ColumnGetitemShim.__getitem__\u001b[0;34m()\u001b[0m\n",
      "\u001b[0;32mastropy/table/_column_mixins.pyx\u001b[0m in \u001b[0;36mastropy.table._column_mixins.base_getitem\u001b[0;34m()\u001b[0m\n",
      "\u001b[0;32mastropy/table/_column_mixins.pyx\u001b[0m in \u001b[0;36mastropy.table._column_mixins.column_getitem\u001b[0;34m()\u001b[0m\n",
      "\u001b[0;31mIndexError\u001b[0m: index 28 is out of bounds for axis 0 with size 28"
     ]
    }
   ],
   "source": [
    "#\n",
    "ncams = 4 # 4 for SAT MF, otherwise 2.\n",
    "\n",
    "for nnn in range(ncams):\n",
    "    rows = nnn*14 + np.arange(14)\n",
    "    top.instrument.tables['optical']['channel', 'element','elem_effic_mean','elem_power_to_det_mean'][rows].pprint()\n",
    "    print()"
   ]
  },
  {
   "cell_type": "markdown",
   "metadata": {},
   "source": [
    "## Make a 4-panel plot.\n",
    "Popt, Psat, NET, NET_wafer"
   ]
  },
  {
   "cell_type": "code",
   "execution_count": 16,
   "metadata": {},
   "outputs": [
    {
     "data": {
      "text/plain": [
       "Text(0.5, 1.0, '20210714')"
      ]
     },
     "execution_count": 16,
     "metadata": {},
     "output_type": "execute_result"
    },
    {
     "data": {
      "image/png": "[encoded data removed]",
      "text/plain": [
       "<Figure size 864x1440 with 4 Axes>"
      ]
     },
     "metadata": {
      "needs_background": "light"
     },
     "output_type": "display_data"
    }
   ],
   "source": [
    "# Plot things vs frequency for each telescope\n",
    "\n",
    "# Set up a 4-panel plot\n",
    "plt.clf()\n",
    "ax1=plt.subplot(4,1,1)\n",
    "ax1.set_ylabel('P_opt')\n",
    "ax1.set_xlim(0,300)\n",
    "ax1.set_ylim(0.1,70)\n",
    "ax1.grid()\n",
    "#\n",
    "ax2=plt.subplot(4,1,2)\n",
    "ax2.set_ylabel('P_sat')\n",
    "ax2.set_xlim(0,300)\n",
    "ax2.set_ylim(0.1,70)\n",
    "ax2.grid()\n",
    "#\n",
    "ax3=plt.subplot(4,1,3)\n",
    "ax3.set_ylabel('Single Detector NET')\n",
    "ax3.set_xlim(0,300)\n",
    "ax3.grid()\n",
    "#\n",
    "ax4=plt.subplot(4,1,4)\n",
    "ax4.set_ylabel('NET_wafer')\n",
    "ax4.set_xlim(0,300)\n",
    "ax4.grid()\n",
    "yfrac = 0.7\n",
    "\n",
    "for yamlfile in yamlfiles: \n",
    "    telescope = yamlfile.split('_')[0]\n",
    "    if telescope == 'CHLAT':\n",
    "        pointtype = '.r'\n",
    "    elif telescope == 'SPLAT':\n",
    "        pointtype = '.b'\n",
    "    else:\n",
    "        pointtype = '+m'\n",
    "    \n",
    "    for chname in data[yamlfile].keys():\n",
    "        if chname != 'defaults':\n",
    "            nu = data[yamlfile][chname]['bandcenter']\n",
    "            #\n",
    "            ax1.semilogy(nu, data[yamlfile][chname]['popt'],pointtype, markersize=15 )\n",
    "            ax2.semilogy(nu, data[yamlfile][chname]['psat'],pointtype, markersize=15 )\n",
    "            ax3.plot(nu, data[yamlfile][chname]['net'],pointtype, markersize=15 )\n",
    "            ax4.plot(nu, data[yamlfile][chname]['netwafer'],pointtype, markersize=15 )\n",
    "            #\n",
    "    \n",
    "    ymin,ymax = ax1.set_ylim()\n",
    "    xmin,xmax = ax1.set_xlim()\n",
    "    xval = xmin+0.05*(xmax-xmin)\n",
    "    yval = ymin+yfrac*(ymax-ymin)\n",
    "    ax1.semilogy(xval,yval,pointtype,markersize=15)\n",
    "    ax1.text(xval+0.05*(xmax-xmin),yval,telescope,verticalalignment='center')\n",
    "    yfrac = yfrac*0.6\n",
    "\n",
    "\n",
    "ax1.grid()\n",
    "ax1.grid()\n",
    "ax1.set_title(version_date)\n",
    "    "
   ]
  },
  {
   "cell_type": "markdown",
   "metadata": {},
   "source": [
    "## Make a 4-panel plot.\n",
    "efficiency, NEP_photon, NEP_phonon, NEP_readout"
   ]
  },
  {
   "cell_type": "code",
   "execution_count": 12,
   "metadata": {},
   "outputs": [
    {
     "data": {
      "text/plain": [
       "Text(0.5, 1.0, '20210714')"
      ]
     },
     "execution_count": 12,
     "metadata": {},
     "output_type": "execute_result"
    },
    {
     "data": {
      "image/png": "[encoded data removed]",
      "text/plain": [
       "<Figure size 864x1440 with 4 Axes>"
      ]
     },
     "metadata": {
      "needs_background": "light"
     },
     "output_type": "display_data"
    }
   ],
   "source": [
    "plt.clf()\n",
    "ax1=plt.subplot(4,1,1)\n",
    "ax1.set_ylabel('Effic.')\n",
    "ax1.set_xlim(0,300)\n",
    "ax1.set_ylim(0,0.7)\n",
    "ax1.grid()\n",
    "#\n",
    "ax2=plt.subplot(4,1,2)\n",
    "ax2.set_ylabel('NEP_photon')\n",
    "ax2.set_xlim(0,300)\n",
    "ax2.set_ylim(1,200)\n",
    "ax2.grid()\n",
    "#\n",
    "ax3=plt.subplot(4,1,3)\n",
    "ax3.set_ylabel('NEP_phonon')\n",
    "ax3.set_xlim(0,300)\n",
    "ax3.set_ylim(1,200)\n",
    "ax3.grid()\n",
    "#\n",
    "ax4=plt.subplot(4,1,4)\n",
    "ax4.set_ylabel('NEP_readout')\n",
    "ax4.set_xlim(0,300)\n",
    "ax4.set_ylim(1,200)\n",
    "ax4.grid()\n",
    "\n",
    "#data = {}\n",
    "yfrac = 0.3\n",
    "\n",
    "for yamlfile in yamlfiles: \n",
    "    telescope = yamlfile.split('_')[0]\n",
    "    if telescope == 'CHLAT':\n",
    "        pointtype = '.r'\n",
    "    elif telescope == 'SPLAT':\n",
    "        pointtype = '.b'\n",
    "    else:\n",
    "        pointtype = '+m'\n",
    "    \n",
    "    for chname in data[yamlfile].keys():\n",
    "        if chname != 'defaults':\n",
    "            nu = data[yamlfile][chname]['bandcenter']\n",
    "            #\n",
    "            ax1.plot(nu, data[yamlfile][chname]['effic'],pointtype, markersize=15 )\n",
    "            ax2.semilogy(nu, data[yamlfile][chname]['nep_photon'],pointtype, markersize=15 )\n",
    "            ax3.semilogy(nu, data[yamlfile][chname]['nep_phonon'],pointtype, markersize=15 )\n",
    "            ax4.semilogy(nu, data[yamlfile][chname]['nep_readout'],pointtype, markersize=15 )\n",
    "\n",
    "    \n",
    "    ymin,ymax = ax1.set_ylim()\n",
    "    xmin,xmax = ax1.set_xlim()\n",
    "    xval = xmin+0.7*(xmax-xmin)\n",
    "    yval = ymin+yfrac*(ymax-ymin)\n",
    "    ax1.plot(xval,yval,pointtype,markersize=15)\n",
    "    ax1.text(xval+0.05*(xmax-xmin),yval,telescope,verticalalignment='center')\n",
    "    yfrac = yfrac-0.1\n",
    "\n",
    "\n",
    "ax1.grid()\n",
    "ax1.grid()\n",
    "ax1.set_title(version_date)\n",
    "\n"
   ]
  },
  {
   "cell_type": "code",
   "execution_count": 17,
   "metadata": {},
   "outputs": [],
   "source": [
    "# Write to files\n",
    "data['runtime'] = datetime.today().strftime('%Y/%m/%d %H:%M:%S')\n",
    "data['input_id'] = version_date\n",
    "data['variation'] = 'BaseModel'\n",
    "\n",
    "# Write to toml file\n",
    "output_file_name = data['variation'] + '.toml'\n",
    "with open('outputs/' + output_file_name, \"w\") as toml_file:\n",
    "    toml.dump(data, toml_file, encoder=toml.TomlNumpyEncoder())"
   ]
  },
  {
   "cell_type": "markdown",
   "metadata": {},
   "source": [
    "## Notes\n",
    "Key lists etc."
   ]
  },
  {
   "cell_type": "code",
   "execution_count": null,
   "metadata": {},
   "outputs": [],
   "source": [
    "data2 = {}\n",
    "data2['SAT_pole_20210401'] = {'LF_1': 1.40, 'LF_2': 6.13, 'MF1_1': 7.40, 'MF1_2': 12.25, 'MF2_1': 7.65, 'MF2_2': 13.30, 'UHF_1': 29.88, 'UHF_2': 39.03}\n",
    "data2['SPLAT_20210401'] = {'ULF': 0.42, 'LF_1': 0.69, 'LF_2': 4.32, 'MF_1': 4.65, 'MF_2': 11.49, 'UHF_1': 29.31, 'UHF_2': 40.02}\n",
    "data2['CHLAT_20210401'] = {'LF_1': 0.72, 'LF_2': 3.84, 'MF_1': 4.47, 'MF_2': 13.95, 'UHF_1': 41.52, 'UHF_2': 60.78}\n",
    "\n",
    "# Write to toml file\n",
    "with open('FixedPsats.toml', \"w\") as toml_file:\n",
    "    toml.dump(data2, toml_file, encoder=toml.TomlNumpyEncoder())"
   ]
  },
  {
   "cell_type": "code",
   "execution_count": null,
   "metadata": {},
   "outputs": [],
   "source": [
    "top.instrument.tables.keys()"
   ]
  },
  {
   "cell_type": "code",
   "execution_count": null,
   "metadata": {},
   "outputs": [],
   "source": [
    "data[yamlfile][chname]['Gdyn']"
   ]
  },
  {
   "cell_type": "code",
   "execution_count": null,
   "metadata": {},
   "outputs": [],
   "source": []
  }
 ],
 "metadata": {
  "kernelspec": {
   "display_name": "Python 3",
   "language": "python",
   "name": "python3"
  },
  "language_info": {
   "codemirror_mode": {
    "name": "ipython",
    "version": 3
   },
   "file_extension": ".py",
   "mimetype": "text/x-python",
   "name": "python",
   "nbconvert_exporter": "python",
   "pygments_lexer": "ipython3",
   "version": "3.8.3"
  }
 },
 "nbformat": 4,
 "nbformat_minor": 5
}
