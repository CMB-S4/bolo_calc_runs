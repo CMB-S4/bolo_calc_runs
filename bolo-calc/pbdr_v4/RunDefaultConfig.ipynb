{
 "cells": [
  {
   "cell_type": "markdown",
   "id": "a7139e2e",
   "metadata": {},
   "source": [
    "## Run default configurations\n",
    "Print out Psats, NET, NET_wafer\n"
   ]
  },
  {
   "cell_type": "code",
   "execution_count": 46,
   "id": "6f268988-18f7-4415-a7d9-ffe9ff23c5f7",
   "metadata": {},
   "outputs": [],
   "source": [
    "import glob"
   ]
  },
  {
   "cell_type": "code",
   "execution_count": 47,
   "id": "e42b0596",
   "metadata": {},
   "outputs": [
    {
     "data": {
      "text/plain": [
       "['CHLAT_20210714.yaml',\n",
       " 'SAT_HF_20220524.yaml',\n",
       " 'SAT_LF_20211015.yaml',\n",
       " 'SAT_MF_20211015.yaml',\n",
       " 'SPLAT_20210714.yaml']"
      ]
     },
     "execution_count": 47,
     "metadata": {},
     "output_type": "execute_result"
    }
   ],
   "source": [
    "# See what yaml files are locally available.\n",
    "glob.glob('*.yaml')"
   ]
  },
  {
   "cell_type": "code",
   "execution_count": 48,
   "id": "c7f39318",
   "metadata": {},
   "outputs": [],
   "source": [
    "# Standard imports\n",
    "import numpy as np\n",
    "import yaml\n",
    "import toml\n",
    "import matplotlib\n",
    "import matplotlib.pyplot as plt\n",
    "from datetime import datetime\n",
    "%matplotlib inline  \n",
    "plt.rcParams.update({'font.size': 18})\n",
    "plt.rcParams['figure.figsize'] = [12, 20]\n",
    "\n",
    "# bolo-calc import\n",
    "from bolo import Top\n",
    "\n"
   ]
  },
  {
   "cell_type": "code",
   "execution_count": 49,
   "id": "38f7909c",
   "metadata": {},
   "outputs": [],
   "source": [
    "def print_cam_tables(cam_tables):\n",
    "    for keyname in cam_tables.keys():\n",
    "        if 'cam' in keyname:\n",
    "            print(keyname)\n",
    "            dat = np.array(cam_tables[keyname])\n",
    "            print('  Efficiency:         {0:3.2f}'.format(dat[0][0]))\n",
    "            print('  Optical power (pW): {0:3.2f}'.format(dat[0][1]))\n",
    "            print('  P_sat (pW):         {0:3.2f}'.format(dat[0][2]))\n",
    "            print('  F_link:             {0:3.2f}'.format(dat[0][3]))\n",
    "            print('  G:                  {0:3.2f}'.format(dat[0][4]))\n",
    "            print('  NEP_bolo:           {0:3.2f}'.format(dat[0][7]))\n",
    "            print('  NEP_readout:        {0:3.2f}'.format(dat[0][8]))       \n",
    "            print('  NEP_photon:         {0:3.2f}'.format(dat[0][9]))\n",
    "            print('  NEP_tot:            {0:3.2f}'.format(dat[0][10]))\n",
    "            print('  NET_bolo:           {0:3.2f}'.format(dat[0][11]))\n",
    "            print('  NET_bolo_corr:      {0:3.2f}'.format(dat[0][12]))\n",
    "            print('  corr_factor:        {0:3.2f}'.format(dat[0][13]))\n",
    "            print('  NET_wafer (uncorr)  {0:3.2f}'.format(dat[0][14]))\n",
    "        print()"
   ]
  },
  {
   "cell_type": "markdown",
   "id": "c25d804b",
   "metadata": {},
   "source": [
    "## Run\n",
    "Read yaml files, run bolo_calc, store some outputs into dictionary called \"data\".\n",
    "Print some outputs to table."
   ]
  },
  {
   "cell_type": "code",
   "execution_count": 50,
   "id": "ac0f78f6",
   "metadata": {},
   "outputs": [
    {
     "name": "stdout",
     "output_type": "stream",
     "text": [
      "SAT_LF_20211015.yaml\n",
      "SAT_LF    Popt(pW) Psat(pW)   NET    NET_wafer  corr_fact\n",
      "LF_1  :     0.62     1.55   171.21    39.07     1.04\n",
      "LF_2  :     2.46     6.15   215.61    49.21     1.01\n",
      " \n",
      "SAT_MF_20211015.yaml\n",
      "SAT_MF    Popt(pW) Psat(pW)   NET    NET_wafer  corr_fact\n",
      "MF1_1 :     3.25     8.21   313.53    20.44     1.03\n",
      "MF1_2 :     5.15    13.29   335.04    21.85     1.00\n",
      "MF2_1 :     3.32     8.21   274.73    16.71     1.02\n",
      "MF2_2 :     5.49    13.29   359.39    21.86     1.00\n",
      " \n",
      "SAT_HF_20220524.yaml\n",
      "SAT_HF    Popt(pW) Psat(pW)   NET    NET_wafer  corr_fact\n",
      "HF_1  :    10.82    27.05   755.58    27.58     1.01\n",
      "HF_2  :    13.28    33.21  1824.29    66.60     1.00\n",
      " \n"
     ]
    }
   ],
   "source": [
    "data = {}\n",
    "\n",
    "yamlfiles = ['SAT_LF_20211015.yaml','SAT_MF_20211015.yaml', 'SAT_HF_20220524.yaml' ]\n",
    "#read fixed PSATs from .toml file\n",
    "psat_dict = toml.load(\"FixedPsats.toml\")\n",
    "\n",
    "for yamlfile in yamlfiles:\n",
    "    print(yamlfile)\n",
    "    data[yamlfile] = {}\n",
    "    dd = yaml.safe_load(open(yamlfile))\n",
    "    version_date = str(dd['version']['date'])\n",
    "    version_telescope = str(dd['version']['name'])\n",
    "    print('{0:8s}  Popt(pW) Psat(pW)   NET    NET_wafer  corr_fact'.format(version_telescope))\n",
    "    del dd['version']\n",
    "\n",
    "    # location of atmosphere file\n",
    "    dd['sim_config']['config_dir'] = '../scripts'\n",
    "    \n",
    "    ch_names = list(dd['instrument']['camera_config']['elements']['cam_1']['chan_config']['elements'].keys())\n",
    "    \n",
    "    #---------\n",
    "    #convert to Watts\n",
    "    for channel in ch_names:\n",
    "        psat_dict[yamlfile.partition('.')[0]][channel] *= 1e-12\n",
    "\n",
    "    #set psat factor to None & delete psat entry from channel default\n",
    "    dd['instrument']['channel_default']['psat_factor'] = None\n",
    "    del dd['instrument']['channel_default']['psat']\n",
    "\n",
    "    #assign SI psat values at the channel level\n",
    "    for channel in ch_names:\n",
    "        dd['instrument']['camera_config']['elements']['cam_1']['chan_config']['elements'][channel]['psat'] = psat_dict[yamlfile.partition('.')[0]][channel]\n",
    "    #---------\n",
    "    \n",
    "    # Save some of the defaults things\n",
    "    data[yamlfile]['defaults']={}\n",
    "    data[yamlfile]['defaults']['Yield']=dd['instrument']['channel_default']['Yield']\n",
    "    data[yamlfile]['defaults']['Tc']=dd['instrument']['channel_default']['Tc']\n",
    "    data[yamlfile]['defaults']['waist_factor']=dd['instrument']['channel_default']['waist_factor']\n",
    "    data[yamlfile]['defaults']['read_frac']=dd['instrument']['channel_default']['read_frac']\n",
    "    data[yamlfile]['defaults']['site']=dd['instrument']['site']\n",
    "    data[yamlfile]['defaults']['elevation']=dd['instrument']['elevation']\n",
    "    data[yamlfile]['defaults']['pwv']=dd['instrument']['pwv']\n",
    "\n",
    "    top = Top(**dd)\n",
    "    top.run()\n",
    "    \n",
    "    for chan in top.instrument.tables.keys():\n",
    "        if chan.split('_')[0] == 'cam' :\n",
    "            chname = chan.split('_')[2] + '_' + chan.split('_')[3]\n",
    "            data[yamlfile][chname] = {}\n",
    "            #data[yamlfile][chname]['optics']={}\n",
    "            #\n",
    "            # Grab things we're going to print and give them short names and store them in the dictionary.\n",
    "            popt = top.instrument.tables[chan]['opt_power'][0]\n",
    "            data[yamlfile][chname]['popt'] = popt\n",
    "            psat = top.instrument.tables[chan]['P_sat'][0]\n",
    "            data[yamlfile][chname]['psat'] = psat\n",
    "            net = top.instrument.tables[chan]['NET'][0]\n",
    "            data[yamlfile][chname]['net'] = net\n",
    "            netwafer = top.instrument.tables[chan]['NET_arr'][0]\n",
    "            data[yamlfile][chname]['netwafer'] = netwafer\n",
    "            #\n",
    "            # Grab things we're not going to print and store them in the dictionary.\n",
    "            data[yamlfile][chname]['effic'] = top.instrument.tables[chan]['effic'][0]\n",
    "            data[yamlfile][chname]['nep_photon'] = top.instrument.tables[chan]['NEP_ph'][0]\n",
    "            data[yamlfile][chname]['nep_phonon'] = top.instrument.tables[chan]['NEP_bolo'][0]\n",
    "            data[yamlfile][chname]['nep_readout'] = top.instrument.tables[chan]['NEP_read'][0]\n",
    "            data[yamlfile][chname]['Gdyn'] = top.instrument.tables[chan]['G'][0]\n",
    "            corr_fact = top.instrument.tables[chan]['corr_fact'][0]\n",
    "            data[yamlfile][chname]['corr_fact'] = corr_fact \n",
    "            data[yamlfile][chname]['bandcenter'] = dd['instrument']['camera_config']['elements']['cam_1']['chan_config']['elements'][chname]['band_center']\n",
    "            data[yamlfile][chname]['fractional_bandwidth'] = dd['instrument']['camera_config']['elements']['cam_1']['chan_config']['elements'][chname]['fractional_bandwidth']\n",
    "            dnu = 0.5*data[yamlfile][chname]['bandcenter']*data[yamlfile][chname]['fractional_bandwidth']\n",
    "            data[yamlfile][chname]['band_lowedge'] = data[yamlfile][chname]['bandcenter'] - dnu\n",
    "            data[yamlfile][chname]['band_highedge'] = data[yamlfile][chname]['bandcenter'] + dnu\n",
    "            print('{0:5s} : {1:8.2f} {2:8.2f} {3:8.2f} {4:8.2f} {5:8.2f}'.format(chname,popt,psat,net,netwafer,corr_fact) )\n",
    "    print(' ')\n",
    "    "
   ]
  },
  {
   "cell_type": "code",
   "execution_count": 51,
   "id": "1598d2cb",
   "metadata": {},
   "outputs": [
    {
     "data": {
      "text/plain": [
       "dict_keys(['cam_1_HF_1_sims', 'cam_1_HF_2_sims', 'optical'])"
      ]
     },
     "execution_count": 51,
     "metadata": {},
     "output_type": "execute_result"
    }
   ],
   "source": [
    "top.instrument.tables.keys()"
   ]
  },
  {
   "cell_type": "code",
   "execution_count": 52,
   "id": "32ab43a6",
   "metadata": {},
   "outputs": [
    {
     "name": "stdout",
     "output_type": "stream",
     "text": [
      "cam_1_HF_1_sims\n",
      "  Efficiency:         0.35\n",
      "  Optical power (pW): 10.82\n",
      "  P_sat (pW):         27.05\n",
      "  F_link:             0.52\n",
      "  G:                  758.80\n",
      "  NEP_bolo:           23.71\n",
      "  NEP_readout:        28.45\n",
      "  NEP_photon:         85.64\n",
      "  NEP_tot:            93.31\n",
      "  NET_bolo:           755.58\n",
      "  NET_bolo_corr:      761.35\n",
      "  corr_factor:        1.01\n",
      "  NET_wafer (uncorr)  27.58\n",
      "\n",
      "cam_1_HF_2_sims\n",
      "  Efficiency:         0.32\n",
      "  Optical power (pW): 13.28\n",
      "  P_sat (pW):         33.21\n",
      "  F_link:             0.52\n",
      "  G:                  931.70\n",
      "  NEP_bolo:           26.27\n",
      "  NEP_readout:        34.71\n",
      "  NEP_photon:         105.20\n",
      "  NEP_tot:            113.85\n",
      "  NET_bolo:           1824.29\n",
      "  NET_bolo_corr:      1826.51\n",
      "  corr_factor:        1.00\n",
      "  NET_wafer (uncorr)  66.60\n",
      "\n",
      "\n"
     ]
    }
   ],
   "source": [
    "print_cam_tables(top.instrument.tables)"
   ]
  },
  {
   "cell_type": "code",
   "execution_count": 53,
   "id": "d677b8e4",
   "metadata": {},
   "outputs": [
    {
     "name": "stdout",
     "output_type": "stream",
     "text": [
      "cam_1_HF_1_sims\n",
      "  Efficiency:         0.35\n",
      "  Optical power (pW): 10.82\n",
      "  P_sat (pW):         27.05\n",
      "  F_link:             0.52\n",
      "  G:                  758.80\n",
      "  NEP_bolo:           23.71\n",
      "  NEP_readout:        28.45\n",
      "  NEP_photon:         85.64\n",
      "  NEP_tot:            93.31\n",
      "  NET_bolo:           755.58\n",
      "  NET_bolo_corr:      761.35\n",
      "  corr_factor:        1.01\n",
      "  NET_wafer (uncorr)  27.58\n",
      "\n",
      "cam_1_HF_2_sims\n",
      "  Efficiency:         0.32\n",
      "  Optical power (pW): 13.28\n",
      "  P_sat (pW):         33.21\n",
      "  F_link:             0.52\n",
      "  G:                  931.70\n",
      "  NEP_bolo:           26.27\n",
      "  NEP_readout:        34.71\n",
      "  NEP_photon:         105.20\n",
      "  NEP_tot:            113.85\n",
      "  NET_bolo:           1824.29\n",
      "  NET_bolo_corr:      1826.51\n",
      "  corr_factor:        1.00\n",
      "  NET_wafer (uncorr)  66.60\n",
      "\n",
      "\n"
     ]
    }
   ],
   "source": [
    "for keyname in top.instrument.tables.keys():\n",
    "    if 'cam' in keyname:\n",
    "        print(keyname)\n",
    "        dat = np.array(top.instrument.tables[keyname])\n",
    "        print('  Efficiency:         {0:3.2f}'.format(dat[0][0]))\n",
    "        print('  Optical power (pW): {0:3.2f}'.format(dat[0][1]))\n",
    "        print('  P_sat (pW):         {0:3.2f}'.format(dat[0][2]))\n",
    "        print('  F_link:             {0:3.2f}'.format(dat[0][3]))\n",
    "        print('  G:                  {0:3.2f}'.format(dat[0][4]))\n",
    "        print('  NEP_bolo:           {0:3.2f}'.format(dat[0][7]))\n",
    "        print('  NEP_readout:        {0:3.2f}'.format(dat[0][8]))       \n",
    "        print('  NEP_photon:         {0:3.2f}'.format(dat[0][9]))\n",
    "        print('  NEP_tot:            {0:3.2f}'.format(dat[0][10]))\n",
    "        print('  NET_bolo:           {0:3.2f}'.format(dat[0][11]))\n",
    "        print('  NET_bolo_corr:      {0:3.2f}'.format(dat[0][12]))\n",
    "        print('  corr_factor:        {0:3.2f}'.format(dat[0][13]))\n",
    "        print('  NET_wafer (uncorr)  {0:3.2f}'.format(dat[0][14]))\n",
    "    print()"
   ]
  },
  {
   "cell_type": "code",
   "execution_count": 54,
   "id": "75cd469f",
   "metadata": {},
   "outputs": [
    {
     "name": "stdout",
     "output_type": "stream",
     "text": [
      "channel   element     elem_effic_mean   elem_power_to_det_mean\n",
      "------- ------------ ------------------ ----------------------\n",
      "cam_1_0          cmb                1.0    0.05940313359020016\n",
      "cam_1_0         dust                1.0  4.518270710609633e-15\n",
      "cam_1_0  synchrotron                1.0  3.397545373131141e-14\n",
      "cam_1_0   atmosphere 0.9464398800370454      3.542205950313565\n",
      "cam_1_0       baffle 0.9899999999999914     0.8089223018967042\n",
      "cam_1_0       window 0.9274315235162751       5.50691540901323\n",
      "cam_1_0     RTMLI_10 0.9956499999999945     0.2059410676654985\n",
      "cam_1_0 alumina_filt 0.9375897936799006     0.6753746395353436\n",
      "cam_1_0   nylon_filt 0.9208980000000017    0.02045397227528641\n",
      "cam_1_0        lens1 0.9212520368199698  6.120006476098809e-06\n",
      "cam_1_0       ApStop 0.8750000000000019 1.5314297938870165e-05\n",
      "cam_1_0        lens2 0.9302870068848232  6.345826022302015e-06\n",
      "cam_1_0      lowpass 0.9405000000000102 1.1954367078418617e-44\n",
      "cam_1_0     detector  0.670000000000006                    0.0\n",
      "\n",
      "channel   element     elem_effic_mean   elem_power_to_det_mean\n",
      "------- ------------ ------------------ ----------------------\n",
      "cam_1_1          cmb                1.0   0.024126927787189785\n",
      "cam_1_1         dust                1.0  5.363773823784057e-15\n",
      "cam_1_1  synchrotron                1.0 1.5371175285330073e-14\n",
      "cam_1_1   atmosphere 0.9218305635952218      4.824456320657951\n",
      "cam_1_1       baffle 0.9899999999999946      0.752280382567633\n",
      "cam_1_1       window 0.9119558325427226     6.4975385338393075\n",
      "cam_1_1     RTMLI_10  0.991699999999989    0.37150823971641417\n",
      "cam_1_1 alumina_filt 0.9269598671677649     0.7921179379881065\n",
      "cam_1_1   nylon_filt 0.8682299999999922   0.022258631919039807\n",
      "cam_1_1        lens1 0.9066894643082195  6.205513188229136e-07\n",
      "cam_1_1       ApStop 0.9210000000000026  7.407648486727923e-07\n",
      "cam_1_1        lens2 0.9178879264954275  6.202177025663402e-07\n",
      "cam_1_1      lowpass 0.9405000000000019 2.7449617792851584e-45\n",
      "cam_1_1     detector 0.6600000000000009                    0.0\n",
      "\n"
     ]
    }
   ],
   "source": [
    "#\n",
    "ncams = 2 # 4 for SAT MF, otherwise 2.\n",
    "\n",
    "for nnn in range(ncams):\n",
    "    rows = nnn*14 + np.arange(14)\n",
    "    top.instrument.tables['optical']['channel', 'element','elem_effic_mean','elem_power_to_det_mean'][rows].pprint()\n",
    "    print()"
   ]
  },
  {
   "cell_type": "markdown",
   "id": "338ae2a6",
   "metadata": {},
   "source": [
    "## Make a 4-panel plot.\n",
    "Popt, Psat, NET, NET_wafer"
   ]
  },
  {
   "cell_type": "code",
   "execution_count": 55,
   "id": "bf285276",
   "metadata": {},
   "outputs": [
    {
     "data": {
      "text/plain": [
       "Text(0.5, 1.0, '20220524')"
      ]
     },
     "execution_count": 55,
     "metadata": {},
     "output_type": "execute_result"
    },
    {
     "data": {
      "image/png": "[encoded data removed]",
      "text/plain": [
       "<Figure size 864x1440 with 4 Axes>"
      ]
     },
     "metadata": {
      "needs_background": "light"
     },
     "output_type": "display_data"
    }
   ],
   "source": [
    "# Plot things vs frequency for each telescope\n",
    "\n",
    "# Set up a 4-panel plot\n",
    "plt.clf()\n",
    "ax1=plt.subplot(4,1,1)\n",
    "ax1.set_ylabel('P_opt')\n",
    "ax1.set_xlim(0,300)\n",
    "ax1.set_ylim(0.1,70)\n",
    "ax1.grid()\n",
    "#\n",
    "ax2=plt.subplot(4,1,2)\n",
    "ax2.set_ylabel('P_sat')\n",
    "ax2.set_xlim(0,300)\n",
    "ax2.set_ylim(0.1,70)\n",
    "ax2.grid()\n",
    "#\n",
    "ax3=plt.subplot(4,1,3)\n",
    "ax3.set_ylabel('Single Detector NET')\n",
    "ax3.set_xlim(0,300)\n",
    "ax3.grid()\n",
    "#\n",
    "ax4=plt.subplot(4,1,4)\n",
    "ax4.set_ylabel('NET_wafer')\n",
    "ax4.set_xlim(0,300)\n",
    "ax4.grid()\n",
    "yfrac = 0.7\n",
    "\n",
    "for yamlfile in yamlfiles: \n",
    "    telescope = yamlfile.split('_')[0]\n",
    "    if telescope == 'CHLAT':\n",
    "        pointtype = '.r'\n",
    "    elif telescope == 'SPLAT':\n",
    "        pointtype = '.b'\n",
    "    else:\n",
    "        pointtype = '+m'\n",
    "    \n",
    "    for chname in data[yamlfile].keys():\n",
    "        if chname != 'defaults':\n",
    "            nu = data[yamlfile][chname]['bandcenter']\n",
    "            #\n",
    "            ax1.semilogy(nu, data[yamlfile][chname]['popt'],pointtype, markersize=15 )\n",
    "            ax2.semilogy(nu, data[yamlfile][chname]['psat'],pointtype, markersize=15 )\n",
    "            ax3.plot(nu, data[yamlfile][chname]['net'],pointtype, markersize=15 )\n",
    "            ax4.plot(nu, data[yamlfile][chname]['netwafer'],pointtype, markersize=15 )\n",
    "            #\n",
    "    \n",
    "    ymin,ymax = ax1.set_ylim()\n",
    "    xmin,xmax = ax1.set_xlim()\n",
    "    xval = xmin+0.05*(xmax-xmin)\n",
    "    yval = ymin+yfrac*(ymax-ymin)\n",
    "    ax1.semilogy(xval,yval,pointtype,markersize=15)\n",
    "    ax1.text(xval+0.05*(xmax-xmin),yval,telescope,verticalalignment='center')\n",
    "    yfrac = yfrac*0.6\n",
    "\n",
    "\n",
    "ax1.grid()\n",
    "ax1.grid()\n",
    "ax1.set_title(version_date)\n",
    "    "
   ]
  },
  {
   "cell_type": "markdown",
   "id": "2097ecfc",
   "metadata": {},
   "source": [
    "## Make a 4-panel plot.\n",
    "efficiency, NEP_photon, NEP_phonon, NEP_readout"
   ]
  },
  {
   "cell_type": "code",
   "execution_count": 56,
   "id": "e311e8a0",
   "metadata": {},
   "outputs": [
    {
     "data": {
      "text/plain": [
       "Text(0.5, 1.0, '20220524')"
      ]
     },
     "execution_count": 56,
     "metadata": {},
     "output_type": "execute_result"
    },
    {
     "data": {
      "image/png": "[encoded data removed]",
      "text/plain": [
       "<Figure size 864x1440 with 4 Axes>"
      ]
     },
     "metadata": {
      "needs_background": "light"
     },
     "output_type": "display_data"
    }
   ],
   "source": [
    "plt.clf()\n",
    "ax1=plt.subplot(4,1,1)\n",
    "ax1.set_ylabel('Effic.')\n",
    "ax1.set_xlim(0,300)\n",
    "ax1.set_ylim(0,0.7)\n",
    "ax1.grid()\n",
    "#\n",
    "ax2=plt.subplot(4,1,2)\n",
    "ax2.set_ylabel('NEP_photon')\n",
    "ax2.set_xlim(0,300)\n",
    "ax2.set_ylim(1,200)\n",
    "ax2.grid()\n",
    "#\n",
    "ax3=plt.subplot(4,1,3)\n",
    "ax3.set_ylabel('NEP_phonon')\n",
    "ax3.set_xlim(0,300)\n",
    "ax3.set_ylim(1,200)\n",
    "ax3.grid()\n",
    "#\n",
    "ax4=plt.subplot(4,1,4)\n",
    "ax4.set_ylabel('NEP_readout')\n",
    "ax4.set_xlim(0,300)\n",
    "ax4.set_ylim(1,200)\n",
    "ax4.grid()\n",
    "\n",
    "#data = {}\n",
    "yfrac = 0.3\n",
    "\n",
    "for yamlfile in yamlfiles: \n",
    "    telescope = yamlfile.split('_')[0]\n",
    "    if telescope == 'CHLAT':\n",
    "        pointtype = '.r'\n",
    "    elif telescope == 'SPLAT':\n",
    "        pointtype = '.b'\n",
    "    else:\n",
    "        pointtype = '+m'\n",
    "    \n",
    "    for chname in data[yamlfile].keys():\n",
    "        if chname != 'defaults':\n",
    "            nu = data[yamlfile][chname]['bandcenter']\n",
    "            #\n",
    "            ax1.plot(nu, data[yamlfile][chname]['effic'],pointtype, markersize=15 )\n",
    "            ax2.semilogy(nu, data[yamlfile][chname]['nep_photon'],pointtype, markersize=15 )\n",
    "            ax3.semilogy(nu, data[yamlfile][chname]['nep_phonon'],pointtype, markersize=15 )\n",
    "            ax4.semilogy(nu, data[yamlfile][chname]['nep_readout'],pointtype, markersize=15 )\n",
    "\n",
    "    \n",
    "    ymin,ymax = ax1.set_ylim()\n",
    "    xmin,xmax = ax1.set_xlim()\n",
    "    xval = xmin+0.7*(xmax-xmin)\n",
    "    yval = ymin+yfrac*(ymax-ymin)\n",
    "    ax1.plot(xval,yval,pointtype,markersize=15)\n",
    "    ax1.text(xval+0.05*(xmax-xmin),yval,telescope,verticalalignment='center')\n",
    "    yfrac = yfrac-0.1\n",
    "\n",
    "\n",
    "ax1.grid()\n",
    "ax1.grid()\n",
    "ax1.set_title(version_date)\n",
    "\n"
   ]
  },
  {
   "cell_type": "code",
   "execution_count": 57,
   "id": "eb6ddc39",
   "metadata": {},
   "outputs": [],
   "source": [
    "# Write to files\n",
    "data['runtime'] = datetime.today().strftime('%Y/%m/%d %H:%M:%S')\n",
    "data['input_id'] = version_date\n",
    "data['variation'] = 'BaseModel'\n",
    "\n",
    "# Write to toml file\n",
    "output_file_name = data['variation'] + '.toml'\n",
    "with open('outputs/' + output_file_name, \"w\") as toml_file:\n",
    "    toml.dump(data, toml_file, encoder=toml.TomlNumpyEncoder())"
   ]
  },
  {
   "cell_type": "code",
   "execution_count": null,
   "id": "f27e04d2",
   "metadata": {},
   "outputs": [],
   "source": []
  }
 ],
 "metadata": {
  "kernelspec": {
   "display_name": "Python 3 (ipykernel)",
   "language": "python",
   "name": "python3"
  },
  "language_info": {
   "codemirror_mode": {
    "name": "ipython",
    "version": 3
   },
   "file_extension": ".py",
   "mimetype": "text/x-python",
   "name": "python",
   "nbconvert_exporter": "python",
   "pygments_lexer": "ipython3",
   "version": "3.9.7"
  }
 },
 "nbformat": 4,
 "nbformat_minor": 5
}
