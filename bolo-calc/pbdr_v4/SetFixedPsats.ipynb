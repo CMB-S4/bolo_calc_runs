{
 "cells": [
  {
   "cell_type": "markdown",
   "id": "32efa8bf",
   "metadata": {},
   "source": [
    "# Set Fixed Psats\n",
    "\n",
    "Read default yaml files, write out fixed Psats according to a prescription.\n",
    "\n",
    "LATS:  CHLAT and SPLAT use average value.\n",
    "SPLAT:  MF1_1 and MF2_1 averaged, same for MF1_2 and MF2_2"
   ]
  },
  {
   "cell_type": "code",
   "execution_count": 1,
   "id": "ae058049",
   "metadata": {},
   "outputs": [
    {
     "name": "stdout",
     "output_type": "stream",
     "text": [
      "CHLAT_20210714.yaml\n",
      "SAT_HF_20220524.yaml\n",
      "SAT_LF_20211015.yaml\n",
      "SAT_MF_20211015.yaml\n",
      "SPLAT_20210714.yaml\n"
     ]
    }
   ],
   "source": [
    "# See what yaml files are locally available.\n",
    "import glob\n",
    "for g in glob.glob('*.yaml'):\n",
    "    print(g)"
   ]
  },
  {
   "cell_type": "code",
   "execution_count": 3,
   "id": "aa3b61f3",
   "metadata": {},
   "outputs": [],
   "source": [
    "# Standard imports\n",
    "import numpy as np\n",
    "import yaml\n",
    "import toml\n",
    "import matplotlib\n",
    "import matplotlib.pyplot as plt\n",
    "%matplotlib inline  \n",
    "plt.rcParams.update({'font.size': 18})\n",
    "plt.rcParams['figure.figsize'] = [12, 20]\n",
    "\n",
    "# bolo-calc import\n",
    "from bolo import Top"
   ]
  },
  {
   "cell_type": "code",
   "execution_count": 4,
   "id": "ab1ee342",
   "metadata": {},
   "outputs": [
    {
     "name": "stdout",
     "output_type": "stream",
     "text": [
      "Psats derived from optical power and Psat safety factor\n",
      "CHLAT     Psat(pW)\n",
      "LF_1  :     0.81\n",
      "LF_2  :     4.12\n",
      "MF_1  :     4.68\n",
      "MF_2  :    14.19\n",
      "HF_1  :    37.55\n",
      "HF_2  :    51.05\n",
      " \n",
      "SPLAT     Psat(pW)\n",
      "ULF_1 :     0.40\n",
      "LF_1  :     0.68\n",
      "LF_2  :     4.24\n",
      "MF_1  :     4.52\n",
      "MF_2  :    10.83\n",
      "HF_1  :    25.84\n",
      "HF_2  :    33.80\n",
      " \n",
      "SAT_LF    Psat(pW)\n",
      "LF_1  :     1.55\n",
      "LF_2  :     6.15\n",
      " \n",
      "SAT_MF    Psat(pW)\n",
      "MF1_1 :     8.12\n",
      "MF1_2 :    12.87\n",
      "MF2_1 :     8.30\n",
      "MF2_2 :    13.72\n",
      " \n",
      "SAT_HF    Psat(pW)\n",
      "HF_1  :    27.05\n",
      "HF_2  :    33.21\n",
      " \n",
      "===========================================================\n",
      "LAT Psats (Average of CHLAT and SPLAT for common bands)\n",
      "ULF_1 :    0.403\n",
      "LF_1  :    0.747\n",
      "LF_2  :    4.177\n",
      "MF_1  :    4.598\n",
      "MF_2  :   12.513\n",
      "HF_1  :   31.698\n",
      "HF_2  :   42.426\n",
      "======================\n",
      "SAT Psats (Average of _1 and _2 in MF bands)\n",
      "LF_1  :    1.551\n",
      "LF_2  :    6.147\n",
      "MF1_1 :    8.210\n",
      "MF2_1 :    8.210\n",
      "MF1_2 :   13.295\n",
      "MF2_2 :   13.295\n",
      "HF_1  :   27.048\n",
      "HF_2  :   33.211\n"
     ]
    }
   ],
   "source": [
    "data = {}\n",
    "fixed_psats = {}\n",
    "yamlfiles = {'CHLAT':'CHLAT_20210714',\n",
    "             'SPLAT':'SPLAT_20210714',\n",
    "             'SAT1' :'SAT_LF_20211015',\n",
    "             'SAT2' :'SAT_MF_20211015',\n",
    "             'SAT3' :'SAT_HF_20220524'\n",
    "            }\n",
    "\n",
    "print('Psats derived from optical power and Psat safety factor')\n",
    "for tel in yamlfiles.keys(): \n",
    "    yamlfile = yamlfiles[tel]+'.yaml'\n",
    "    fixed_psats[yamlfiles[tel]]={}\n",
    "    dd = yaml.safe_load(open(yamlfile))\n",
    "    version_date = str(dd['version']['date'])\n",
    "    telescope = str(dd['version']['name'])\n",
    "    data[telescope] = {}\n",
    "    print('{0:8s}  Psat(pW)'.format(telescope))\n",
    "    del dd['version']\n",
    "\n",
    "    # location of atmosphere file\n",
    "    dd['sim_config']['config_dir'] = '../scripts'\n",
    "\n",
    "    top = Top(**dd)\n",
    "    top.run()\n",
    "    \n",
    "    for chan in top.instrument.tables.keys():\n",
    "        if chan.split('_')[0] == 'cam' :\n",
    "            chname = chan.split('_')[2] + '_' + chan.split('_')[3]\n",
    "            data[telescope][chname] = {}\n",
    "            #\n",
    "            # Grab things we're going to print and give them short names and store them in the dictionary.\n",
    "            psat = top.instrument.tables[chan]['P_sat'][0]\n",
    "            data[telescope][chname]['psat'] = psat\n",
    "            \n",
    "            print('{0:5s} : {1:8.2f}'.format(chname,psat))\n",
    "    print(' ')\n",
    "\n",
    "\n",
    "# how many decimals to round to.\n",
    "ddd = 3\n",
    "\n",
    "print('===========================================================')\n",
    "print('LAT Psats (Average of CHLAT and SPLAT for common bands)')\n",
    "chan = 'ULF_1'\n",
    "fixed_psats[yamlfiles['SPLAT']][chan]= np.round(data['SPLAT'][chan]['psat'],ddd)\n",
    "print('{0:5s} : {1:8.3f}'.format(chan,data['SPLAT'][chan]['psat']))\n",
    "for chan in data['CHLAT'].keys():\n",
    "    psat_avg = np.round((data['CHLAT'][chan]['psat'] + data['SPLAT'][chan]['psat'])/2,ddd)\n",
    "    fixed_psats[yamlfiles['CHLAT']][chan]= psat_avg\n",
    "    fixed_psats[yamlfiles['SPLAT']][chan]= psat_avg\n",
    "    print('{0:5s} : {1:8.3f}'.format(chan,psat_avg))\n",
    "    \n",
    "\n",
    "print('======================')\n",
    "print('SAT Psats (Average of _1 and _2 in MF bands)')\n",
    "\n",
    "fixed_psats[yamlfiles['SAT1']]['LF_1']= np.round(data['SAT_LF']['LF_1']['psat'],ddd)\n",
    "fixed_psats[yamlfiles['SAT1']]['LF_2']= np.round(data['SAT_LF']['LF_2']['psat'],ddd)\n",
    "\n",
    "avg90 = np.round((data['SAT_MF']['MF1_1']['psat'] + data['SAT_MF']['MF2_1']['psat'])/2,ddd)\n",
    "fixed_psats[yamlfiles['SAT2']]['MF1_1']= avg90\n",
    "fixed_psats[yamlfiles['SAT2']]['MF2_1']= avg90\n",
    "#\n",
    "avg150 = np.round((data['SAT_MF']['MF1_2']['psat'] + data['SAT_MF']['MF2_2']['psat'])/2,ddd)\n",
    "fixed_psats[yamlfiles['SAT2']]['MF1_2']= avg150\n",
    "fixed_psats[yamlfiles['SAT2']]['MF2_2']= avg150\n",
    "\n",
    "fixed_psats[yamlfiles['SAT3']]['HF_1']= np.round(data['SAT_HF']['HF_1']['psat'],ddd)\n",
    "fixed_psats[yamlfiles['SAT3']]['HF_2']= np.round(data['SAT_HF']['HF_2']['psat'],ddd)\n",
    "\n",
    "for chan in fixed_psats[yamlfiles['SAT1']].keys():\n",
    "    print('{0:5s} : {1:8.3f}'.format(chan,fixed_psats[yamlfiles['SAT1']][chan]))     \n",
    "for chan in fixed_psats[yamlfiles['SAT2']].keys():\n",
    "    print('{0:5s} : {1:8.3f}'.format(chan,fixed_psats[yamlfiles['SAT2']][chan]))     \n",
    "for chan in fixed_psats[yamlfiles['SAT3']].keys():\n",
    "    print('{0:5s} : {1:8.3f}'.format(chan,fixed_psats[yamlfiles['SAT3']][chan]))     \n",
    "    "
   ]
  },
  {
   "cell_type": "code",
   "execution_count": 5,
   "id": "ae89f207",
   "metadata": {},
   "outputs": [
    {
     "data": {
      "text/plain": [
       "{'CHLAT_20210714': {'LF_1': 0.747,\n",
       "  'LF_2': 4.177,\n",
       "  'MF_1': 4.598,\n",
       "  'MF_2': 12.513,\n",
       "  'HF_1': 31.698,\n",
       "  'HF_2': 42.426},\n",
       " 'SPLAT_20210714': {'ULF_1': 0.403,\n",
       "  'LF_1': 0.747,\n",
       "  'LF_2': 4.177,\n",
       "  'MF_1': 4.598,\n",
       "  'MF_2': 12.513,\n",
       "  'HF_1': 31.698,\n",
       "  'HF_2': 42.426},\n",
       " 'SAT_LF_20211015': {'LF_1': 1.551, 'LF_2': 6.147},\n",
       " 'SAT_MF_20211015': {'MF1_1': 8.21,\n",
       "  'MF2_1': 8.21,\n",
       "  'MF1_2': 13.295,\n",
       "  'MF2_2': 13.295},\n",
       " 'SAT_HF_20220524': {'HF_1': 27.048, 'HF_2': 33.211}}"
      ]
     },
     "execution_count": 5,
     "metadata": {},
     "output_type": "execute_result"
    }
   ],
   "source": [
    "fixed_psats"
   ]
  },
  {
   "cell_type": "markdown",
   "id": "58c4d2e1",
   "metadata": {},
   "source": [
    "# Save fixed psats to toml file."
   ]
  },
  {
   "cell_type": "code",
   "execution_count": 6,
   "id": "5a4b08bd",
   "metadata": {},
   "outputs": [],
   "source": [
    "# Write to toml file\n",
    "with open('FixedPsats.toml', \"w\") as toml_file:\n",
    "    toml.dump(fixed_psats, toml_file, encoder=toml.TomlNumpyEncoder())"
   ]
  },
  {
   "cell_type": "code",
   "execution_count": null,
   "id": "6181bd07",
   "metadata": {},
   "outputs": [],
   "source": []
  }
 ],
 "metadata": {
  "kernelspec": {
   "display_name": "Python 3 (ipykernel)",
   "language": "python",
   "name": "python3"
  },
  "language_info": {
   "codemirror_mode": {
    "name": "ipython",
    "version": 3
   },
   "file_extension": ".py",
   "mimetype": "text/x-python",
   "name": "python",
   "nbconvert_exporter": "python",
   "pygments_lexer": "ipython3",
   "version": "3.10.2"
  }
 },
 "nbformat": 4,
 "nbformat_minor": 5
}
