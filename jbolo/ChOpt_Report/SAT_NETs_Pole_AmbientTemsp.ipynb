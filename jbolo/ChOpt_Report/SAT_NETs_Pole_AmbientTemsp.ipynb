{
 "cells": [
  {
   "cell_type": "markdown",
   "metadata": {},
   "source": [
    "# SAT NETs relevant to the 2025 \"Pivot to Chile\", Phase 2\n",
    "\n",
    "January 2025\n",
    "\n",
    "This notebook calculates NETs for the \"Phase 2\" baseline SATs, and some variations on that.\n",
    "The baseline model has:\n",
    "1) a HWP, large enough to enable f/1.45 optics,\n",
    "2) horn sizes about the same as SO, which coupled with the same f/# as SO, means that we roughly match the spillover and edge\n",
    "taper of SO.\n",
    "\n",
    "This modeling uses flat bands, and a single number for each band's spillover.\n",
    "\n",
    "NETs are calculated per detector, per wafer, and \"per tube\", where horn-horn correlations, yield, the number of wafers/tube and the optically good fraction of detectors in a tube are all taken into account."
   ]
  },
  {
   "cell_type": "code",
   "execution_count": 1,
   "metadata": {},
   "outputs": [
    {
     "data": {
      "text/plain": [
       "'c:\\\\Users\\\\Paul Grimes\\\\Documents\\\\GitHub\\\\bolo_calc_runs\\\\jbolo\\\\ChOpt_Report'"
      ]
     },
     "execution_count": 1,
     "metadata": {},
     "output_type": "execute_result"
    }
   ],
   "source": [
    "%pwd"
   ]
  },
  {
   "cell_type": "code",
   "execution_count": 2,
   "metadata": {},
   "outputs": [],
   "source": [
    "\n",
    "import sys\n",
    "import os\n",
    "\n",
    "sys.path.insert(0,'C:\\\\Users\\\\Paul Grimes\\\\Documents\\\\GitHub\\\\jbolo\\\\src')\n",
    "\n",
    "os.environ['JBOLO_PATH'] = 'C:\\\\Users\\\\Paul Grimes\\\\Documents\\\\GitHub\\\\jbolo'"
   ]
  },
  {
   "cell_type": "code",
   "execution_count": 3,
   "metadata": {},
   "outputs": [
    {
     "name": "stdout",
     "output_type": "stream",
     "text": [
      "['C:\\\\Users\\\\Paul Grimes\\\\Documents\\\\GitHub\\\\jbolo\\\\src', 'c:\\\\Users\\\\pgrimes\\\\miniforge\\\\envs\\\\jbolo\\\\python313.zip', 'c:\\\\Users\\\\pgrimes\\\\miniforge\\\\envs\\\\jbolo\\\\DLLs', 'c:\\\\Users\\\\pgrimes\\\\miniforge\\\\envs\\\\jbolo\\\\Lib', 'C:\\\\Users\\\\Paul Grimes\\\\miniforge\\\\envs\\\\jbolo', 'c:\\\\Users\\\\pgrimes\\\\miniforge\\\\envs\\\\jbolo', '', 'c:\\\\Users\\\\pgrimes\\\\miniforge\\\\envs\\\\jbolo\\\\Lib\\\\site-packages', 'c:\\\\Users\\\\pgrimes\\\\miniforge\\\\envs\\\\jbolo\\\\Lib\\\\site-packages\\\\win32', 'c:\\\\Users\\\\pgrimes\\\\miniforge\\\\envs\\\\jbolo\\\\Lib\\\\site-packages\\\\win32\\\\lib', 'c:\\\\Users\\\\pgrimes\\\\miniforge\\\\envs\\\\jbolo\\\\Lib\\\\site-packages\\\\Pythonwin']\n"
     ]
    }
   ],
   "source": [
    "print(sys.path)"
   ]
  },
  {
   "cell_type": "code",
   "execution_count": 4,
   "metadata": {
    "scrolled": true
   },
   "outputs": [],
   "source": [
    "import os\n",
    "\n",
    "import numpy as np\n",
    "import matplotlib.pyplot as plt\n",
    "import yaml\n",
    "from jbolo_funcs import *\n",
    "\n",
    "%matplotlib inline\n",
    "plt.rcParams.update({'font.size': 12})\n",
    "plt.rcParams['figure.figsize'] = [8, 4]"
   ]
  },
  {
   "cell_type": "code",
   "execution_count": 5,
   "metadata": {},
   "outputs": [
    {
     "name": "stdout",
     "output_type": "stream",
     "text": [
      "c:\\Users\\Paul Grimes\\Documents\\GitHub\\bolo_calc_runs\\jbolo\\ChOpt_Report\n",
      " Volume in drive C is OS\n",
      " Volume Serial Number is 781B-3C01\n",
      "\n",
      " Directory of c:\\Users\\Paul Grimes\\Documents\\GitHub\\bolo_calc_runs\\jbolo\\ChOpt_Report\n",
      "\n",
      "\n",
      " Directory of c:\\Users\\Paul Grimes\\Documents\\GitHub\\bolo_calc_runs\\jbolo\\ChOpt_Report\\yamls\n",
      "\n",
      "03/22/2025  14:33    <DIR>          .\n",
      "03/22/2025  14:33    <DIR>          ..\n",
      "03/22/2025  15:07             8,909 SAT_2025_AoAalt1.yaml\n",
      "03/22/2025  15:07             8,951 SAT_2025_PoleAlt1.yaml\n",
      "03/22/2025  15:07             8,910 SAT_2025_PoleAlt1_273K.yaml\n",
      "               3 File(s)         26,770 bytes\n",
      "               2 Dir(s)  375,975,342,080 bytes free\n"
     ]
    },
    {
     "name": "stderr",
     "output_type": "stream",
     "text": [
      "File Not Found\n"
     ]
    }
   ],
   "source": [
    "%cd \"c:\\\\Users\\\\Paul Grimes\\\\Documents\\\\GitHub\\\\bolo_calc_runs\\\\jbolo\\\\ChOpt_Report\"\n",
    "# List what yaml files you have so you can choose one for the next line.\n",
    "%ls -lt1 yamls "
   ]
  },
  {
   "cell_type": "markdown",
   "metadata": {},
   "source": [
    "# Compare Baffle and Window Temps at Pole\n",
    "Two options here:\n",
    "- CMB-S4 baseline, 273K baffle and window\n",
    "- BICEP3 estimated radiation temperatures - 240K forebaffle, 260K window"
   ]
  },
  {
   "cell_type": "code",
   "execution_count": 36,
   "metadata": {},
   "outputs": [],
   "source": [
    "# Dictionary of models to use, which includes yaml file for now, but will have results in it later.\n",
    "SAT_models = {}\n",
    "\n",
    "# Thin (1.5mm) window, otherwise as for Phase 2\n",
    "SAT_models['Chile Phase 2 Single MF']={  \n",
    "    'yaml':'SAT_HWP_aggr_MF.yaml'\n",
    "}\n",
    "\n",
    "# Phase 2, 20mm HDPE window\n",
    "SAT_models['Chile Phase 2']={  \n",
    "    'yaml':'SAT_HWP_aggr_20241121_phase2.yaml'\n",
    "}\n",
    "\n",
    "# As above, no half-wave plate\n",
    "SAT_models['Chile P2 No HWP']={  \n",
    "    'yaml':'SAT_aggr_20241121_phase2.yaml'\n",
    "}\n",
    "\n",
    "# No HWP, 30 deg FOV\n",
    "SAT_models['Chile P2 No HWP 30 deg FOV']={  \n",
    "    'yaml':'SAT_aggr_20241121_30degFOV.yaml'\n",
    "}\n",
    "\n",
    "# Pole, aggressive 35 deg FOV\n",
    "SAT_models['Pole P2 No HWP']={  \n",
    "    'yaml':'Pole_SAT_aggr_20241121_phase2.yaml'\n",
    "}\n",
    "\n",
    "# Pole, aggressive 30 deg FOV\n",
    "SAT_models['Pole P2 No HWP 30 deg FOV']={  \n",
    "    'yaml':'Pole_SAT_aggr_20241121_30degFOV.yaml'\n",
    "}\n",
    "\n",
    "# Pole, original\n",
    "SAT_models['Pole Orig']={  \n",
    "    'yaml':'Pole_SAT_orig_20241121_30degFOV.yaml'\n",
    "}"
   ]
  },
  {
   "cell_type": "markdown",
   "metadata": {},
   "source": [
    "We're going to do this a very simple way, where we explicitly run each sim and plot it before moving on to the next.\n"
   ]
  },
  {
   "cell_type": "code",
   "execution_count": 37,
   "metadata": {},
   "outputs": [
    {
     "name": "stdout",
     "output_type": "stream",
     "text": [
      "Chile Phase 2 Single MF, \tAtacama, \tpwv = 993 u, \telev = 50\n",
      "         ,\t NET_NC,\t ms_ratio,\t P_opt\n",
      "MF_1      ,\t   239.2,\t    3.64,\t      1.75\n",
      "MF_2      ,\t   293.8,\t    2.90,\t      4.68\n",
      "\n",
      "Chile Phase 2, \tAtacama, \tpwv = 993 u, \telev = 50\n",
      "         ,\t NET_NC,\t ms_ratio,\t P_opt\n",
      "LF_1      ,\t   214.1,\t    2.31,\t      0.28\n",
      "LF_2      ,\t   147.5,\t    4.32,\t      1.28\n",
      "MF_1_1    ,\t   268.3,\t    3.44,\t      1.39\n",
      "MF_2_1    ,\t   245.1,\t    2.82,\t      1.57\n",
      "MF_1_2    ,\t   305.3,\t    2.67,\t      3.80\n",
      "MF_2_2    ,\t   343.2,\t    2.13,\t      4.57\n",
      "HF_1      ,\t   719.6,\t    0.81,\t     11.23\n",
      "HF_2      ,\t  1816.9,\t    0.76,\t     14.66\n",
      "\n",
      "Chile P2 No HWP, \tAtacama, \tpwv = 993 u, \telev = 50\n",
      "         ,\t NET_NC,\t ms_ratio,\t P_opt\n",
      "LF_1      ,\t   211.0,\t    2.38,\t      0.28\n",
      "LF_2      ,\t   145.3,\t    4.45,\t      1.30\n",
      "MF_1_1    ,\t   262.5,\t    3.59,\t      1.40\n",
      "MF_2_1    ,\t   238.9,\t    2.97,\t      1.58\n",
      "MF_1_2    ,\t   295.9,\t    2.84,\t      3.80\n",
      "MF_2_2    ,\t   332.8,\t    2.27,\t      4.58\n",
      "HF_1      ,\t   697.2,\t    0.87,\t     11.32\n",
      "HF_2      ,\t  1762.6,\t    0.81,\t     14.89\n",
      "\n",
      "Chile P2 No HWP 30 deg FOV, \tAtacama, \tpwv = 993 u, \telev = 50\n",
      "         ,\t NET_NC,\t ms_ratio,\t P_opt\n",
      "LF_1      ,\t   211.0,\t    2.38,\t      0.28\n",
      "LF_2      ,\t   145.3,\t    4.45,\t      1.30\n",
      "MF_1_1    ,\t   262.5,\t    3.59,\t      1.40\n",
      "MF_2_1    ,\t   238.9,\t    2.97,\t      1.58\n",
      "MF_1_2    ,\t   295.9,\t    2.84,\t      3.80\n",
      "MF_2_2    ,\t   332.8,\t    2.27,\t      4.58\n",
      "HF_1      ,\t   697.2,\t    0.87,\t     11.32\n",
      "HF_2      ,\t  1762.6,\t    0.81,\t     14.89\n",
      "\n",
      "Pole P2 No HWP, \tPole, \tpwv = 321 u, \telev = 50\n",
      "         ,\t NET_NC,\t ms_ratio,\t P_opt\n",
      "LF_1      ,\t   206.4,\t    2.49,\t      0.27\n",
      "LF_2      ,\t   174.3,\t    3.07,\t      1.57\n",
      "MF_1_1    ,\t   314.0,\t    2.48,\t      1.72\n",
      "MF_2_1    ,\t   268.6,\t    2.34,\t      1.81\n",
      "MF_1_2    ,\t   288.2,\t    3.00,\t      3.65\n",
      "MF_2_2    ,\t   304.4,\t    2.72,\t      4.10\n",
      "HF_1      ,\t   610.5,\t    1.13,\t      9.63\n",
      "HF_2      ,\t  1478.4,\t    1.14,\t     12.19\n",
      "\n",
      "Pole P2 No HWP 30 deg FOV, \tPole, \tpwv = 321 u, \telev = 50\n",
      "         ,\t NET_NC,\t ms_ratio,\t P_opt\n",
      "LF_1      ,\t   206.4,\t    2.18,\t      0.27\n",
      "LF_2      ,\t   174.3,\t    2.69,\t      1.57\n",
      "MF_1_1    ,\t   314.0,\t    2.17,\t      1.72\n",
      "MF_2_1    ,\t   268.6,\t    2.05,\t      1.81\n",
      "MF_1_2    ,\t   288.2,\t    2.63,\t      3.65\n",
      "MF_2_2    ,\t   304.4,\t    2.38,\t      4.10\n",
      "HF_1      ,\t   610.5,\t    0.99,\t      9.63\n",
      "HF_2      ,\t  1478.4,\t    1.00,\t     12.19\n",
      "\n",
      "Pole Orig, \tPole, \tpwv = 321 u, \telev = 50\n",
      "         ,\t NET_NC,\t ms_ratio,\t P_opt\n",
      "LF_1      ,\t   178.5,\t    1.00,\t      0.41\n",
      "LF_2      ,\t   168.7,\t    1.00,\t      1.84\n",
      "MF_1_1    ,\t   278.0,\t    1.00,\t      2.94\n",
      "MF_2_1    ,\t   239.4,\t    1.00,\t      2.87\n",
      "MF_1_2    ,\t   280.3,\t    1.00,\t      4.07\n",
      "MF_2_2    ,\t   300.1,\t    1.00,\t      4.32\n",
      "HF_1      ,\t   610.5,\t    1.00,\t      9.63\n",
      "HF_2      ,\t  1478.4,\t    1.00,\t     12.19\n",
      "\n"
     ]
    }
   ],
   "source": [
    "models = list(SAT_models.keys())\n",
    "\n",
    "uhmwpe_tandelta = 1.2e-4\n",
    "dyneema_tandelta = 2.4e-4\n",
    "\n",
    "sims={}\n",
    "# Run each model\n",
    "for model in models:\n",
    "    # Set up\n",
    "    yamlfile = os.path.join('yamls', SAT_models[model]['yaml'])\n",
    "    sim = yaml.safe_load(open(yamlfile))\n",
    "    SAT_models[model]['comment'] = 'NETs are in uKrtsec; powers are in pW'\n",
    "    SAT_models[model]['name'] = model #sim['version']['name']\n",
    "    SAT_models[model]['date'] = sim['version']['date']\n",
    "    SAT_models[model]['site'] = sim['sources']['atmosphere']['site']\n",
    "    SAT_models[model]['pwv'] = sim['sources']['atmosphere']['pwv']\n",
    "    SAT_models[model]['elev'] = sim['sources']['atmosphere']['elevation']\n",
    "    SAT_models[model]['wafers'] = sim['bolo_config']['num_wafers_per_tube']\n",
    "    SAT_models[model]['optically_good_fraction'] = sim['bolo_config']['optically_good_det_fraction']\n",
    "    \n",
    "    # Run\n",
    "    run_optics(sim)\n",
    "    run_bolos(sim)\n",
    "    #print_optics(sim,'MF_1_1')\n",
    " \n",
    "    # Pack outputs into the models dictionary\n",
    "    SAT_models[model]['channels']=sim['outputs'].keys()\n",
    "    ii = 0\n",
    "    for ch in SAT_models[model]['channels']:\n",
    "        SAT_models[model][ch]={}\n",
    "        net1det = 1e6*sim['outputs'][ch]['NET_C_total']  # use the version with horn-horn correlations\n",
    "        ndet = sim['channels'][ch]['num_det_per_wafer']  # detectors per wafer\n",
    "        net_wafer = net1det/np.sqrt(ndet*sim['bolo_config']['yield'])  #Take yield into account, usually 80%\n",
    "        net_tube = net_wafer/np.sqrt(SAT_models[model]['wafers']*SAT_models[model]['optically_good_fraction'])  #Take yield into account, usually 80%\n",
    "        ms = 1/net_tube**2\n",
    "        SAT_models[model][ch]['P_opt'] = 1e12*sim['outputs'][ch]['P_opt']   #convert to pW from W\n",
    "        SAT_models[model][ch]['NET_wafer'] = net_wafer   #convert to uKrtsec from Krtsec\n",
    "        SAT_models[model][ch]['NET_tube'] = net_tube\n",
    "        SAT_models[model][ch]['mapping_speed'] = ms\n",
    "        SAT_models[model][ch]['NET_C'] = net1det\n",
    "        SAT_models[model][ch]['corr_factor'] = sim['outputs'][ch]['corr_factor']\n",
    "        SAT_models[model][ch]['NET_NC']=1e6*sim['outputs'][ch]['NET_NC_total']\n",
    "        chnum = sim['channels'][ch]['chnum']\n",
    "        SAT_models[model][ch]['Lyot_abs'] = sim['optical_elements']['lyot']['absorption'][chnum]\n",
    "        ii += 1\n",
    "        \n",
    "# Print a table for each model\n",
    "for model in models:\n",
    "    print(SAT_models[model]['name'], end=', \\t')\n",
    "    print(SAT_models[model]['site'], end=', ')\n",
    "    print('\\tpwv =',SAT_models[model]['pwv'],'u', end=', ')\n",
    "    print('\\telev =',SAT_models[model]['elev'])\n",
    "    #print('            NET_NC   corr_fact NET_C    NET_wafer  NET_tube map_speed  ms_ratio     P_opt')\n",
    "    print('         ,\\t NET_NC,\\t ms_ratio,\\t P_opt')\n",
    "    for ch in SAT_models[model]['channels']:\n",
    "        try:\n",
    "            msratio = SAT_models[model][ch]['mapping_speed']/SAT_models['Pole Orig'][ch]['mapping_speed']\n",
    "        except KeyError:\n",
    "            ch_num = ch.split(\"_\")[-1]\n",
    "            msratio = 2*SAT_models[model][ch]['mapping_speed']/(SAT_models['Pole Orig'][f'MF_1_{ch_num}']['mapping_speed'] + SAT_models['Pole Orig'][f'MF_2_{ch_num}']['mapping_speed'])\n",
    "        print(ch.ljust(10),end=',\\t')\n",
    "#        print('{0:8.1f}  {1:8.3f} {2:8.1f}  {3:8.1f} {4:8.2f}  {5:10.2e}  {6:8.2f} {7:10.2f}'.format(SAT_models[model][ch]['NET_NC'], \n",
    "#                                                                                           SAT_models[model][ch]['corr_factor'],\n",
    "#                                                                                           SAT_models[model][ch]['NET_C'],\n",
    "#                                                                                           SAT_models[model][ch]['NET_wafer'], \n",
    "#                                                                                           SAT_models[model][ch]['NET_tube'],\n",
    "#                                                                                           SAT_models[model][ch]['mapping_speed'],\n",
    "#                                                                                           msratio,\n",
    "#                                                                                           SAT_models[model][ch]['P_opt']))\n",
    "        print('{0:8.1f},\\t{1:8.2f},\\t{2:10.2f}'.format(SAT_models[model][ch]['NET_NC'], \n",
    "                                                    msratio,\n",
    "                                                    SAT_models[model][ch]['P_opt']))\n",
    "\n",
    "    print()\n",
    "    \n",
    "    "
   ]
  },
  {
   "cell_type": "code",
   "execution_count": null,
   "metadata": {},
   "outputs": [
    {
     "data": {
      "text/plain": [
       "'c:\\\\Users\\\\Paul Grimes\\\\Documents\\\\GitHub\\\\bolo_calc_runs\\\\jbolo\\\\ChOpt_Report'"
      ]
     },
     "execution_count": 8,
     "metadata": {},
     "output_type": "execute_result"
    }
   ],
   "source": [
    "%pwd"
   ]
  },
  {
   "cell_type": "code",
   "execution_count": null,
   "metadata": {},
   "outputs": [],
   "source": []
  }
 ],
 "metadata": {
  "kernelspec": {
   "display_name": "jbolo",
   "language": "python",
   "name": "python3"
  },
  "language_info": {
   "codemirror_mode": {
    "name": "ipython",
    "version": 3
   },
   "file_extension": ".py",
   "mimetype": "text/x-python",
   "name": "python",
   "nbconvert_exporter": "python",
   "pygments_lexer": "ipython3",
   "version": "3.13.2"
  }
 },
 "nbformat": 4,
 "nbformat_minor": 4
}
