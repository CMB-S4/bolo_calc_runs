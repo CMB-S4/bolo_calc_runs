{
 "cells": [
  {
   "cell_type": "markdown",
   "metadata": {},
   "source": [
    "# SAT NETs relevant to the 2025 \"Pivot to Chile\", Phase 2\n",
    "\n",
    "January 2025\n",
    "\n",
    "This notebook calculates NETs for the \"Phase 2\" baseline SATs, and some variations on that.\n",
    "The baseline model has:\n",
    "1) a HWP, large enough to enable f/1.45 optics,\n",
    "2) horn sizes about the same as SO, which coupled with the same f/# as SO, means that we roughly match the spillover and edge\n",
    "taper of SO.\n",
    "\n",
    "This modeling uses flat bands, and a single number for each band's spillover.\n",
    "\n",
    "NETs are calculated per detector, per wafer, and \"per tube\", where horn-horn correlations, yield, the number of wafers/tube and the optically good fraction of detectors in a tube are all taken into account."
   ]
  },
  {
   "cell_type": "code",
   "execution_count": 24,
   "metadata": {},
   "outputs": [
    {
     "data": {
      "text/plain": [
       "'D:\\\\pgrimes\\\\Software\\\\GitHub\\\\bolo_calc_runs\\\\jbolo\\\\ChOpt_Report'"
      ]
     },
     "execution_count": 24,
     "metadata": {},
     "output_type": "execute_result"
    }
   ],
   "source": [
    "%pwd"
   ]
  },
  {
   "cell_type": "code",
   "execution_count": 25,
   "metadata": {},
   "outputs": [],
   "source": [
    "\n",
    "import sys\n",
    "sys.path.insert(0,'D:\\\\pgrimes\\\\Software\\\\GitHub\\\\jbolo\\\\src')\n",
    "\n",
    "os.environ['JBOLO_PATH'] = 'D:\\\\pgrimes\\\\Software\\\\GitHub\\\\jbolo'"
   ]
  },
  {
   "cell_type": "code",
   "execution_count": 26,
   "metadata": {},
   "outputs": [
    {
     "name": "stdout",
     "output_type": "stream",
     "text": [
      "['D:\\\\pgrimes\\\\Software\\\\GitHub\\\\jbolo\\\\src', 'D:\\\\pgrimes\\\\Software\\\\GitHub\\\\jbolo\\\\src', 'D:\\\\pgrimes\\\\Software\\\\GitHub\\\\jbolo\\\\src', 'D:\\\\pgrimes\\\\Software\\\\GitHub\\\\jbolo\\\\src', 'D:\\\\pgrimes\\\\Software\\\\GitHub\\\\jbolo\\\\src', 'D:\\\\Software\\\\miniconda3\\\\envs\\\\jbolo\\\\python313.zip', 'D:\\\\Software\\\\miniconda3\\\\envs\\\\jbolo\\\\DLLs', 'D:\\\\Software\\\\miniconda3\\\\envs\\\\jbolo\\\\Lib', 'D:\\\\Software\\\\miniconda3\\\\envs\\\\jbolo', '', 'D:\\\\Software\\\\miniconda3\\\\envs\\\\jbolo\\\\Lib\\\\site-packages', 'D:\\\\Software\\\\miniconda3\\\\envs\\\\jbolo\\\\Lib\\\\site-packages\\\\win32', 'D:\\\\Software\\\\miniconda3\\\\envs\\\\jbolo\\\\Lib\\\\site-packages\\\\win32\\\\lib', 'D:\\\\Software\\\\miniconda3\\\\envs\\\\jbolo\\\\Lib\\\\site-packages\\\\Pythonwin']\n"
     ]
    }
   ],
   "source": [
    "print(sys.path)"
   ]
  },
  {
   "cell_type": "code",
   "execution_count": 27,
   "metadata": {
    "scrolled": true
   },
   "outputs": [],
   "source": [
    "import os\n",
    "\n",
    "import numpy as np\n",
    "import matplotlib.pyplot as plt\n",
    "import yaml\n",
    "from jbolo_funcs import *\n",
    "\n",
    "%matplotlib inline\n",
    "plt.rcParams.update({'font.size': 12})\n",
    "plt.rcParams['figure.figsize'] = [8, 4]"
   ]
  },
  {
   "cell_type": "code",
   "execution_count": 28,
   "metadata": {},
   "outputs": [
    {
     "name": "stdout",
     "output_type": "stream",
     "text": [
      "D:\\pgrimes\\Software\\GitHub\\bolo_calc_runs\\jbolo\\ChOpt_Report\n",
      " Volume in drive D is DATA\n",
      " Volume Serial Number is CE6C-C6C5\n",
      "\n",
      " Directory of D:\\pgrimes\\Software\\GitHub\\bolo_calc_runs\\jbolo\\ChOpt_Report\n",
      "\n",
      "\n",
      " Directory of D:\\pgrimes\\Software\\GitHub\\bolo_calc_runs\\jbolo\\ChOpt_Report\\yamls\n",
      "\n",
      "03/17/2025  14:55    <DIR>          .\n",
      "03/17/2025  14:55    <DIR>          ..\n",
      "03/17/2025  14:55             8,898 SAT_2025_AoAalt1.yaml\n",
      "03/17/2025  13:16             8,940 SAT_2025_PoleAlt1.yaml\n",
      "03/17/2025  13:16             8,899 SAT_2025_PoleAlt1_273K.yaml\n",
      "               3 File(s)         26,737 bytes\n",
      "               2 Dir(s)  648,166,838,272 bytes free\n"
     ]
    },
    {
     "name": "stderr",
     "output_type": "stream",
     "text": [
      "File Not Found\n"
     ]
    }
   ],
   "source": [
    "%cd \"D:\\\\pgrimes\\\\Software\\\\GitHub\\\\bolo_calc_runs\\\\jbolo\\\\ChOpt_Report\"\n",
    "# List what yaml files you have so you can choose one for the next line.\n",
    "%ls -lt1 yamls "
   ]
  },
  {
   "cell_type": "markdown",
   "metadata": {},
   "source": [
    "# Compare Baffle and Window Temps at Pole\n",
    "Two options here:\n",
    "- CMB-S4 baseline, 273K baffle and window\n",
    "- BICEP3 estimated radiation temperatures - 240K forebaffle, 260K window"
   ]
  },
  {
   "cell_type": "code",
   "execution_count": 29,
   "metadata": {},
   "outputs": [],
   "source": [
    "# Dictionary of models to use, which includes yaml file for now, but will have results in it later.\n",
    "SAT_models = {}\n",
    "\n",
    "# Thin (1.5mm) window, tandelta = 3e-4\n",
    "SAT_models['Pole_Alt1']={  \n",
    "    'yaml':'SAT_2025_AoAalt1.yaml'\n",
    "}\n",
    "\n",
    "# Thin (1.5mm) window, tandelta = 3e-4\n",
    "SAT_models['Pole_Alt1_273K']={  \n",
    "    'yaml':'SAT_2025_PoleAlt1_273K.yaml'\n",
    "}\n",
    "\n",
    "# Thin (1.5mm) window, tandelta = 1.2e-4\n",
    "SAT_models['Pole_Alt1_B3Temps']={  \n",
    "    'yaml':'SAT_2025_PoleAlt1.yaml'\n",
    "}\n"
   ]
  },
  {
   "cell_type": "markdown",
   "metadata": {},
   "source": [
    "We're going to do this a very simple way, where we explicitly run each sim and plot it before moving on to the next.\n"
   ]
  },
  {
   "cell_type": "code",
   "execution_count": null,
   "metadata": {},
   "outputs": [],
   "source": []
  },
  {
   "cell_type": "code",
   "execution_count": 30,
   "metadata": {},
   "outputs": [
    {
     "name": "stdout",
     "output_type": "stream",
     "text": [
      "Pole_Alt1, Pole, pwv = 321 u, elev = 50\n",
      "            NET_NC   ms_ratio     P_opt\n",
      "LF_1         183.2      1.00       0.43\n",
      "LF_2         171.8      1.00       1.89\n",
      "MF_1_1       282.3      1.00       3.00\n",
      "MF_2_1       243.8      1.00       2.93\n",
      "MF_1_2       286.3      1.00       4.18\n",
      "MF_2_2       306.6      1.00       4.45\n",
      "HF_1         622.0      1.00       9.88\n",
      "HF_2        1502.8      1.00      12.46\n",
      "\n",
      "Pole_Alt1_273K, Pole, pwv = 321 u, elev = 50\n",
      "            NET_NC   ms_ratio     P_opt\n",
      "LF_1         166.6      1.21       0.38\n",
      "LF_2         156.4      1.21       1.69\n",
      "MF_1_1       243.3      1.35       2.52\n",
      "MF_2_1       200.0      1.49       2.32\n",
      "MF_1_2       209.4      1.87       2.81\n",
      "MF_2_2       220.6      1.93       2.92\n",
      "HF_1         440.7      2.00       6.43\n",
      "HF_2        1080.4      1.94       8.42\n",
      "\n",
      "Pole_Alt1_B3Temps, Pole, pwv = 321 u, elev = 50\n",
      "            NET_NC   ms_ratio     P_opt\n",
      "LF_1         162.0      1.28       0.37\n",
      "LF_2         153.6      1.25       1.65\n",
      "MF_1_1       240.0      1.39       2.48\n",
      "MF_2_1       196.8      1.54       2.27\n",
      "MF_1_2       205.5      1.94       2.74\n",
      "MF_2_2       216.5      2.01       2.84\n",
      "HF_1         434.7      2.05       6.30\n",
      "HF_2        1069.2      1.98       8.29\n",
      "\n"
     ]
    }
   ],
   "source": [
    "models = list(SAT_models.keys())\n",
    "\n",
    "uhmwpe_tandelta = 1.2e-4\n",
    "dyneema_tandelta = 2.4e-4\n",
    "\n",
    "sims={}\n",
    "# Run each model\n",
    "for model in models:\n",
    "    # Set up\n",
    "    yamlfile = os.path.join('yamls', SAT_models[model]['yaml'])\n",
    "    sim = yaml.safe_load(open(yamlfile))\n",
    "    SAT_models[model]['comment'] = 'NETs are in uKrtsec; powers are in pW'\n",
    "    SAT_models[model]['name'] = model #sim['version']['name']\n",
    "    SAT_models[model]['date'] = sim['version']['date']\n",
    "    SAT_models[model]['site'] = sim['sources']['atmosphere']['site']\n",
    "    SAT_models[model]['pwv'] = sim['sources']['atmosphere']['pwv']\n",
    "    SAT_models[model]['elev'] = sim['sources']['atmosphere']['elevation']\n",
    "    SAT_models[model]['wafers'] = sim['bolo_config']['num_wafers_per_tube']\n",
    "    SAT_models[model]['optically_good_fraction'] = sim['bolo_config']['optically_good_det_fraction']\n",
    "    \n",
    "    # Run\n",
    "    run_optics(sim)\n",
    "    run_bolos(sim)\n",
    "    #print_optics(sim,'MF_1_1')\n",
    " \n",
    "    # Pack outputs into the models dictionary\n",
    "    SAT_models[model]['channels']=sim['outputs'].keys()\n",
    "    ii = 0\n",
    "    for ch in SAT_models[model]['channels']:\n",
    "        SAT_models[model][ch]={}\n",
    "        net1det = 1e6*sim['outputs'][ch]['NET_C_total']  # use the version with horn-horn correlations\n",
    "        ndet = sim['channels'][ch]['num_det_per_wafer']  # detectors per wafer\n",
    "        net_wafer = net1det/np.sqrt(ndet*sim['bolo_config']['yield'])  #Take yield into account, usually 80%\n",
    "        net_tube = net_wafer/np.sqrt(SAT_models[model]['wafers']*SAT_models[model]['optically_good_fraction'])  #Take yield into account, usually 80%\n",
    "        ms = 1/net_tube**2\n",
    "        SAT_models[model][ch]['P_opt'] = 1e12*sim['outputs'][ch]['P_opt']   #convert to pW from W\n",
    "        SAT_models[model][ch]['NET_wafer'] = net_wafer   #convert to uKrtsec from Krtsec\n",
    "        SAT_models[model][ch]['NET_tube'] = net_tube\n",
    "        SAT_models[model][ch]['mapping_speed'] = ms\n",
    "        SAT_models[model][ch]['NET_C'] = net1det\n",
    "        SAT_models[model][ch]['corr_factor'] = sim['outputs'][ch]['corr_factor']\n",
    "        SAT_models[model][ch]['NET_NC']=1e6*sim['outputs'][ch]['NET_NC_total']\n",
    "        chnum = sim['channels'][ch]['chnum']\n",
    "        SAT_models[model][ch]['Lyot_abs'] = sim['optical_elements']['lyot']['absorption'][chnum]\n",
    "        ii += 1\n",
    "        \n",
    "# Print a table for each model\n",
    "for model in models:\n",
    "    print(SAT_models[model]['name'], end=', ')\n",
    "    print(SAT_models[model]['site'], end=', ')\n",
    "    print('pwv =',SAT_models[model]['pwv'],'u', end=', ')\n",
    "    print('elev =',SAT_models[model]['elev'])\n",
    "    #print('            NET_NC   corr_fact NET_C    NET_wafer  NET_tube map_speed  ms_ratio     P_opt')\n",
    "    print('            NET_NC   ms_ratio     P_opt')\n",
    "    for ch in SAT_models[model]['channels']:\n",
    "        msratio = SAT_models[model][ch]['mapping_speed']/SAT_models['Pole_Alt1'][ch]['mapping_speed']\n",
    "        print(ch.ljust(10),end='')\n",
    "#        print('{0:8.1f}  {1:8.3f} {2:8.1f}  {3:8.1f} {4:8.2f}  {5:10.2e}  {6:8.2f} {7:10.2f}'.format(SAT_models[model][ch]['NET_NC'], \n",
    "#                                                                                           SAT_models[model][ch]['corr_factor'],\n",
    "#                                                                                           SAT_models[model][ch]['NET_C'],\n",
    "#                                                                                           SAT_models[model][ch]['NET_wafer'], \n",
    "#                                                                                           SAT_models[model][ch]['NET_tube'],\n",
    "#                                                                                           SAT_models[model][ch]['mapping_speed'],\n",
    "#                                                                                           msratio,\n",
    "#                                                                                           SAT_models[model][ch]['P_opt']))\n",
    "        print('{0:8.1f}  {1:8.2f} {2:10.2f}'.format(SAT_models[model][ch]['NET_NC'], \n",
    "                                                    msratio,\n",
    "                                                    SAT_models[model][ch]['P_opt']))\n",
    "\n",
    "    print()\n",
    "    \n",
    "    "
   ]
  }
 ],
 "metadata": {
  "kernelspec": {
   "display_name": "Python [conda env:jbolo]",
   "language": "python",
   "name": "conda-env-jbolo-py"
  },
  "language_info": {
   "codemirror_mode": {
    "name": "ipython",
    "version": 3
   },
   "file_extension": ".py",
   "mimetype": "text/x-python",
   "name": "python",
   "nbconvert_exporter": "python",
   "pygments_lexer": "ipython3",
   "version": "3.13.2"
  }
 },
 "nbformat": 4,
 "nbformat_minor": 4
}
