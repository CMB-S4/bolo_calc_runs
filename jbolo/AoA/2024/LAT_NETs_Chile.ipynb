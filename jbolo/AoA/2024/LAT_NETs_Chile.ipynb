{
 "cells": [
  {
   "cell_type": "markdown",
   "id": "47cdc201-37b1-468a-bef5-985a2405aea7",
   "metadata": {},
   "source": [
    "# LAT NETs for the 2024 \"Pivot to Chile\"\n",
    "\n",
    "July 2024\n",
    "\n",
    "This notebook calculates NETs for the TMA-LAT, and the CD-LAT, both sited in Atacama.\n",
    "\n",
    "The differences between these are:\n",
    "- panel gaps in the CD-LAT (0.4% per mirror),\n",
    "- 3 mirrors rather than 2 in the TMA-LAT, so a little more conductive and Ruze loss,\n",
    "- different f/#'s for the cold aperture stop.\n",
    "\n",
    "This modeling uses flat bands, and estimates the spillover on the aperture stop based on a Gaussian beam.  Psats are set to 3.0 times the calulated optical power in each band.\n",
    "\n",
    "NETs are calculated per detector, per wafer, and \"per tube\", where horn-horn correlations, yield, the number of wafers/tube and the optically good fraction of detectors in a tube are all taken into account.\n"
   ]
  },
  {
   "cell_type": "code",
   "execution_count": 1,
   "id": "8056b72f-a173-4301-89b3-d72a3426faff",
   "metadata": {},
   "outputs": [],
   "source": [
    "import numpy as np\n",
    "import matplotlib.pyplot as plt\n",
    "import sys\n",
    "import yaml\n",
    "from jbolo_funcs import *\n",
    "\n",
    "%matplotlib inline\n",
    "plt.rcParams.update({'font.size': 14})\n",
    "plt.rcParams['figure.figsize'] = [12, 8]"
   ]
  },
  {
   "cell_type": "code",
   "execution_count": 5,
   "id": "7d256c22-5b87-4f39-b25c-8998e75676df",
   "metadata": {},
   "outputs": [
    {
     "name": "stdout",
     "output_type": "stream",
     "text": [
      "/Users/ruhl/code/bolo_calc_runs/jbolo/AoA/2024\n"
     ]
    }
   ],
   "source": [
    "!pwd"
   ]
  },
  {
   "cell_type": "code",
   "execution_count": 2,
   "id": "bc41e2f0-ed11-4f2b-8294-4fa6f52441c5",
   "metadata": {},
   "outputs": [
    {
     "name": "stdout",
     "output_type": "stream",
     "text": [
      "Atacama-CDLAT_20240715.yaml           SAT_HWP_max_20240618.yaml\n",
      "Atacama-TMALAT_20240715.yaml          SAT_baseline_20220726.yaml\n",
      "SAT_HWP_AoAscaledoptics_20220726.yaml SAT_max_20240618.yaml\n",
      "SAT_HWP_AoAscaledoptics_20240701.yaml\n"
     ]
    }
   ],
   "source": [
    "!ls yamls/"
   ]
  },
  {
   "cell_type": "code",
   "execution_count": 12,
   "id": "3f98996e-842b-41e9-9cd2-dadff7de1e89",
   "metadata": {},
   "outputs": [
    {
     "name": "stdout",
     "output_type": "stream",
     "text": [
      "1c1\n",
      "< version: {date: 20240715, name: 'Atacama-CDLAT'} \n",
      "---\n",
      "> version: {date: 20240715, name: 'Atacama-TMALAT'}  \n",
      "21,23c21,23\n",
      "<   primary:      {obj_type: Mirror, conductivity: 36.9E6, surface_rough: 4.0E-6, spillover: 0.004}  # spill = gaps here.\n",
      "<   secondary:    {obj_type: Mirror, conductivity: 36.9E6, surface_rough: 4.0E-6, spillover: 0.024}  # spill is 2% spill, 0.4% gaps\n",
      "<   # \n",
      "---\n",
      ">   primary:      {obj_type: Mirror, conductivity: 36.9E6, surface_rough: 4.0E-6}  # no spillover b/c no gaps\n",
      ">   secondary:    {obj_type: Mirror, conductivity: 36.9E6, surface_rough: 4.0E-6}\n",
      ">   tertiary:     {obj_type: Mirror, conductivity: 36.9E6, surface_rough: 4.0E-6, spillover: 0.02}\n",
      "38,39c38\n",
      "<   f_number: 2.0  # email from Pato to JR, MN and JcMc, 1/24/2022\n",
      "<   #\n",
      "---\n",
      ">   f_number:  2.18 # (avg) Figure 7, \"Freeform three-mirror anastigmatic large-aperture telescope and receiver optics for CMB-S4\", P. Gallardo etal\n",
      "158a158\n",
      "> \n"
     ]
    }
   ],
   "source": [
    "!diff yamls/Atacama-CDLAT_20240715.yaml yamls/Atacama-TMALAT_20240715.yaml"
   ]
  },
  {
   "cell_type": "markdown",
   "id": "810baa8a-5e49-483c-8a6f-4d5f4441ed55",
   "metadata": {},
   "source": [
    "# Run CD-LAT"
   ]
  },
  {
   "cell_type": "code",
   "execution_count": 13,
   "id": "23272393-2ba9-47a1-8c03-f5535e9cbd68",
   "metadata": {},
   "outputs": [
    {
     "name": "stdout",
     "output_type": "stream",
     "text": [
      "20240715 : Atacama-CDLAT\n",
      "                              ULF       LF_1       LF_2       MF_1       MF_2       HF_1       HF_2\n",
      "        det_bandcenter :    19.995     24.745     36.495     91.495    148.495    226.995    285.495  \n",
      "         det_bandwidth :     4.990      6.490     16.990     28.990     40.990     57.990     58.990  \n",
      "        sys_bandcenter :    20.174     24.994     37.483     92.748    149.609    227.667    285.671  \n",
      "         sys_bandwidth :     4.092      5.256     12.634     22.969     35.466     54.749     58.244  \n",
      "        sky_bandcenter :    20.166     25.001     37.420     92.795    149.552    227.521    285.215  \n",
      "         sky_bandwidth :     4.140      5.240     13.049     23.023     36.251     55.139     57.723  \n",
      "optics_effic_total_avg :     0.200      0.180      0.341      0.238      0.471      0.652      0.682  \n",
      "        inst_effic_avg :     0.130      0.117      0.222      0.155      0.306      0.424      0.443  \n",
      "         effic_tot_avg :     0.128      0.115      0.216      0.148      0.293      0.390      0.390  \n",
      "                 P_opt :     0.158      0.190      1.020      1.375      4.160     11.967     17.422  \n",
      "                 n_avg :     2.371      1.793      2.416      0.783      1.025      1.369      1.554  \n",
      "                P_elec :     0.316      0.381      2.039      2.751      8.319     23.934     34.844  \n",
      "                 P_sat :     0.474      0.571      3.059      4.126     12.479     35.902     52.266  \n",
      "              loopgain :  1000.000   1000.000   1000.000   1000.000   1000.000   1000.000   1000.000  \n",
      "                F_link :     0.524      0.524      0.524      0.524      0.524      0.524      0.524  \n",
      "             G_dynamic :    13.291     16.017     85.822    115.756    350.076   1007.183   1466.268  \n",
      "                  dpdt :     0.009      0.010      0.049      0.048      0.096      0.095      0.054  \n",
      "               dpdt_rj :     0.009      0.010      0.050      0.059      0.166      0.312      0.317  \n",
      "           NEP_readout :     1.961      2.153      4.983      5.787     10.064     17.070     20.596  \n",
      "             NEP_J_tot :     0.132      0.145      0.335      0.389      0.677      1.149      1.386  \n",
      "            NEP_phonon :     3.138      3.445      7.974      9.261     16.105     27.316     32.959  \n",
      "              NEP_dark :     3.703      4.065      9.409     10.927     19.003     32.232     38.890  \n",
      "          NEP_photonNC :     3.819      4.178     13.732     17.327     41.232     93.088    131.193  \n",
      "          NEP_NC_total :     5.319      5.829     16.646     20.485     45.400     98.510    136.836  \n",
      "        NETrj_NC_total :   425.180    399.057    233.188    243.844    193.393    223.129    305.055  \n",
      "          NET_NC_total :   429.690    405.582    241.883    303.447    334.290    730.295   1787.629  \n",
      "           corr_factor :     1.262      1.280      1.137      1.173      1.011      1.017      1.006  \n",
      "           NET_C_total :   542.207    519.343    274.946    355.831    337.968    742.921   1798.052  \n",
      "           NEP_photonC :     5.598      6.260     16.417     21.392     41.781     94.889    132.025  \n",
      "          NET_NC_wafer :    65.375     46.280     27.601     11.569     12.745     26.717     65.397  \n",
      "           NET_C_wafer :    82.494     59.262     31.374     13.566     12.885     27.178     65.778  \n"
     ]
    }
   ],
   "source": [
    "yamlfile = 'yamls/Atacama-CDLAT_20240715.yaml'\n",
    "CDsim = yaml.safe_load(open(yamlfile))\n",
    "# Run\n",
    "run_optics(CDsim)\n",
    "run_bolos(CDsim)\n",
    "print_full_table(CDsim)\n"
   ]
  },
  {
   "cell_type": "markdown",
   "id": "97f00082-6918-49cd-81e8-843ebbe5f062",
   "metadata": {},
   "source": [
    "# Run TMA-LAT"
   ]
  },
  {
   "cell_type": "code",
   "execution_count": 14,
   "id": "45914fa4-0598-4895-b2c9-12ec2cdcab01",
   "metadata": {},
   "outputs": [
    {
     "name": "stdout",
     "output_type": "stream",
     "text": [
      "20240715 : Atacama-TMALAT\n",
      "                              ULF       LF_1       LF_2       MF_1       MF_2       HF_1       HF_2\n",
      "        det_bandcenter :    19.995     24.745     36.495     91.495    148.495    226.995    285.495  \n",
      "         det_bandwidth :     4.990      6.490     16.990     28.990     40.990     57.990     58.990  \n",
      "        sys_bandcenter :    20.178     24.999     37.526     92.783    149.704    227.836    285.787  \n",
      "         sys_bandwidth :     4.073      5.233     12.449     22.807     34.997     53.865     57.631  \n",
      "        sky_bandcenter :    20.170     25.006     37.464     92.830    149.646    227.689    285.330  \n",
      "         sky_bandwidth :     4.121      5.217     12.857     22.861     35.774     54.243     57.912  \n",
      "optics_effic_total_avg :     0.173      0.156      0.301      0.207      0.424      0.617      0.665  \n",
      "        inst_effic_avg :     0.113      0.101      0.196      0.134      0.276      0.401      0.432  \n",
      "         effic_tot_avg :     0.111      0.100      0.190      0.129      0.264      0.369      0.380  \n",
      "                 P_opt :     0.124      0.150      0.814      1.096      3.480     10.883     16.603  \n",
      "                 n_avg :     1.867      1.415      1.924      0.624      0.857      1.244      1.479  \n",
      "                P_elec :     0.249      0.300      1.628      2.193      6.961     21.767     33.206  \n",
      "                 P_sat :     0.373      0.450      2.442      3.289     10.441     32.650     49.808  \n",
      "              loopgain :  1000.000   1000.000   1000.000   1000.000   1000.000   1000.000   1000.000  \n",
      "                F_link :     0.524      0.524      0.524      0.524      0.524      0.524      0.524  \n",
      "             G_dynamic :    10.468     12.631     68.521     92.263    292.915    915.968   1397.317  \n",
      "                  dpdt :     0.008      0.009      0.043      0.042      0.086      0.090      0.053  \n",
      "               dpdt_rj :     0.008      0.009      0.045      0.052      0.150      0.296      0.309  \n",
      "           NEP_readout :     1.740      1.912      4.452      5.166      9.206     16.279     20.106  \n",
      "             NEP_J_tot :     0.117      0.129      0.300      0.348      0.619      1.095      1.353  \n",
      "            NEP_phonon :     2.785      3.059      7.125      8.268     14.731     26.050     32.175  \n",
      "              NEP_dark :     3.286      3.610      8.407      9.755     17.382     30.738     37.965  \n",
      "          NEP_photonNC :     3.125      3.448     11.395     14.764     36.167     86.528    126.372  \n",
      "          NEP_NC_total :     4.534      4.992     14.161     17.696     40.127     91.826    131.951  \n",
      "        NETrj_NC_total :   418.612    395.566    224.808    242.126    189.724    219.728    301.813  \n",
      "          NET_NC_total :   423.054    402.035    233.209    301.358    328.161    720.305   1770.833  \n",
      "           corr_factor :     1.278      1.303      1.166      1.172      1.009      1.028      1.004  \n",
      "           NET_C_total :   540.471    523.913    271.983    353.246    331.134    740.816   1777.978  \n",
      "           NEP_photonC :     4.771      5.412     14.215     18.306     36.570     89.298    126.928  \n",
      "          NET_NC_wafer :    64.366     45.876     26.611     11.489     12.511     26.351     64.783  \n",
      "           NET_C_wafer :    82.230     59.783     31.036     13.467     12.624     27.101     65.044  \n"
     ]
    }
   ],
   "source": [
    "yamlfile = 'yamls/Atacama-TMALAT_20240715.yaml'\n",
    "TMAsim = yaml.safe_load(open(yamlfile))\n",
    "# Run\n",
    "run_optics(TMAsim)\n",
    "run_bolos(TMAsim)\n",
    "print_full_table(TMAsim)\n"
   ]
  },
  {
   "cell_type": "code",
   "execution_count": 25,
   "id": "56affbba-7454-4d4f-8c52-24db800988e6",
   "metadata": {},
   "outputs": [
    {
     "name": "stdout",
     "output_type": "stream",
     "text": [
      "                                  ULF       LF_1       LF_2       MF_1       MF_2       HF_1       HF_2\n",
      "CD:            NET_C_wafer :    82.494     59.262     31.374     13.566     12.885     27.178     65.778  \n",
      "TMA:           NET_C_wafer :    82.230     59.783     31.036     13.467     12.624     27.101     65.044  \n",
      "\n",
      "CD:                  P_opt :     0.158      0.190      1.020      1.375      4.160     11.967     17.422  \n",
      "TMA:                 P_opt :     0.124      0.150      0.814      1.096      3.480     10.883     16.603  \n"
     ]
    }
   ],
   "source": [
    "print(' '.rjust(26),end='')\n",
    "for ch in CDsim['channels'].keys():\n",
    "    print(ch.rjust(11),end='')\n",
    "print('')\n",
    "\n",
    "print('CD: ',end='')\n",
    "print_one_line(CDsim,'NET_C_wafer',1e6)\n",
    "print('TMA:',end='')\n",
    "print_one_line(TMAsim,'NET_C_wafer',1e6)\n",
    "print()\n",
    "print('CD: ',end='')\n",
    "print_one_line(CDsim,'P_opt',1e12)\n",
    "print('TMA:',end='')\n",
    "print_one_line(TMAsim,'P_opt',1e12)"
   ]
  },
  {
   "cell_type": "code",
   "execution_count": 22,
   "id": "79f428d9-2a04-4902-8e33-ff008722f44a",
   "metadata": {},
   "outputs": [
    {
     "name": "stdout",
     "output_type": "stream",
     "text": [
      "HF_2\n",
      "Element            Popt(pW)   Effic  Effic_cumul\n",
      "detector       :    0.0000     0.6500    1.0000\n",
      "Lens_3         :    0.0000     0.9839    0.6500\n",
      "lyot           :    0.0000     0.9278    0.6395\n",
      "lowpass        :    0.0000     0.9400    0.5933\n",
      "Lens_2         :    0.0032     0.9839    0.5577\n",
      "Lens_1         :    0.0031     0.9839    0.5487\n",
      "nylon_filt     :    0.0896     0.9224    0.5398\n",
      "alumina_filt   :    0.9545     0.9259    0.4979\n",
      "RTMLI_10       :    0.4464     0.9917    0.4610\n",
      "window         :    1.2817     0.9771    0.4572\n",
      "tertiary       :    2.3394     0.9758    0.4467\n",
      "secondary      :    0.3928     0.9958    0.4359\n",
      "primary        :    0.3912     0.9958    0.4341\n",
      "atmosphere     :   10.6721     0.8785    0.4323\n",
      "cmb            :    0.0288     0.0000    0.3796\n",
      "P_opticsonly_total = 5.9019e-12\n",
      "P_optical_total =  1.6603e-11\n"
     ]
    }
   ],
   "source": [
    "print_optics(TMAsim,'HF_2')"
   ]
  },
  {
   "cell_type": "code",
   "execution_count": 26,
   "id": "44ed4820-317d-4cc4-b6d7-56bb364c8762",
   "metadata": {},
   "outputs": [
    {
     "name": "stdout",
     "output_type": "stream",
     "text": [
      "HF_2\n",
      "Element            Popt(pW)   Effic  Effic_cumul\n",
      "detector       :    0.0000     0.6500    1.0000\n",
      "Lens_3         :    0.0000     0.9839    0.6500\n",
      "lyot           :    0.0000     0.9555    0.6395\n",
      "lowpass        :    0.0000     0.9400    0.6110\n",
      "Lens_2         :    0.0032     0.9839    0.5744\n",
      "Lens_1         :    0.0032     0.9839    0.5651\n",
      "nylon_filt     :    0.0924     0.9224    0.5559\n",
      "alumina_filt   :    0.9826     0.9259    0.5128\n",
      "RTMLI_10       :    0.4597     0.9917    0.4748\n",
      "window         :    1.3195     0.9771    0.4708\n",
      "secondary      :    2.8080     0.9718    0.4600\n",
      "primary        :    0.7904     0.9918    0.4471\n",
      "atmosphere     :   10.9333     0.8785    0.4434\n",
      "cmb            :    0.0296     0.0000    0.3895\n",
      "P_opticsonly_total = 6.4591e-12\n",
      "P_optical_total =  1.7422e-11\n"
     ]
    }
   ],
   "source": [
    "print_optics(CDsim,'HF_2')"
   ]
  },
  {
   "cell_type": "code",
   "execution_count": null,
   "id": "fbc5fd0a-6224-493a-aa53-f3d005a3bdfe",
   "metadata": {},
   "outputs": [],
   "source": []
  }
 ],
 "metadata": {
  "kernelspec": {
   "display_name": "Python 3 (ipykernel)",
   "language": "python",
   "name": "python3"
  },
  "language_info": {
   "codemirror_mode": {
    "name": "ipython",
    "version": 3
   },
   "file_extension": ".py",
   "mimetype": "text/x-python",
   "name": "python",
   "nbconvert_exporter": "python",
   "pygments_lexer": "ipython3",
   "version": "3.11.7"
  }
 },
 "nbformat": 4,
 "nbformat_minor": 5
}
