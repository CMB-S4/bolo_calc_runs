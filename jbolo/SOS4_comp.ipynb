{
 "cells": [
  {
   "cell_type": "markdown",
   "metadata": {},
   "source": [
    "# A comparison of SO and CMB-S4 LAT detector sensitivities"
   ]
  },
  {
   "cell_type": "code",
   "execution_count": 1,
   "metadata": {
    "scrolled": true
   },
   "outputs": [],
   "source": [
    "import numpy as np\n",
    "import matplotlib.pyplot as plt\n",
    "import sys\n",
    "\n",
    "# Make inline plots in this notebook, make them reasonable sizes, and with legible font size\n",
    "%matplotlib inline\n",
    "plt.rcParams.update({'font.size': 18})\n",
    "plt.rcParams['figure.figsize'] = [12, 8]\n",
    "\n",
    "# Note:  your sys.path needs to have the path to the jbolo/python functions defined.\n",
    "# For example, on my mac running anaconda python, I insert it in\n",
    "# ~/.ipython/profile_default/ipython_config.py\n",
    "#  ## lines of code to run at IPython startup.\n",
    "#c.InteractiveShellApp.exec_lines = [\n",
    "#    \"sys.path.append('/Users/ruhl/code/jbolo/python')\"\n",
    "#    ]\n",
    "# Or, you can do this in every notebook you use this stuff in:\n",
    "# sys.path.insert(0,'/Users/ruhl/code/jbolo/python/')"
   ]
  },
  {
   "cell_type": "code",
   "execution_count": 2,
   "metadata": {},
   "outputs": [
    {
     "name": "stdout",
     "output_type": "stream",
     "text": [
      "CHLAT_20211210.yaml          \u001b[34mSO_S4_comparison\u001b[m\u001b[m\n",
      "SAT_HF_20211210.yaml         SPLAT_20211210.yaml\n",
      "SAT_HF_20220216.yaml         SPLAT_20211210_bandfile.yaml\n",
      "SAT_LFMF_20211210.yaml       spt3g.yaml\n",
      "SAT_LFMF_20220216.yaml       test.yaml\n",
      "CHLAT_20220218_flatbands.yaml SO_likeS4_jjmbands.yaml\n",
      "CHLAT_20220218_jjmbands.yaml  SO_v3r7_flatbands.yaml\n",
      "SO_likeS4_flatbands.yaml      SO_v3r7_jjmbands.yaml\n"
     ]
    }
   ],
   "source": [
    "# List what yaml files you have so you can choose one for the next line.\n",
    "!ls yamls \n",
    "!ls yamls/SO*"
   ]
  },
  {
   "cell_type": "code",
   "execution_count": 7,
   "metadata": {},
   "outputs": [],
   "source": [
    "# Run the flat-band CHLAT \"common\" model"
   ]
  },
  {
   "cell_type": "code",
   "execution_count": 8,
   "metadata": {},
   "outputs": [
    {
     "name": "stdout",
     "output_type": "stream",
     "text": [
      "20220218 : CHLAT_comp_jjm\n",
      "                      LF_1       LF_2       MF_1       MF_2       HF_1       HF_2\n",
      " det_bandcenter :    17.264     27.125     63.076    109.550    163.326    203.256  \n",
      "  det_bandwidth :     8.355     16.839     28.513     37.873     55.342     55.116  \n",
      " sys_bandcenter :    26.229     39.972     93.181    149.261    227.076    285.880  \n",
      "  sys_bandwidth :     7.552     14.053     25.263     38.821     53.692     54.970  \n",
      " sky_bandcenter :    26.199     40.336     92.502    147.931    228.166    277.064  \n",
      "  sky_bandwidth :     7.542     14.253     25.074     38.493     53.979     53.395  \n",
      "          P_opt :     0.248      1.385      1.486      4.260     11.859     16.614  \n",
      "          P_sat :     0.743      4.155      4.459     12.779     35.577     49.843  \n",
      "         F_link :     0.524      0.524      0.524      0.524      0.524      0.524  \n",
      "      G_dynamic :    20.837    116.564    125.100    358.509    998.071   1398.301  \n",
      "           dpdt :     0.016      0.062      0.058      0.112      0.105      0.054  \n",
      "     NEP_phonon :     3.929      9.293      9.627     16.297     27.193     32.186  \n",
      "   NEP_photonNC :     4.613     16.253     17.548     40.390     90.722    122.667  \n",
      "    NEP_photonC :     6.104     16.446     20.145     41.285     91.474    123.243  \n",
      "    NEP_readout :     0.009      0.026      0.028      0.062      0.134      0.179  \n",
      "   NEP_NC_total :     6.060     18.722     20.016     43.555     94.710    126.819  \n",
      "   NET_NC_total :   260.888    214.234    245.290    274.982    637.729   1659.182  \n",
      "    corr_factor :     1.198      1.009      1.115      1.019      1.008      1.004  \n",
      "    NET_C_total :   312.550    216.153    273.616    280.229    642.579   1666.474  \n",
      "    NET_C_wafer :    35.665     24.665     10.407     10.659     23.457     60.835  \n"
     ]
    }
   ],
   "source": [
    "%run python/RunOnce.py yamls/SO_S4_comparison/CHLAT_20220218_jjmbands.yaml\n",
    "\n",
    "# or, if you want an output pickle file to store the whole sim:\n",
    "# %run python/jbolo.py yamls/SPLAT_20211210_bandfile.yaml --pkl_out='output_pickle_filename.pkl'\n",
    "\n",
    "# Note that you can run jbolo.py from the command line if you prefer,\n",
    "# python python/jbolo.py yamls/SPLAT_20211210_bandfile.yaml"
   ]
  },
  {
   "cell_type": "code",
   "execution_count": 9,
   "metadata": {
    "scrolled": false
   },
   "outputs": [
    {
     "name": "stdout",
     "output_type": "stream",
     "text": [
      "-----------------\n",
      "LF_1\n",
      "Element            Popt(pW)   Effic  Effic_cumul\n",
      "detector       :    0.0000     0.1867    1.0000\n",
      "objlens        :    0.0000     0.9929    0.1867\n",
      "lyot           :    0.0396     0.3299    0.1854\n",
      "lowpass        :    0.0001     0.9400    0.0469\n",
      "colimlens      :    0.0001     0.9929    0.0441\n",
      "fieldlens      :    0.0001     0.9929    0.0438\n",
      "nylon_filt     :    0.0000     0.9897    0.0435\n",
      "alumina_filt   :    0.0054     0.9842    0.0431\n",
      "RTMLI_10       :    0.0105     0.9960    0.0424\n",
      "window         :    0.0038     0.9891    0.0422\n",
      "secondary      :    0.0680     0.9854    0.0418\n",
      "primary        :    0.0210     0.9954    0.0412\n",
      "atmosphere     :    0.0632     0.9792    0.0410\n",
      "cmb            :    0.0359     0.0000    0.0404\n",
      "P_optical_total =  2.4758e-13\n",
      "-----------------\n",
      "LF_2\n",
      "Element            Popt(pW)   Effic  Effic_cumul\n",
      "detector       :    0.0000     0.2344    1.0000\n",
      "objlens        :    0.0001     0.9924    0.2344\n",
      "lyot           :    0.0426     0.5626    0.2327\n",
      "lowpass        :    0.0004     0.9400    0.1125\n",
      "colimlens      :    0.0004     0.9924    0.1058\n",
      "fieldlens      :    0.0004     0.9924    0.1050\n",
      "nylon_filt     :    0.0003     0.9893    0.1042\n",
      "alumina_filt   :    0.0326     0.9813    0.1031\n",
      "RTMLI_10       :    0.0416     0.9960    0.1013\n",
      "window         :    0.0228     0.9886    0.1009\n",
      "secondary      :    0.2730     0.9852    0.0997\n",
      "primary        :    0.0865     0.9952    0.0983\n",
      "atmosphere     :    0.7630     0.6859    0.0978\n",
      "cmb            :    0.1213     0.0000    0.0933\n",
      "P_optical_total =  1.3850e-12\n",
      "-----------------\n",
      "MF_1\n",
      "Element            Popt(pW)   Effic  Effic_cumul\n",
      "detector       :    0.0000     0.2306    1.0000\n",
      "objlens        :    0.0000     0.9905    0.2306\n",
      "lyot           :    0.0218     0.3649    0.2284\n",
      "lowpass        :    0.0001     0.9400    0.0754\n",
      "colimlens      :    0.0009     0.9905    0.0709\n",
      "fieldlens      :    0.0008     0.9905    0.0702\n",
      "nylon_filt     :    0.0022     0.9832    0.0695\n",
      "alumina_filt   :    0.0834     0.9712    0.0684\n",
      "RTMLI_10       :    0.0460     0.9960    0.0665\n",
      "window         :    0.0590     0.9870    0.0662\n",
      "secondary      :    0.3143     0.9846    0.0654\n",
      "primary        :    0.1073     0.9946    0.0644\n",
      "atmosphere     :    0.7728     0.7608    0.0640\n",
      "cmb            :    0.0777     0.0000    0.0613\n",
      "P_optical_total =  1.4864e-12\n",
      "-----------------\n",
      "MF_2\n",
      "Element            Popt(pW)   Effic  Effic_cumul\n",
      "detector       :    0.0000     0.2800    1.0000\n",
      "objlens        :    0.0000     0.9887    0.2800\n",
      "lyot           :    0.0030     0.6415    0.2768\n",
      "lowpass        :    0.0000     0.9400    0.1785\n",
      "colimlens      :    0.0028     0.9887    0.1678\n",
      "fieldlens      :    0.0027     0.9887    0.1659\n",
      "nylon_filt     :    0.0167     0.9663    0.1640\n",
      "alumina_filt   :    0.3543     0.9612    0.1585\n",
      "RTMLI_10       :    0.1229     0.9960    0.1523\n",
      "window         :    0.2534     0.9854    0.1517\n",
      "secondary      :    0.8783     0.9840    0.1495\n",
      "primary        :    0.3231     0.9940    0.1471\n",
      "atmosphere     :    2.1937     0.8385    0.1462\n",
      "cmb            :    0.1088     0.0000    0.1399\n",
      "P_optical_total =  4.2598e-12\n",
      "-----------------\n",
      "HF_1\n",
      "Element            Popt(pW)   Effic  Effic_cumul\n",
      "detector       :    0.0000     0.2660    1.0000\n",
      "objlens        :    0.0000     0.9860    0.2660\n",
      "lyot           :    0.0001     0.8710    0.2623\n",
      "lowpass        :    0.0000     0.9400    0.2359\n",
      "colimlens      :    0.0051     0.9860    0.2217\n",
      "fieldlens      :    0.0051     0.9860    0.2186\n",
      "nylon_filt     :    0.0661     0.9202    0.2155\n",
      "alumina_filt   :    0.9727     0.9471    0.1983\n",
      "RTMLI_10       :    0.2446     0.9956    0.1878\n",
      "window         :    0.7068     0.9832    0.1870\n",
      "secondary      :    1.7231     0.9829    0.1838\n",
      "primary        :    0.7038     0.9929    0.1807\n",
      "atmosphere     :    7.3600     0.8755    0.1794\n",
      "cmb            :    0.0715     0.0000    0.1651\n",
      "P_optical_total =  1.1859e-11\n",
      "-----------------\n",
      "HF_2\n",
      "Element            Popt(pW)   Effic  Effic_cumul\n",
      "detector       :    0.0000     0.2613    1.0000\n",
      "objlens        :    0.0000     0.9842    0.2613\n",
      "lyot           :    0.0000     0.9518    0.2571\n",
      "lowpass        :    0.0000     0.9400    0.2504\n",
      "colimlens      :    0.0047     0.9842    0.2354\n",
      "fieldlens      :    0.0046     0.9842    0.2316\n",
      "nylon_filt     :    0.0903     0.8670    0.2278\n",
      "alumina_filt   :    1.1837     0.9379    0.1975\n",
      "RTMLI_10       :    0.4551     0.9917    0.1849\n",
      "window         :    0.8672     0.9817    0.1833\n",
      "secondary      :    1.7806     0.9820    0.1799\n",
      "primary        :    0.7855     0.9920    0.1766\n",
      "atmosphere     :   11.4132     0.8387    0.1752\n",
      "cmb            :    0.0296     0.0000    0.1530\n",
      "P_optical_total =  1.6614e-11\n"
     ]
    }
   ],
   "source": [
    "# Print any on channel's optical elements table, basic properties\n",
    "import jbolo_funcs as jbf\n",
    "for ch in sim['channels'].keys():\n",
    "    print('-----------------')\n",
    "    jbf.print_optics(sim,ch)"
   ]
  },
  {
   "cell_type": "markdown",
   "metadata": {},
   "source": [
    "# Run the SO Lat \"common\" model"
   ]
  },
  {
   "cell_type": "code",
   "execution_count": 10,
   "metadata": {},
   "outputs": [
    {
     "name": "stdout",
     "output_type": "stream",
     "text": [
      "CHLAT_20220218_flatbands.yaml SO_likeS4_jjmbands.yaml\r\n",
      "CHLAT_20220218_jjmbands.yaml  SO_v3r7_flatbands.yaml\r\n",
      "SO_likeS4_flatbands.yaml      SO_v3r7_jjmbands.yaml\r\n"
     ]
    }
   ],
   "source": [
    "!ls yamls/SO_S4_comparison/"
   ]
  },
  {
   "cell_type": "code",
   "execution_count": 11,
   "metadata": {},
   "outputs": [
    {
     "name": "stdout",
     "output_type": "stream",
     "text": [
      "20220218 : SO_comp_jjm\n",
      "                      LF_1       LF_2       MF_1       MF_2       HF_1       HF_2\n",
      " det_bandcenter :    17.264     27.125     63.076    109.550    163.326    203.256  \n",
      "  det_bandwidth :     8.355     16.839     28.513     37.873     55.342     55.116  \n",
      " sys_bandcenter :    26.239     40.025     93.214    149.344    227.195    285.929  \n",
      "  sys_bandwidth :     7.523     13.921     25.181     38.920     53.336     54.881  \n",
      " sky_bandcenter :    26.208     40.387     92.534    148.037    228.274    278.300  \n",
      "  sky_bandwidth :     7.513     14.119     24.993     38.597     53.618     53.538  \n",
      "          P_opt :     0.192      1.082      1.124      3.358     10.248     15.450  \n",
      "          P_sat :     0.577      3.247      3.373     10.075     30.745     46.349  \n",
      "         F_link :     0.524      0.524      0.524      0.524      0.524      0.524  \n",
      "      G_dynamic :    16.190     91.088     94.619    282.639    862.509   1300.275  \n",
      "           dpdt :     0.013      0.049      0.045      0.091      0.093      0.052  \n",
      "     NEP_phonon :     3.463      8.215      8.373     14.471     25.279     31.038  \n",
      "   NEP_photonNC :     3.783     13.209     14.483     34.001     81.111    115.896  \n",
      "    NEP_photonC :     5.035     13.666     16.742     34.183     82.883    116.156  \n",
      "    NEP_readout :     0.007      0.022      0.024      0.052      0.120      0.170  \n",
      "   NEP_NC_total :     5.129     15.555     16.729     36.952     84.959    119.980  \n",
      "   NET_NC_total :   285.416    224.802    264.139    287.253    646.274   1634.680  \n",
      "    corr_factor :     1.191      1.025      1.119      1.005      1.020      1.002  \n",
      "    NET_C_total :   340.065    230.445    295.559    288.559    659.159   1638.104  \n",
      "    NET_C_wafer :    38.804     26.296     11.242     10.976     24.063     59.799  \n"
     ]
    }
   ],
   "source": [
    "%run python/RunOnce.py yamls/SO_S4_comparison/SO_v3r7_jjmbands.yaml"
   ]
  },
  {
   "cell_type": "code",
   "execution_count": 12,
   "metadata": {
    "scrolled": false
   },
   "outputs": [
    {
     "name": "stdout",
     "output_type": "stream",
     "text": [
      "-----------------\n",
      "LF_1\n",
      "  P_sat:          0.70\n",
      "  F_link:         0.52\n",
      "  G_dynamic:   1.97e-11\n",
      "  NEP_phonon:     3.82\n",
      "  NET_uncorr:   273.75\n",
      "  NET_corr:     342.43\n",
      "  Corr_factor:   1.251\n",
      "  NET_NC_wafer:     31.24\n",
      "  NET_C_wafer:     39.07\n",
      "-----------------\n",
      "LF_2\n",
      "  P_sat:          3.64\n",
      "  F_link:         0.52\n",
      "  G_dynamic:   1.02e-10\n",
      "  NEP_phonon:     8.70\n",
      "  NET_uncorr:   217.69\n",
      "  NET_corr:     228.69\n",
      "  Corr_factor:   1.051\n",
      "  NET_NC_wafer:     24.84\n",
      "  NET_C_wafer:     26.10\n",
      "-----------------\n",
      "MF_1\n",
      "  P_sat:          4.11\n",
      "  F_link:         0.52\n",
      "  G_dynamic:   1.15e-10\n",
      "  NEP_phonon:     9.24\n",
      "  NET_uncorr:   250.59\n",
      "  NET_corr:     289.38\n",
      "  Corr_factor:   1.155\n",
      "  NET_NC_wafer:      9.53\n",
      "  NET_C_wafer:     11.01\n",
      "-----------------\n",
      "MF_2\n",
      "  P_sat:         12.49\n",
      "  F_link:         0.52\n",
      "  G_dynamic:   3.50e-10\n",
      "  NEP_phonon:    16.11\n",
      "  NET_uncorr:   281.08\n",
      "  NET_corr:     285.31\n",
      "  Corr_factor:   1.015\n",
      "  NET_NC_wafer:     10.69\n",
      "  NET_C_wafer:     10.85\n",
      "-----------------\n",
      "HF_1\n",
      "  P_sat:         34.61\n",
      "  F_link:         0.52\n",
      "  G_dynamic:   9.71e-10\n",
      "  NEP_phonon:    26.82\n",
      "  NET_uncorr:   652.48\n",
      "  NET_corr:     657.80\n",
      "  Corr_factor:   1.008\n",
      "  NET_NC_wafer:     23.82\n",
      "  NET_C_wafer:     24.01\n",
      "-----------------\n",
      "HF_2\n",
      "  P_sat:         48.28\n",
      "  F_link:         0.52\n",
      "  G_dynamic:   1.35e-09\n",
      "  NEP_phonon:    31.68\n",
      "  NET_uncorr:  1659.88\n",
      "  NET_corr:    1671.67\n",
      "  Corr_factor:   1.007\n",
      "  NET_NC_wafer:     60.59\n",
      "  NET_C_wafer:     61.02\n"
     ]
    }
   ],
   "source": [
    "# Print any on channel's optical elements table, basic properties\n",
    "import jbolo_funcs as jbf\n",
    "for ch in sim['channels'].keys():\n",
    "    print('-----------------')\n",
    "    jbf.print_detector(sim,ch)"
   ]
  },
  {
   "cell_type": "markdown",
   "metadata": {},
   "source": [
    "# Run a version of SO that is like S4, but with changes to (only) the f/# and silicon lens thicknesses."
   ]
  },
  {
   "cell_type": "code",
   "execution_count": 15,
   "metadata": {},
   "outputs": [
    {
     "name": "stdout",
     "output_type": "stream",
     "text": [
      "20220218 : CHLAT_comp_flat\n",
      "                      LF_1       LF_2       MF_1       MF_2       HF_1       HF_2\n",
      " det_bandcenter :    25.700     38.740     91.450    148.450    226.990    285.500  \n",
      "  det_bandwidth :     8.400     17.500     28.900     40.900     58.100     59.100  \n",
      " sys_bandcenter :    26.099     39.705     92.697    149.564    227.670    285.682  \n",
      "  sys_bandwidth :     6.503     13.205     22.902     35.378     54.817     58.319  \n",
      " sky_bandcenter :    26.081     41.858     92.941    152.742    229.130    282.897  \n",
      "  sky_bandwidth :     6.497     13.956     22.951     36.144     55.204     57.844  \n",
      "          P_opt :     0.210      1.093      1.203      3.787     11.033     15.801  \n",
      "          P_sat :     0.630      3.279      3.609     11.362     33.100     47.404  \n",
      "         F_link :     0.524      0.524      0.524      0.524      0.524      0.524  \n",
      "      G_dynamic :    17.683     91.989    101.240    318.738    928.589   1329.879  \n",
      "           dpdt :     0.013      0.053      0.048      0.101      0.098      0.053  \n",
      "     NEP_phonon :     3.619      8.255      8.661     15.367     26.229     31.389  \n",
      "   NEP_photonNC :     4.216     14.899     15.750     38.503     87.367    121.412  \n",
      "    NEP_photonC :     6.022     17.121     19.125     38.697     89.379    121.771  \n",
      "    NEP_readout :     0.008      0.024      0.025      0.059      0.129      0.177  \n",
      "   NEP_NC_total :     5.556     17.034     17.974     41.456     91.219    125.404  \n",
      "   NET_NC_total :   292.580    225.285    262.651    289.343    661.460   1670.822  \n",
      "    corr_factor :     1.265      1.116      1.168      1.004      1.021      1.003  \n",
      "    NET_C_total :   369.974    251.389    306.799    290.601    675.451   1675.462  \n",
      "    NET_C_wafer :    42.217     28.686     11.669     11.053     24.657     61.163  \n"
     ]
    }
   ],
   "source": [
    "%run python/RunOnce.py yamls/SO_S4_comparison/SO_likeS4_flatbands.yaml"
   ]
  },
  {
   "cell_type": "code",
   "execution_count": null,
   "metadata": {},
   "outputs": [],
   "source": []
  }
 ],
 "metadata": {
  "kernelspec": {
   "display_name": "Python 3",
   "language": "python",
   "name": "python3"
  },
  "language_info": {
   "codemirror_mode": {
    "name": "ipython",
    "version": 3
   },
   "file_extension": ".py",
   "mimetype": "text/x-python",
   "name": "python",
   "nbconvert_exporter": "python",
   "pygments_lexer": "ipython3",
   "version": "3.8.3"
  }
 },
 "nbformat": 4,
 "nbformat_minor": 4
}
